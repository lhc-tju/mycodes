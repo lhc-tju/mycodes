{
 "cells": [
  {
   "cell_type": "code",
   "execution_count": 19,
   "metadata": {
    "scrolled": false
   },
   "outputs": [
    {
     "name": "stdout",
     "output_type": "stream",
     "text": [
      "ok\n"
     ]
    }
   ],
   "source": [
    "from selenium import webdriver # 从selenium导入webdriver\n",
    "\n",
    "driver = webdriver.Chrome()  # Optional argument, if not specified will search path.\n",
    "driver.get('https://www.baidu.com') # 获取百度页面\n",
    "inputElement = driver.find_element_by_id('kw') #获取输入框\n",
    "searchButton = driver.find_element_by_id('su') #获取搜索按钮\n",
    "\n",
    "inputElement.send_keys(\"Python\") #输入框输入\"Python\"\n",
    "searchButton.click() #搜索\n",
    "print('ok')"
   ]
  },
  {
   "cell_type": "code",
   "execution_count": 37,
   "metadata": {},
   "outputs": [
    {
     "name": "stdout",
     "output_type": "stream",
     "text": [
      "<html xmlns=\"http://www.w3.org/1999/xhtml\"><head></head><body marginheight=\"0\"></body></html>\n"
     ]
    }
   ],
   "source": [
    "from selenium import webdriver # 从selenium导入webdriver\n",
    "from selenium.webdriver.common.keys import Keys\n",
    "driver = webdriver.Chrome()  # Optional argument, if not specified will search path.\n",
    "driver.get('http://kns.cnki.net/kns/brief/result.aspx?dbprefix=SCDB&crossDbcodes=CJFQ,CDFD,CMFD,CPFD,IPFD,CCND,CCJD')\n",
    "scholars = ['丁芸'] # 学者名单列表\n",
    "scho_institution = {'丁芸':'首都经济贸易大学'} #机构对应表\n",
    "\n",
    "for item in scholars:\n",
    "    name = driver.find_element_by_id('au_1_value1')\n",
    "    institution = driver.find_element_by_id('au_1_value2')\n",
    "    #button = driver.find_element_by_id('btnSearch')\n",
    "    #输入检索条件\n",
    "    name.send_keys(item) \n",
    "    institution.send_keys(scho_institution[item])\n",
    "    institution.send_keys(Keys.ENTER) \n",
    "    driver.switch_to_frame('iframeResult')\n",
    "    \n",
    "    #点击搜索\n",
    "    \n",
    "    sour = driver.page_source\n",
    "    #content = driver.find_element_by_class_name('.GridTableContent').text\n",
    "    print(sour)\n"
   ]
  },
  {
   "cell_type": "code",
   "execution_count": null,
   "metadata": {},
   "outputs": [],
   "source": []
  }
 ],
 "metadata": {
  "kernelspec": {
   "display_name": "Python 3",
   "language": "python",
   "name": "python3"
  },
  "language_info": {
   "codemirror_mode": {
    "name": "ipython",
    "version": 3
   },
   "file_extension": ".py",
   "mimetype": "text/x-python",
   "name": "python",
   "nbconvert_exporter": "python",
   "pygments_lexer": "ipython3",
   "version": "3.6.4"
  }
 },
 "nbformat": 4,
 "nbformat_minor": 2
}
