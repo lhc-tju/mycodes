{
 "cells": [
  {
   "cell_type": "code",
   "execution_count": 2,
   "metadata": {},
   "outputs": [
    {
     "name": "stdout",
     "output_type": "stream",
     "text": [
      "<li class=\"search-list-item\">\n",
      "          2019年03月15日 ~ 2019年06月13日 每天 13:00 - 15:00\n",
      "          <span class=\"separator\"> | </span>\n",
      "          北京市朝阳区,国家体育场南路1号奥林匹克公园 鸟巢与水立方中间大广场位置\n",
      "          <span class=\"separator\"> | </span>\n",
      "            <a href=\"https://site.douban.com/285988/\">泡泡圈同城吃喝玩乐</a>\n",
      "          </li>\n"
     ]
    }
   ],
   "source": [
    "import requests \n",
    "from bs4 import BeautifulSoup\n",
    "\n",
    "url = 'https://www.douban.com/event/search?loc=beijing&search_text=%E5%9B%BD%E5%AE%B6%E4%BD%93%E8%82%B2%E5%9C%BA&start=0'\n",
    "res = requests.get(url)\n",
    "res.encoding='utf-8'\n",
    "soup = BeautifulSoup(res.text,'html5lib')\n",
    "\n",
    "#活动名\n",
    "item_name = soup.select('.search-list-entry .event-title')\n",
    "#活动时间 地点\n",
    "item_time_place = soup.select('.search-list-entry .search-list-item')\n",
    "\n",
    "\n",
    "#票价\n",
    "\n",
    "#标签\n",
    "item_time_label = soup.select('.search-list-entry .search-list-item a')\n",
    "\n",
    "a = item_time_place[0].contents\n",
    "\n",
    "for items in item_time_place:\n",
    "    print(items)\n",
    "    break\n",
    "\n",
    "\n"
   ]
  },
  {
   "cell_type": "code",
   "execution_count": 13,
   "metadata": {},
   "outputs": [
    {
     "data": {
      "text/plain": [
       "[<a href=\"https://site.douban.com/267084/\">票牛</a>,\n",
       " <a class=\"search-link-gray\" href=\"https://www.douban.com/event/30524858/participant\"><span class=\"search-event-count\">4</span>人要参加</a>,\n",
       " <a class=\"search-link-gray\" href=\"https://www.douban.com/event/30524858/wisher\"><span class=\"search-event-count\">16</span>人感兴趣</a>,\n",
       " <a href=\"https://site.douban.com/267084/\">票牛</a>,\n",
       " <a class=\"search-link-gray\" href=\"https://www.douban.com/event/30658008/participant\"><span class=\"search-event-count\">13</span>人要参加</a>,\n",
       " <a class=\"search-link-gray\" href=\"https://www.douban.com/event/30658008/wisher\"><span class=\"search-event-count\">10</span>人感兴趣</a>,\n",
       " <a class=\"search-link-gray\" href=\"https://www.douban.com/event/30658008/discussion/\"><span class=\"search-event-count\">2</span>条讨论</a>,\n",
       " <a href=\"https://site.douban.com/267084/\">票牛</a>,\n",
       " <a class=\"search-link-gray\" href=\"https://www.douban.com/event/29649275/participant\"><span class=\"search-event-count\">5</span>人要参加</a>,\n",
       " <a class=\"search-link-gray\" href=\"https://www.douban.com/event/29649275/wisher\"><span class=\"search-event-count\">44</span>人感兴趣</a>,\n",
       " <a href=\"https://site.douban.com/267084/\">票牛</a>,\n",
       " <a class=\"search-link-gray\" href=\"https://www.douban.com/event/29649258/participant\"><span class=\"search-event-count\">46</span>人要参加</a>,\n",
       " <a class=\"search-link-gray\" href=\"https://www.douban.com/event/29649258/wisher\"><span class=\"search-event-count\">182</span>人感兴趣</a>,\n",
       " <a class=\"search-link-gray\" href=\"https://www.douban.com/event/29649258/discussion/\"><span class=\"search-event-count\">1</span>条讨论</a>,\n",
       " <a href=\"https://site.douban.com/huachenyu/\">华晨宇</a>,\n",
       " <a class=\"search-link-gray\" href=\"/event/search?loc=beijing&amp;search_text=%E5%8D%8E%E6%99%A8%E5%AE%87\">华晨宇</a>,\n",
       " <a class=\"search-link-gray\" href=\"/event/search?loc=beijing&amp;search_text=%E9%B8%9F%E5%B7%A2\">鸟巢</a>,\n",
       " <a class=\"search-link-gray\" href=\"/event/search?loc=beijing&amp;search_text=%E6%BC%94%E5%94%B1%E4%BC%9A\">演唱会</a>,\n",
       " <a class=\"search-link-gray\" href=\"https://www.douban.com/event/30549549/participant\"><span class=\"search-event-count\">316</span>人要参加</a>,\n",
       " <a class=\"search-link-gray\" href=\"https://www.douban.com/event/30549549/wisher\"><span class=\"search-event-count\">125</span>人感兴趣</a>,\n",
       " <a class=\"search-link-gray\" href=\"https://www.douban.com/event/30549549/discussion/\"><span class=\"search-event-count\">15</span>条讨论</a>,\n",
       " <a href=\"https://site.douban.com/267084/\">票牛</a>,\n",
       " <a class=\"search-link-gray\" href=\"https://www.douban.com/event/30657994/participant\"><span class=\"search-event-count\">34</span>人要参加</a>,\n",
       " <a class=\"search-link-gray\" href=\"https://www.douban.com/event/30657994/wisher\"><span class=\"search-event-count\">26</span>人感兴趣</a>,\n",
       " <a class=\"search-link-gray\" href=\"https://www.douban.com/event/30657994/discussion/\"><span class=\"search-event-count\">3</span>条讨论</a>,\n",
       " <a href=\"https://www.douban.com/location/people/160465680/\">亲子坐标</a>,\n",
       " <a class=\"search-link-gray\" href=\"/event/search?loc=beijing&amp;search_text=%E7%A7%91%E6%8A%80%E8%8A%82\">科技节</a>,\n",
       " <a class=\"search-link-gray\" href=\"/event/search?loc=beijing&amp;search_text=%E9%B8%9F%E5%B7%A2\">鸟巢</a>,\n",
       " <a class=\"search-link-gray\" href=\"/event/search?loc=beijing&amp;search_text=%E4%BA%B2%E5%AD%90\">亲子</a>,\n",
       " <a class=\"search-link-gray\" href=\"https://www.douban.com/event/30865729/participant\"><span class=\"search-event-count\">1</span>人要参加</a>,\n",
       " <a class=\"search-link-gray\" href=\"https://www.douban.com/event/30865729/wisher\"><span class=\"search-event-count\">0</span>人感兴趣</a>,\n",
       " <a href=\"https://www.douban.com/location/people/160465680/\">亲子坐标</a>,\n",
       " <a class=\"search-link-gray\" href=\"/event/search?loc=beijing&amp;search_text=PNSO%E6%81%90%E9%BE%99%E5%B1%95\">PNSO恐龙展</a>,\n",
       " <a class=\"search-link-gray\" href=\"https://www.douban.com/event/30643057/participant\"><span class=\"search-event-count\">16</span>人要参加</a>,\n",
       " <a class=\"search-link-gray\" href=\"https://www.douban.com/event/30643057/wisher\"><span class=\"search-event-count\">49</span>人感兴趣</a>,\n",
       " <a class=\"search-link-gray\" href=\"https://www.douban.com/event/30643057/discussion/\"><span class=\"search-event-count\">1</span>条讨论</a>,\n",
       " <a href=\"https://site.douban.com/267084/\">票牛</a>,\n",
       " <a class=\"search-link-gray\" href=\"https://www.douban.com/event/30782483/participant\"><span class=\"search-event-count\">0</span>人要参加</a>,\n",
       " <a class=\"search-link-gray\" href=\"https://www.douban.com/event/30782483/wisher\"><span class=\"search-event-count\">0</span>人感兴趣</a>,\n",
       " <a href=\"https://site.douban.com/267084/\">票牛</a>,\n",
       " <a class=\"search-link-gray\" href=\"https://www.douban.com/event/30782499/participant\"><span class=\"search-event-count\">0</span>人要参加</a>,\n",
       " <a class=\"search-link-gray\" href=\"https://www.douban.com/event/30782499/wisher\"><span class=\"search-event-count\">0</span>人感兴趣</a>]"
      ]
     },
     "execution_count": 13,
     "metadata": {},
     "output_type": "execute_result"
    }
   ],
   "source": [
    "aa = soup.select('.search-list-entry .search-list-item a')\n",
    "aa"
   ]
  },
  {
   "cell_type": "code",
   "execution_count": 38,
   "metadata": {},
   "outputs": [
    {
     "name": "stdout",
     "output_type": "stream",
     "text": [
      "['亲子坐标', '科技节', '鸟巢', '亲子', '华晨宇', '华晨宇', '鸟巢', '演唱会', '亲子坐标', 'PNSO恐龙展']\n"
     ]
    }
   ],
   "source": [
    "labellist = []\n",
    "\n",
    "for item in item_time_label:\n",
    "    item = item.text\n",
    "    if item[-2:] != '讨论' and item[-2:] != '兴趣' and item[-2:] != '参加'and item[-2:] != '票牛':\n",
    "        labellist.append(item)\n",
    "    #只要末尾不是 ‘讨论’ ‘感兴趣’ ‘参加’ ，就加到list里面\n",
    "    \n",
    "    \n",
    "print(labellist)\n",
    "    "
   ]
  },
  {
   "cell_type": "code",
   "execution_count": 30,
   "metadata": {},
   "outputs": [
    {
     "data": {
      "text/plain": [
       "'你'"
      ]
     },
     "execution_count": 30,
     "metadata": {},
     "output_type": "execute_result"
    }
   ],
   "source": [
    "a = '我爱你'\n",
    "a[-1]"
   ]
  },
  {
   "cell_type": "code",
   "execution_count": 35,
   "metadata": {},
   "outputs": [
    {
     "data": {
      "text/plain": [
       "'爱你'"
      ]
     },
     "execution_count": 35,
     "metadata": {},
     "output_type": "execute_result"
    }
   ],
   "source": [
    "a[-2:]"
   ]
  }
 ],
 "metadata": {
  "kernelspec": {
   "display_name": "Python 3",
   "language": "python",
   "name": "python3"
  },
  "language_info": {
   "codemirror_mode": {
    "name": "ipython",
    "version": 3
   },
   "file_extension": ".py",
   "mimetype": "text/x-python",
   "name": "python",
   "nbconvert_exporter": "python",
   "pygments_lexer": "ipython3",
   "version": "3.6.4"
  }
 },
 "nbformat": 4,
 "nbformat_minor": 2
}
