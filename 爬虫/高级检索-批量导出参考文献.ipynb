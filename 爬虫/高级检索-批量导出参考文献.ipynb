{
 "cells": [
  {
   "cell_type": "code",
   "execution_count": 37,
   "metadata": {},
   "outputs": [
    {
     "name": "stdout",
     "output_type": "stream",
     "text": [
      "丁芸 已完成\n",
      "王少国 已完成\n",
      "ok\n"
     ]
    }
   ],
   "source": [
    "#selenium 批量导出参考文献 尝试\n",
    "from selenium import webdriver # 从selenium导入webdriver\n",
    "from selenium.webdriver.common.keys import Keys\n",
    "import time\n",
    "#高级搜索页面，可以根据具体要求改变检索条件，当前为作者+机构（模糊）\n",
    "scholars = ['丁芸','王少国'] # 学者名单列表\n",
    "scho_institution = {'丁芸':'首都经济贸易大学','王少国':'首都经济贸易大学'} #机构对应表\n",
    "\n",
    "driver = webdriver.Chrome()  # Optional argument, if not specified will search path.\n",
    "driver.get('http://kns.cnki.net/kns/brief/result.aspx?dbprefix=SCDB&crossDbcodes=CJFQ,CDFD,CMFD,CPFD,IPFD,CCND,CCJD')\n",
    "for scholar in scholars:\n",
    "    try:\n",
    "        name = driver.find_element_by_id('au_1_value1')#name.clear()\n",
    "        name.clear()\n",
    "        name.send_keys(scholar)\n",
    "        institution = driver.find_element_by_id('au_1_value2') #institution.clear()\n",
    "        institution.clear()\n",
    "        institution.send_keys(scho_institution[scholar])\n",
    "        institution.send_keys(Keys.ENTER) \n",
    "        time.sleep(1) \n",
    "        flag = True #用于定位iframe， 以及在首页时的下一页链接\n",
    "        while True:\n",
    "            if flag:\n",
    "                driver.switch_to_frame('iframeResult')\n",
    "                to_clear = driver.find_element_by_xpath('//*[@id=\"J_ORDER\"]/tbody/tr[2]/td/table/tbody/tr/td[1]/div/span/a')\n",
    "                to_clear.click()\n",
    "            check_box = driver.find_element_by_id('selectCheckbox')\n",
    "            check_box.click()  # 全选\n",
    "            time.sleep(0.5)\n",
    "            #n_next = driver.find_element_by_class_name('TitleLeftCell')\n",
    "            try:\n",
    "                next_page = driver.find_element_by_link_text(u'下一页')\n",
    "            except:\n",
    "                time.sleep(1)\n",
    "                break #没有下一页\n",
    "            next_page.click() #下一页\n",
    "            flag = False\n",
    "            time.sleep(1)        \n",
    "        export = driver.find_element_by_xpath('//*[@id=\"J_ORDER\"]/tbody/tr[2]/td/table/tbody/tr/td[1]/div/a[2]')\n",
    "        export.click()\n",
    "        driver.switch_to_window(driver.window_handles[1]) #可能要重新定位windows\n",
    "        time.sleep(2)\n",
    "        zidingyi = driver.find_element_by_xpath('//*[@id=\"SaveTypeList\"]/li[10]/span[1]/a')\n",
    "        zidingyi.click()\n",
    "        time.sleep(0.5)\n",
    "        select_all = driver.find_element_by_xpath('//*[@id=\"selfDefine\"]/table/tbody/tr[4]/td/input[1]')\n",
    "        select_all.click()\n",
    "        time.sleep(2)\n",
    "        download = driver.find_element_by_xpath('//*[@id=\"exportExcel\"]')     #下载 excel\n",
    "        download.click()\n",
    "        driver.close()\n",
    "        driver.switch_to_window(driver.window_handles[0])\n",
    "        print(scholar + ' ' + '已完成')\n",
    "        time.sleep(1.0) \n",
    "    except:\n",
    "        print(scholar + ' ' + '数据导出失败')\n",
    "print('ok')\n"
   ]
  }
 ],
 "metadata": {
  "kernelspec": {
   "display_name": "Python 3",
   "language": "python",
   "name": "python3"
  },
  "language_info": {
   "codemirror_mode": {
    "name": "ipython",
    "version": 3
   },
   "file_extension": ".py",
   "mimetype": "text/x-python",
   "name": "python",
   "nbconvert_exporter": "python",
   "pygments_lexer": "ipython3",
   "version": "3.6.4"
  }
 },
 "nbformat": 4,
 "nbformat_minor": 2
}
