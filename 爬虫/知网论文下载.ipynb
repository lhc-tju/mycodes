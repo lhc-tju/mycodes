{
 "cells": [
  {
   "cell_type": "code",
   "execution_count": 15,
   "metadata": {},
   "outputs": [],
   "source": [
    "'''\n",
    "论文下载-知网\n",
    "'''\n",
    "# 用selenium 下载\n",
    "# 院校数目： 80 *  学者数 50 * 科研成果数目 100\n",
    "# 40万 \n",
    "# 不能放在一起下载\n",
    "# selenium 解析速度有些慢 \n",
    "# 有没有可能将python程序做成服务接口，使用者使用本地资源进行下载\n",
    "# 云端服务，本地计算，资源下载到本地\n",
    "# 能否利用武大时空数据实验室来开展（需求和立意很像）\n",
    "\n",
    "# 不用去国图，好像也可以下载论文？ 记得试一下\n",
    "#\n",
    "import time\n",
    "from selenium import webdriver # 从selenium导入webdriver\n",
    "from selenium.webdriver.common.keys import Keys\n",
    "opt = webdriver.ChromeOptions()\n",
    "opt.add_argument('user-agent=\"Mozilla/5.0 (Windows NT 10.0; Win64; x64) AppleWebKit/537.36 (KHTML, like Gecko) Chrome/72.0.3626.121 Safari/537.36\"')\n",
    "driver = webdriver.Chrome(options=opt)  # Optional argument, if not specified will search path.\n",
    "driver.get('http://kns.cnki.net/kns/brief/result.aspx?dbprefix=SCDB&crossDbcodes=CJFQ,CDFD,CMFD,CPFD,IPFD,CCND,CCJD') # 获取百度页面\n",
    "\n",
    "name = driver.find_element_by_id('au_1_value1')\n",
    "institution = driver.find_element_by_id('au_1_value2')\n",
    "name.send_keys('乔桂康') \n",
    "institution.send_keys('青岛大学')\n",
    "institution.send_keys(Keys.ENTER) \n",
    "time.sleep(2)\n",
    "driver.switch_to_frame('iframeResult')\n",
    "paper = driver.find_element_by_xpath('//*[@id=\"ctl00\"]/table/tbody/tr[2]/td/table/tbody/tr[3]/td[2]/a')\n",
    "paper.click()\n",
    "driver.switch_to_window(driver.window_handles[1])\n",
    "time.sleep(3)\n",
    "pdfdown = driver.find_element_by_id('pdfDown')\n",
    "pdfdown.click()\n"
   ]
  }
 ],
 "metadata": {
  "kernelspec": {
   "display_name": "Python 3",
   "language": "python",
   "name": "python3"
  },
  "language_info": {
   "codemirror_mode": {
    "name": "ipython",
    "version": 3
   },
   "file_extension": ".py",
   "mimetype": "text/x-python",
   "name": "python",
   "nbconvert_exporter": "python",
   "pygments_lexer": "ipython3",
   "version": "3.6.4"
  }
 },
 "nbformat": 4,
 "nbformat_minor": 2
}
