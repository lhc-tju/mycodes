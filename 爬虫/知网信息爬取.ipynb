{
 "cells": [
  {
   "cell_type": "code",
   "execution_count": 1,
   "metadata": {},
   "outputs": [
    {
     "name": "stdout",
     "output_type": "stream",
     "text": [
      "Search.aspx?q=author%3a%e4%b8%81%e8%8a%b8&rank=relevant&cluster=all&val=&p=15\n",
      "Search.aspx?q=author%3a%e4%b8%81%e8%8a%b8&rank=relevant&cluster=all&val=&p=30\n",
      "Search.aspx?q=author%3a%e4%b8%81%e8%8a%b8&rank=relevant&cluster=all&val=&p=45\n",
      "Search.aspx?q=author%3a%e4%b8%81%e8%8a%b8&rank=relevant&cluster=all&val=&p=60\n",
      "Search.aspx?q=author%3a%e4%b8%81%e8%8a%b8&rank=relevant&cluster=all&val=&p=75\n",
      "Search.aspx?q=author%3a%e4%b8%81%e8%8a%b8&rank=relevant&cluster=all&val=&p=90\n",
      "Search.aspx?q=author%3a%e4%b8%81%e8%8a%b8&rank=relevant&cluster=all&val=&p=105\n",
      "Search.aspx?q=author%3a%e4%b8%81%e8%8a%b8&rank=relevant&cluster=all&val=&p=120\n",
      "Search.aspx?q=author%3a%e4%b8%81%e8%8a%b8&rank=relevant&cluster=all&val=&p=135\n",
      "Search.aspx?q=author%3a%e4%b8%81%e8%8a%b8&rank=relevant&cluster=all&val=&p=150\n",
      "Search.aspx?q=author%3a%e4%b8%81%e8%8a%b8&rank=relevant&cluster=all&val=&p=165\n",
      "Search.aspx?q=author%3a%e4%b8%81%e8%8a%b8&rank=relevant&cluster=all&val=&p=180\n",
      "Search.aspx?q=author%3a%e4%b8%81%e8%8a%b8&rank=relevant&cluster=all&val=&p=195\n",
      "Search.aspx?q=author%3a%e4%b8%81%e8%8a%b8&rank=relevant&cluster=all&val=&p=210\n",
      "Search.aspx?q=author%3a%e4%b8%81%e8%8a%b8&rank=relevant&cluster=all&val=&p=225\n",
      "Search.aspx?q=author%3a%e4%b8%81%e8%8a%b8&rank=relevant&cluster=all&val=&p=240\n",
      "Search.aspx?q=author%3a%e4%b8%81%e8%8a%b8&rank=relevant&cluster=all&val=&p=255\n",
      "Search.aspx?q=author%3a%e4%b8%81%e8%8a%b8&rank=relevant&cluster=all&val=&p=270\n",
      "Search.aspx?q=author%3a%e4%b8%81%e8%8a%b8&rank=relevant&cluster=all&val=&p=285\n",
      "Search.aspx?q=author%3a%e4%b8%81%e8%8a%b8&rank=relevant&cluster=all&val=&p=300\n",
      "Search.aspx?q=author%3a%e4%b8%81%e8%8a%b8&rank=relevant&cluster=all&val=&p=315\n",
      "Search.aspx?q=author%3a%e4%b8%81%e8%8a%b8&rank=relevant&cluster=all&val=&p=330\n",
      "Search.aspx?q=author%3a%e4%b8%81%e8%8a%b8&rank=relevant&cluster=all&val=&p=345\n",
      "['http://www.cnki.com.cn/Article/CJFDTOTAL-JDJL2010Z1019.htm', 'http://www.cnki.com.cn/Article/CJFDTOTAL-JDJL200602007.htm', 'http://www.cnki.com.cn/Article/CJFDTOTAL-NOTH201801004.htm', 'http://www.cnki.com.cn/Article/CJFDTOTAL-ZCSW201804024.htm', 'http://www.cnki.com.cn/Article/CJFDTOTAL-SWXH201805003.htm', 'http://www.cnki.com.cn/Article/CJFDTOTAL-QYYT201808007.htm', 'http://www.cnki.com.cn/Article/CJFDTOTAL-YWXK201423071.htm', 'http://www.cnki.com.cn/Article/CJFDTOTAL-XKCY201611006.htm', 'http://www.cnki.com.cn/Article/CJFDTOTAL-BYYY201621122.htm', 'http://www.cnki.com.cn/Article/CJFDTOTAL-KCJY201743214.htm', 'http://www.cnki.com.cn/Article/CJFDTOTAL-WJZZ200632104.htm', 'http://www.cnki.com.cn/Article/CJFDTOTAL-WJZZ200702056.htm', 'http://www.cnki.com.cn/Article/CJFDTOTAL-SXJY201007021.htm', 'http://www.cnki.com.cn/Article/CJFDTOTAL-QHJY2010Z1054.htm', 'http://www.cnki.com.cn/Article/CJFDTOTAL-JYXJ201102007.htm', 'http://www.cnki.com.cn/Article/CJFDTOTAL-XIJK201215027.htm', 'http://www.cnki.com.cn/Article/CJFDTOTAL-SUZY201303032.htm', 'http://www.cnki.com.cn/Article/CJFDTOTAL-QHJY200004040.htm', 'http://www.cnki.com.cn/Article/CJFDTOTAL-SLHL201843157.htm', 'http://www.cnki.com.cn/Article/CJFDTOTAL-HBYY201606032.htm', 'http://www.cnki.com.cn/Article/CJFDTOTAL-XDSM201710062.htm', 'http://www.cnki.com.cn/Article/CJFDTOTAL-SWXH201705003.htm', 'http://www.cnki.com.cn/Article/CJFDTOTAL-CHXY201701025.htm', 'http://www.cnki.com.cn/Article/CJFDTOTAL-HLXZ201715031.htm', 'http://www.cnki.com.cn/Article/CJFDTOTAL-WMIA201599064.htm', 'http://www.cnki.com.cn/Article/CJFDTOTAL-HSXB201601016.htm', 'http://www.cnki.com.cn/Article/CJFDTOTAL-SWSW201512009.htm', 'http://www.cnki.com.cn/Article/CJFDTOTAL-ZGSM201610008.htm', 'http://www.cnki.com.cn/Article/CJFDTOTAL-ZCSW201605034.htm', 'http://www.cnki.com.cn/Article/CJFDTOTAL-SCXH201615127.htm', 'http://www.cnki.com.cn/Article/CJFDTOTAL-ZNGZ201605021.htm', 'http://www.cnki.com.cn/Article/CJFDTOTAL-YIRA201612004.htm', 'http://www.cnki.com.cn/Article/CJFDTOTAL-ZYFX201608014.htm', 'http://www.cnki.com.cn/Article/CJFDTOTAL-JKXS201613002.htm', 'http://www.cnki.com.cn/Article/CJFDTOTAL-DDHS201607062.htm', 'http://www.cnki.com.cn/Article/CJFDTOTAL-KJZY201615028.htm', 'http://www.cnki.com.cn/Article/CJFDTOTAL-SWXH201606003.htm', 'http://www.cnki.com.cn/Article/CJFDTOTAL-QYGG201616114.htm', 'http://www.cnki.com.cn/Article/CJFDTOTAL-SCDL201604019.htm', 'http://www.cnki.com.cn/Article/CJFDTOTAL-HLSJ201616025.htm', 'http://www.cnki.com.cn/Article/CJFDTOTAL-JXHG201611014.htm', 'http://www.cnki.com.cn/Article/CJFDTOTAL-SYQY201501019.htm', 'http://www.cnki.com.cn/Article/CJFDTOTAL-CAIZ201504108.htm', 'http://www.cnki.com.cn/Article/CJFDTOTAL-SWSW201412007.htm', 'http://www.cnki.com.cn/Article/CJFDTOTAL-SCDL201501023.htm', 'http://www.cnki.com.cn/Article/CJFDTOTAL-QKYX201511008.htm', 'http://www.cnki.com.cn/Article/CJFDTOTAL-NCSB201502025.htm', 'http://www.cnki.com.cn/Article/CJFDTOTAL-ZIYU201503012.htm', 'http://www.cnki.com.cn/Article/CJFDTOTAL-SDJJ201503015.htm', 'http://www.cnki.com.cn/Article/CJFDTOTAL-ZCSW201506006.htm', 'http://www.cnki.com.cn/Article/CJFDTOTAL-ZCSW201504027.htm', 'http://www.cnki.com.cn/Article/CJFDTOTAL-QYWA201516132.htm', 'http://www.cnki.com.cn/Article/CJFDTOTAL-CZYJ201506016.htm', 'http://www.cnki.com.cn/Article/CJFDTOTAL-AHNY201525108.htm', 'http://www.cnki.com.cn/Article/CJFDTOTAL-JJCK201538005.htm', 'http://epub.cnki.net/grid2008/detail.aspx?filename=XKCD201734068&dbname=CJFN2017', 'http://epub.cnki.net/grid2008/detail.aspx?filename=HJZH201838060&dbname=CJFN2018', 'http://epub.cnki.net/grid2008/detail.aspx?filename=JAOS201820001&dbname=CJFN2018', 'http://epub.cnki.net/grid2008/detail.aspx?filename=KDZK2018A0119&dbname=CJFN2018', 'http://epub.cnki.net/grid2008/detail.aspx?filename=KDZK201899135&dbname=CJFN2018', 'http://epub.cnki.net/grid2008/detail.aspx?filename=XKZH201702078&dbname=CJFN2017', 'http://epub.cnki.net/grid2008/detail.aspx?filename=YYWY201302034&dbname=CJFN2013', 'http://epub.cnki.net/grid2008/detail.aspx?filename=ZSHJ201518034&dbname=CJFN2015', 'http://epub.cnki.net/grid2008/detail.aspx?filename=YWTD201323018&dbname=CJFN2013', 'http://epub.cnki.net/grid2008/detail.aspx?filename=GHCS201401009&dbname=CJFN2014', 'http://epub.cnki.net/grid2008/detail.aspx?filename=ZYGS201411093&dbname=CJFN2014', 'http://www.cnki.com.cn/Article/CJFDTOTAL-ZQGZ201401160.htm', 'http://www.cnki.com.cn/Article/CJFDTOTAL-JZGC201401065.htm', 'http://www.cnki.com.cn/Article/CJFDTOTAL-SDJM201401008.htm', 'http://www.cnki.com.cn/Article/CJFDTOTAL-ZWYY201402088.htm', 'http://www.cnki.com.cn/Article/CJFDTOTAL-KJZY201411001.htm', 'http://www.cnki.com.cn/Article/CJFDTOTAL-XKJJ201402066.htm', 'http://www.cnki.com.cn/Article/CJFDTOTAL-KJIG201406041.htm', 'http://www.cnki.com.cn/Article/CJFDTOTAL-SWXH201409004.htm', 'http://www.cnki.com.cn/Article/CJFDTOTAL-JXJC201421005.htm', 'http://www.cnki.com.cn/Article/CJFDTOTAL-XPJX201323137.htm', 'http://www.cnki.com.cn/Article/CJFDTOTAL-ZCSW201310026.htm', 'http://www.cnki.com.cn/Article/CJFDTOTAL-JLJH201307025.htm', 'http://www.cnki.com.cn/Article/CJFDTOTAL-XCYZ201301154.htm', 'http://www.cnki.com.cn/Article/CJFDTOTAL-YWCZ201302045.htm', 'http://www.cnki.com.cn/Article/CJFDTOTAL-SWXH201301023.htm', 'http://www.cnki.com.cn/Article/CJFDTOTAL-XISY201202026.htm', 'http://www.cnki.com.cn/Article/CJFDTOTAL-ZXQX201204129.htm', 'http://www.cnki.com.cn/Article/CJFDTOTAL-WSCY201225032.htm', 'http://www.cnki.com.cn/Article/CJFDTOTAL-JJSY201224048.htm', 'http://www.cnki.com.cn/Article/CJFDTOTAL-ZXLJ201231171.htm', 'http://www.cnki.com.cn/Article/CJFDTOTAL-LDBL201103006.htm', 'http://www.cnki.com.cn/Article/CJFDTOTAL-KJIG201102041.htm', 'http://www.cnki.com.cn/Article/CJFDTOTAL-YYXK201119021.htm', 'http://www.cnki.com.cn/Article/CJFDTOTAL-SWXH201105013.htm', 'http://www.cnki.com.cn/Article/CJFDTOTAL-SYWH201107121.htm', 'http://www.cnki.com.cn/Article/CJFDTOTAL-WSJJ201109003.htm', 'http://www.cnki.com.cn/Article/CJFDTOTAL-ZCSW201111002.htm', 'http://www.cnki.com.cn/Article/CJFDTOTAL-HLGL201112016.htm', 'http://www.cnki.com.cn/Article/CJFDTOTAL-ZSKQ201002015.htm', 'http://www.cnki.com.cn/Article/CJFDTOTAL-SWXH201001012.htm', 'http://www.cnki.com.cn/Article/CJFDTOTAL-ZGCE201003014.htm', 'http://www.cnki.com.cn/Article/CJFDTOTAL-KMYX201004023.htm', 'http://www.cnki.com.cn/Article/CJFDTOTAL-KMYX201005035.htm', 'http://www.cnki.com.cn/Article/CJFDTOTAL-ZXQY201005246.htm', 'http://www.cnki.com.cn/Article/CJFDTOTAL-ZWZX201023121.htm', 'http://www.cnki.com.cn/Article/CJFDTOTAL-KJJC201006047.htm', 'http://www.cnki.com.cn/Article/CJFDTOTAL-ZGSW201006029.htm', 'http://www.cnki.com.cn/Article/CJFDTOTAL-KJJC201008052.htm', 'http://www.cnki.com.cn/Article/CJFDTOTAL-KJIG201008055.htm', 'http://www.cnki.com.cn/Article/CJFDTOTAL-XDYY201006009.htm', 'http://www.cnki.com.cn/Article/CJFDTOTAL-DCSC201006014.htm', 'http://www.cnki.com.cn/Article/CJFDTOTAL-ZYCY200901006.htm', 'http://www.cnki.com.cn/Article/CJFDTOTAL-ZGSW200901025.htm', 'http://www.cnki.com.cn/Article/CJFDTOTAL-CSHI200903003.htm', 'http://www.cnki.com.cn/Article/CJFDTOTAL-FXAS200905006.htm', 'http://www.cnki.com.cn/Article/CJFDTOTAL-WSXB200906007.htm', 'http://www.cnki.com.cn/Article/CJFDTOTAL-BJLB200902020.htm', 'http://www.cnki.com.cn/Article/CJFDTOTAL-JFHL200917038.htm', 'http://www.cnki.com.cn/Article/CJFDTOTAL-ZWZX200929059.htm', 'http://www.cnki.com.cn/Article/CJFDTOTAL-KMYX200909022.htm', 'http://www.cnki.com.cn/Article/CJFDTOTAL-XDSM200918138.htm', 'http://www.cnki.com.cn/Article/CJFDTOTAL-KMYX2009S2088.htm', 'http://www.cnki.com.cn/Article/CJFDTOTAL-KMYX2009S2095.htm', 'http://www.cnki.com.cn/Article/CJFDTOTAL-LCCY200908033.htm', 'http://www.cnki.com.cn/Article/CJFDTOTAL-SCZG200852120.htm', 'http://www.cnki.com.cn/Article/CJFDTOTAL-JJYG200804020.htm', 'http://www.cnki.com.cn/Article/CJFDTOTAL-SDJJ200804019.htm', 'http://www.cnki.com.cn/Article/CJFDTOTAL-NBDS200805009.htm', 'http://www.cnki.com.cn/Article/CJFDTOTAL-FZSL200827196.htm', 'http://www.cnki.com.cn/Article/CJFDTOTAL-QKYX200821030.htm', 'http://www.cnki.com.cn/Article/CJFDTOTAL-SWXH200809010.htm', 'http://www.cnki.com.cn/Article/CJFDTOTAL-XJCJ200805005.htm', 'http://www.cnki.com.cn/Article/CJFDTOTAL-SCZG200840036.htm', 'http://www.cnki.com.cn/Article/CJFDTOTAL-JJYG200702005.htm', 'http://www.cnki.com.cn/Article/CJFDTOTAL-TZXB200701010.htm', 'http://www.cnki.com.cn/Article/CJFDTOTAL-JSGJ200703053.htm', 'http://www.cnki.com.cn/Article/CJFDTOTAL-WLXY200703008.htm', 'http://www.cnki.com.cn/Article/CJFDTOTAL-HLKF200708035.htm', 'http://www.cnki.com.cn/Article/CJFDTOTAL-SWXH200707003.htm', 'http://www.cnki.com.cn/Article/CJFDTOTAL-ZGFD200712014.htm', 'http://www.cnki.com.cn/Article/CJFDTOTAL-HHZS200715057.htm', 'http://www.cnki.com.cn/Article/CJFDTOTAL-CSHI200706008.htm', 'http://www.cnki.com.cn/Article/CJFDTOTAL-JJYG200603009.htm', 'http://www.cnki.com.cn/Article/CJFDTOTAL-XXYS200602004.htm', 'http://www.cnki.com.cn/Article/CJFDTOTAL-SWXH200609007.htm', 'http://www.cnki.com.cn/Article/CJFDTOTAL-HYXY200604007.htm', 'http://www.cnki.com.cn/Article/CJFDTOTAL-CSZD200508035.htm', 'http://www.cnki.com.cn/Article/CJFDTOTAL-SWXH200512014.htm', 'http://www.cnki.com.cn/Article/CJFDTOTAL-QDHS200504001.htm', 'http://www.cnki.com.cn/Article/CJFDTOTAL-WLXY200506018.htm', 'http://www.cnki.com.cn/Article/CJFDTOTAL-HYXY20040300F.htm', 'http://www.cnki.com.cn/Article/CJFDTOTAL-ZYCY200408005.htm', 'http://www.cnki.com.cn/Article/CJFDTOTAL-SWXH200408008.htm', 'http://www.cnki.com.cn/Article/CJFDTOTAL-HXKQ200305005.htm', 'http://www.cnki.com.cn/Article/CJFDTOTAL-SYKQ200304016.htm', 'http://www.cnki.com.cn/Article/CJFDTOTAL-BJKX200302001.htm', 'http://www.cnki.com.cn/Article/CJFDTOTAL-SDJM200304001.htm', 'http://www.cnki.com.cn/Article/CJFDTOTAL-NBDS200202009.htm', 'http://www.cnki.com.cn/Article/CJFDTOTAL-ZGJL200202016.htm', 'http://www.cnki.com.cn/Article/CJFDTOTAL-GDYB200102054.htm', 'http://www.cnki.com.cn/Article/CJFDTOTAL-HYXY200104003.htm', 'http://www.cnki.com.cn/Article/CJFDTOTAL-ZGJL2000S1006.htm', 'http://www.cnki.com.cn/Article/CJFDTOTAL-HSXX199804013.htm', 'http://www.cnki.com.cn/Article/CJFDTOTAL-JJLW199802010.htm', 'http://www.cnki.com.cn/Article/CJFDTOTAL-JJLW199904002.htm', 'http://www.cnki.com.cn/Article/CJFDTOTAL-YCJY199902010.htm', 'http://www.cnki.com.cn/Article/CJFDTOTAL-ZSDB199903004.htm', 'http://www.cnki.com.cn/Article/CJFDTOTAL-SDJM199905004.htm', 'http://www.cnki.com.cn/Article/CJFDTOTAL-TZXB199902005.htm', 'http://www.cnki.com.cn/Article/CJFDTOTAL-YCJY199704006.htm', 'http://www.cnki.com.cn/Article/CJFDTOTAL-TZXB199701004.htm', 'http://www.cnki.com.cn/Article/CJFDTOTAL-TZXB199705006.htm', 'http://www.cnki.com.cn/Article/CJFDTOTAL-BPQC404.002.htm', 'http://www.cnki.com.cn/Article/CJFDTOTAL-SWXH510.003.htm', 'http://www.cnki.com.cn/Article/CJFDTOTAL-BPQC199105000.htm', 'http://epub.cnki.net/grid2008/detail.aspx?filename=ZDJB201207130&dbname=CJFN2012', 'http://epub.cnki.net/grid2008/detail.aspx?filename=ZDJB201212020&dbname=CJFN2012', 'http://epub.cnki.net/grid2008/detail.aspx?filename=XKJA201303216&dbname=CJFN2013', 'http://epub.cnki.net/grid2008/detail.aspx?filename=YWTD201315041&dbname=CJFN2013', 'http://epub.cnki.net/grid2008/detail.aspx?filename=HYSW201309103&dbname=CJFN2013', 'http://epub.cnki.net/grid2008/detail.aspx?filename=YLIN200905020&dbname=CJFN2009', 'http://epub.cnki.net/grid2008/detail.aspx?filename=ZDJB200911131&dbname=CJFN2009', 'http://epub.cnki.net/grid2008/detail.aspx?filename=CZJP200902005&dbname=CJFN2009', 'http://epub.cnki.net/grid2008/detail.aspx?filename=YLIN201005022&dbname=CJFN2010', 'http://epub.cnki.net/grid2008/detail.aspx?filename=YLIN200703012&dbname=CJFN2007', 'http://epub.cnki.net/grid2008/detail.aspx?filename=YLIN200803010&dbname=CJFN2008', 'http://epub.cnki.net/grid2008/detail.aspx?filename=ZQJY200302038&dbname=CJFN2003', 'http://epub.cnki.net/grid2008/detail.aspx?filename=XCZW2003Z1003&dbname=CJFN2003', 'http://epub.cnki.net/grid2008/detail.aspx?filename=ZWSJ200201050&dbname=CJFN2002', 'http://youxian.cnki.com.cn/yxdetail.aspx?filename=ZCSW201808008&dbname=CJFDPREP', 'http://cdmd.cnki.com.cn/Article/CDMD-11415-2009025179.htm', 'http://cdmd.cnki.com.cn/Article/CDMD-10755-1016768351.htm', 'http://cdmd.cnki.com.cn/Article/CDMD-10246-1015411527.htm', 'http://cdmd.cnki.com.cn/Article/CDMD-10285-1013231170.htm', 'http://cdmd.cnki.com.cn/Article/CDMD-10394-1012266438.htm', 'http://cdmd.cnki.com.cn/Article/CDMD-10524-1011302494.htm', 'http://cdmd.cnki.com.cn/Article/CDMD-10335-1012369781.htm', 'http://cdmd.cnki.com.cn/Article/CDMD-10108-2009027135.htm', 'http://cdmd.cnki.com.cn/Article/CDMD-10703-2008104272.htm', 'http://cpfd.cnki.com.cn/Article/CPFDTOTAL-ZJKX201511004130.htm', 'http://cpfd.cnki.com.cn/Article/CPFDTOTAL-ZGFF200807001004.htm', 'http://cpfd.cnki.com.cn/Article/CPFDTOTAL-BJSL201312003038.htm', 'http://cpfd.cnki.com.cn/Article/CPFDTOTAL-ZGFF200610001023.htm', 'http://cpfd.cnki.com.cn/Article/CPFDTOTAL-BJSL200912002031.htm', 'http://cpfd.cnki.com.cn/Article/CPFDTOTAL-HWSW200811002110.htm', 'http://cpfd.cnki.com.cn/Article/CPFDTOTAL-BJSL201212001023.htm', 'http://cpfd.cnki.com.cn/Article/CPFDTOTAL-BWZW201311001034.htm', 'http://cpfd.cnki.com.cn/Article/CPFDTOTAL-BJSL201212006005.htm', 'http://cpfd.cnki.com.cn/Article/CPFDTOTAL-ZJCY201407002038.htm', 'http://cpfd.cnki.com.cn/Article/CPFDTOTAL-CSYX200611001114.htm', 'http://cpfd.cnki.com.cn/Article/CPFDTOTAL-CSYX200611001120.htm', 'http://cpfd.cnki.com.cn/Article/CPFDTOTAL-BJSL200704001064.htm', 'http://cpfd.cnki.com.cn/Article/CPFDTOTAL-BJSL200806001014.htm', 'http://www.cnki.com.cn/Article/CJFDTOTAL-JXUY201619170.htm', 'http://www.cnki.com.cn/Article/CJFDTOTAL-ZWFE201104111.htm', 'http://www.cnki.com.cn/Article/CJFDTOTAL-HLKF200302031.htm', 'http://www.cnki.com.cn/Article/CJFDTOTAL-CJMY200006037.htm', 'http://www.cnki.com.cn/Article/CJFDTOTAL-JDJL200501005.htm', 'http://www.cnki.com.cn/Article/CJFDTOTAL-XYZL201802002.htm', 'http://www.cnki.com.cn/Article/CJFDTOTAL-YISZ201806027.htm', 'http://www.cnki.com.cn/Article/CJFDTOTAL-YISZ201806025.htm', 'http://www.cnki.com.cn/Article/CJFDTOTAL-SWXH199309007.htm', 'http://www.cnki.com.cn/Article/CJFDTOTAL-XIJK200833191.htm', 'http://www.cnki.com.cn/Article/CJFDTOTAL-HLXZ201713029.htm', 'http://www.cnki.com.cn/Article/CJFDTOTAL-HLJG201603005.htm', 'http://www.cnki.com.cn/Article/CJFDTOTAL-HSJY201501007.htm', 'http://www.cnki.com.cn/Article/CJFDTOTAL-KJZY201507025.htm', 'http://www.cnki.com.cn/Article/CJFDTOTAL-ZGTD201511007.htm', 'http://www.cnki.com.cn/Article/CJFDTOTAL-XDYY201401033.htm', 'http://www.cnki.com.cn/Article/CJFDTOTAL-BYDB201202043.htm', 'http://www.cnki.com.cn/Article/CJFDTOTAL-XDYF201208016.htm', 'http://www.cnki.com.cn/Article/CJFDTOTAL-WYGY201207010.htm', 'http://www.cnki.com.cn/Article/CJFDTOTAL-WYGY201206029.htm', 'http://www.cnki.com.cn/Article/CJFDTOTAL-BGGY201210063.htm', 'http://www.cnki.com.cn/Article/CJFDTOTAL-XDYF201121015.htm', 'http://www.cnki.com.cn/Article/CJFDTOTAL-XDJZ201008032.htm', 'http://www.cnki.com.cn/Article/CJFDTOTAL-KJFT200814043.htm', 'http://www.cnki.com.cn/Article/CJFDTOTAL-ZWZX200819072.htm', 'http://www.cnki.com.cn/Article/CJFDTOTAL-ZGGX200819024.htm', 'http://www.cnki.com.cn/Article/CJFDTOTAL-HLKF200704037.htm', 'http://www.cnki.com.cn/Article/CJFDTOTAL-RLYJ200612013.htm', 'http://www.cnki.com.cn/Article/CJFDTOTAL-YTYS200206014.htm', 'http://www.cnki.com.cn/Article/CJFDTOTAL-HJKX706.011.htm', 'http://www.cnki.com.cn/Article/CJFDTOTAL-HXXB199704016.htm', 'http://www.cnki.com.cn/Article/CJFDTOTAL-SWXH503.001.htm', 'http://www.cnki.com.cn/Article/CJFDTOTAL-JJCK1993Z2141.htm', 'http://www.cnki.com.cn/Article/CJFDTOTAL-CQJT198404005.htm', 'http://cpfd.cnki.com.cn/Article/CPFDTOTAL-CZXH201504002014.htm', 'http://www.cnki.com.cn/Article/CJFDTOTAL-ZWVJ201804023.htm', 'http://www.cnki.com.cn/Article/CJFDTOTAL-XYJD201808041.htm', 'http://epub.cnki.net/grid2008/detail.aspx?filename=ZXHX201602026&dbname=CJFN2016', 'http://www.cnki.com.cn/Article/CJFDTOTAL-HSGX201401027.htm', 'http://www.cnki.com.cn/Article/CJFDTOTAL-SJKX201305026.htm', 'http://www.cnki.com.cn/Article/CJFDTOTAL-TJZQ201304008.htm', 'http://www.cnki.com.cn/Article/CJFDTOTAL-CSZY201206051.htm', 'http://www.cnki.com.cn/Article/CJFDTOTAL-JMSJ201205016.htm', 'http://www.cnki.com.cn/Article/CJFDTOTAL-FZSL200905095.htm', 'http://www.cnki.com.cn/Article/CJFDTOTAL-SKZX200901038.htm', 'http://www.cnki.com.cn/Article/CJFDTOTAL-ZZYY200912342.htm', 'http://www.cnki.com.cn/Article/CJFDTOTAL-WLCF200805110.htm', 'http://www.cnki.com.cn/Article/CJFDTOTAL-FZSL200823239.htm', 'http://www.cnki.com.cn/Article/CJFDTOTAL-KJJG200401008.htm', 'http://www.cnki.com.cn/Article/CJFDTOTAL-KJJS200407017.htm', 'http://www.cnki.com.cn/Article/CJFDTOTAL-KJJG200402011.htm', 'http://www.cnki.com.cn/Article/CJFDTOTAL-KJJG200202008.htm', 'http://www.cnki.com.cn/Article/CJFDTOTAL-ZHXH200203013.htm', 'http://www.cnki.com.cn/Article/CJFDTOTAL-JCJG200106009.htm', 'http://www.cnki.com.cn/Article/CJFDTOTAL-JCJG200108012.htm', 'http://www.cnki.com.cn/Article/CJFDTOTAL-HLJH200111064.htm', 'http://www.cnki.com.cn/Article/CJFDTOTAL-JCJG199808001.htm', 'http://www.cnki.com.cn/Article/CJFDTOTAL-KJJG601.004.htm', 'http://www.cnki.com.cn/Article/CJFDTOTAL-KJJG603.004.htm', 'http://www.cnki.com.cn/Article/CJFDTOTAL-KJJG604.006.htm', 'http://www.cnki.com.cn/Article/CJFDTOTAL-JZJB198004003.htm', 'http://epub.cnki.net/grid2008/detail.aspx?filename=XKZH201201032&dbname=CJFN2012', 'http://epub.cnki.net/grid2008/detail.aspx?filename=ZYCC201202034&dbname=CJFN2012', 'http://epub.cnki.net/grid2008/detail.aspx?filename=XXJX201309009&dbname=CJFN2013', 'http://epub.cnki.net/grid2008/detail.aspx?filename=QSRJ201309021&dbname=CJFN2013', 'http://epub.cnki.net/grid2008/detail.aspx?filename=XXZY200923023&dbname=CJFN2009', 'http://epub.cnki.net/grid2008/detail.aspx?filename=XXJX201015007&dbname=CJFN2010', 'http://epub.cnki.net/grid2008/detail.aspx?filename=XKCH201011260&dbname=CJFN2010', 'http://epub.cnki.net/grid2008/detail.aspx?filename=KTCB201104012&dbname=CJFN2011', 'http://epub.cnki.net/grid2008/detail.aspx?filename=XKZH201112037&dbname=CJFN2011', 'http://epub.cnki.net/grid2008/detail.aspx?filename=HXXW200807011&dbname=CJFN2008', 'http://cdmd.cnki.com.cn/Article/CDMD-10315-1014416259.htm', 'http://cdmd.cnki.com.cn/Article/CDMD-10276-1013355907.htm', 'http://cdmd.cnki.com.cn/Article/CDMD-10650-1012381630.htm', 'http://cdmd.cnki.com.cn/Article/CDMD-10384-2009081387.htm', 'http://cdmd.cnki.com.cn/Article/CDMD-11906-2005097873.htm', 'http://cpfd.cnki.com.cn/Article/CPFDTOTAL-QXJX201007001007.htm', 'http://cpfd.cnki.com.cn/Article/CPFDTOTAL-ZGJG200404001030.htm', 'http://cpfd.cnki.com.cn/Article/CPFDTOTAL-KJJG199007001115.htm', 'http://cpfd.cnki.com.cn/Article/CPFDTOTAL-KJJG199411001080.htm', 'http://cpfd.cnki.com.cn/Article/CPFDTOTAL-KJJG199600001007.htm', 'http://cpfd.cnki.com.cn/Article/CPFDTOTAL-OGTY198807001030.htm', 'http://cpfd.cnki.com.cn/Article/CPFDTOTAL-KJJG200009001084.htm', 'http://cpfd.cnki.com.cn/Article/CPFDTOTAL-KJJG200009001091.htm', 'http://cpfd.cnki.com.cn/Article/CPFDTOTAL-KJJG200111001038.htm', 'http://cpfd.cnki.com.cn/Article/CPFDTOTAL-OGTY200200002030.htm', 'http://cpfd.cnki.com.cn/Article/CPFDTOTAL-KJJG200212001076.htm', 'http://cpfd.cnki.com.cn/Article/CPFDTOTAL-OGTY200506001100.htm', 'http://www.cnki.com.cn/Article/CJFDTOTAL-ZGCE201520021.htm', 'http://www.cnki.com.cn/Article/CJFDTOTAL-ORLZ201406202.htm', 'http://www.cnki.com.cn/Article/CJFDTOTAL-CSLY201806011.htm', 'http://www.cnki.com.cn/Article/CJFDTOTAL-HKHT201811041.htm', 'http://www.cnki.com.cn/Article/CJFDTOTAL-XYZL201802027.htm', 'http://www.cnki.com.cn/Article/CJFDTOTAL-FZSX201012014.htm', 'http://www.cnki.com.cn/Article/CJFDTOTAL-XJSD201702005.htm', 'http://www.cnki.com.cn/Article/CJFDTOTAL-SCDL201703020.htm', 'http://www.cnki.com.cn/Article/CJFDTOTAL-JXND201603006.htm', 'http://www.cnki.com.cn/Article/CJFDTOTAL-TZCZ201406022.htm', 'http://www.cnki.com.cn/Article/CJFDTOTAL-HLSJ201511066.htm', 'http://epub.cnki.net/grid2008/detail.aspx?filename=GHCS201502007&dbname=CJFN2015', 'http://www.cnki.com.cn/Article/CJFDTOTAL-HXKQ201203022.htm', 'http://www.cnki.com.cn/Article/CJFDTOTAL-ZKQD200902002.htm', 'http://www.cnki.com.cn/Article/CJFDTOTAL-GWDZ200811033.htm', 'http://www.cnki.com.cn/Article/CJFDTOTAL-JNYY200601030.htm', 'http://www.cnki.com.cn/Article/CJFDTOTAL-YIRA200522008.htm', 'http://www.cnki.com.cn/Article/CJFDTOTAL-HAIN200412018.htm', 'http://www.cnki.com.cn/Article/CJFDTOTAL-ZSYK200302000.htm', 'http://www.cnki.com.cn/Article/CJFDTOTAL-BJDZ200204022.htm', 'http://www.cnki.com.cn/Article/CJFDTOTAL-KJJG804.010.htm', 'http://www.cnki.com.cn/Article/CJFDTOTAL-GXFZ199401000.htm', 'http://www.cnki.com.cn/Article/CJFDTOTAL-SXSZ504.014.htm', 'http://www.cnki.com.cn/Article/CJFDTOTAL-GCJS195906014.htm', 'http://www.cnki.com.cn/Article/CJFDTOTAL-ZDZJ201304031.htm', 'http://www.cnki.com.cn/Article/CJFDTOTAL-YYHW200311027.htm', 'http://www.cnki.com.cn/Article/CJFDTOTAL-HLJH200103083.htm', 'http://www.cnki.com.cn/Article/CJFDTOTAL-SYHL904.006.htm', 'http://epub.cnki.net/grid2008/detail.aspx?filename=XXJX200806010&dbname=CJFN2008', 'http://cpfd.cnki.com.cn/Article/CPFDTOTAL-KJJG199007001136.htm', 'http://cpfd.cnki.com.cn/Article/CPFDTOTAL-KJJG199600001122.htm', 'http://www.cnki.com.cn/Article/CJFDTOTAL-HLJH200301034.htm', 'http://epub.cnki.net/grid2008/detail.aspx?filename=DDKJ200902005&dbname=CJFN2009', 'http://www.cnki.com.cn/Article/CJFDTOTAL-SCZY201403044.htm', 'http://www.cnki.com.cn/Article/CJFDTOTAL-GJIG200004004.htm', 'http://www.cnki.com.cn/Article/CJFDTOTAL-ZGYX196305003.htm', 'http://cpfd.cnki.com.cn/Article/CPFDTOTAL-KJFZ201001001005.htm', 'http://www.cnki.com.cn/Article/CJFDTOTAL-GZHG200401006.htm', 'http://www.cnki.com.cn/Article/CJFDTOTAL-HNDX200204013.htm', 'http://cpfd.cnki.com.cn/Article/CPFDTOTAL-KJJG199007001094.htm', 'http://www.cnki.com.cn/Article/CJFDTOTAL-ZHHX200204006.htm', 'http://www.cnki.com.cn/Article/CJFDTOTAL-ZGNJ200207044.htm', 'http://www.cnki.com.cn/Article/CJFDTOTAL-WIEC200102007.htm', 'http://www.cnki.com.cn/Article/CJFDTOTAL-JZJB200501003.htm', 'http://www.cnki.com.cn/Article/CJFDTOTAL-SHYI201403016.htm', 'http://cpfd.cnki.com.cn/Article/CPFDTOTAL-KJJG199007001095.htm', 'http://cpfd.cnki.com.cn/Article/CPFDTOTAL-KJJG199007001098.htm', 'http://cpfd.cnki.com.cn/Article/CPFDTOTAL-OGTY200506001081.htm', 'http://www.cnki.com.cn/Article/CJFDTOTAL-JCJG200810006.htm', 'http://www.cnki.com.cn/Article/CJFDTOTAL-JZJB200705008.htm']\n"
     ]
    }
   ],
   "source": [
    "#搜索不全，可以批量下载导出基本信息\n",
    "import re\n",
    "import requests\n",
    "from bs4 import BeautifulSoup\n",
    "\n",
    "\n",
    "def get_result(url): \n",
    "    '''\n",
    "    获得搜索结果页面\n",
    "    '''\n",
    "    urls = []\n",
    "    res = requests.get(url)\n",
    "    res.encoding = 'utf-8'\n",
    "    soup = BeautifulSoup(res.text,'html5lib')\n",
    "    flag = True\n",
    "    \n",
    "    while True:\n",
    "        temp = soup.find_all('h3')\n",
    "        #有的h3不是我们要的，跳过就好\n",
    "        for item in temp:\n",
    "            try:\n",
    "                tag_a = item.find('a')\n",
    "                urls.append(tag_a['href'])\n",
    "            except:\n",
    "                pass\n",
    "        index_page = 'http://search.cnki.com.cn/'\n",
    "        if flag:\n",
    "            next_url = soup.find_all('a',class_='n')[0]['href']\n",
    "        else:\n",
    "            if len(soup.find_all('a',class_='n')) == 1:\n",
    "                break\n",
    "            next_url = soup.find_all('a',class_='n')[1]['href']\n",
    "        print(next_url)\n",
    "        new_url = index_page + next_url\n",
    "        n_res = requests.get(new_url)\n",
    "        n_res.encoding = 'utf-8'\n",
    "        soup = BeautifulSoup(n_res.text,'html5lib')\n",
    "        flag = False\n",
    "    return urls\n",
    "\n",
    "def get_detail(urls):\n",
    "    '''\n",
    "    获取详情页面元素\n",
    "    '''\n",
    "    for url in urls:\n",
    "        res = requests.get(url)\n",
    "        res.encoding = 'utf-8'\n",
    "        soup = BeautifulSoup(res.text,'html5lib')\n",
    "        title = soup.select('.xx_title')[0].text #标题\n",
    "        abstract = soup.find_all('div',class_='xx_font')[0].text #摘要\n",
    "        department = soup.find_all('div',class_='xx_font')[1].find('a')[0].text #单位\n",
    "        fenleihao = soup.find_all('div',class_='xx_font')[1].text #分类号\n",
    "        authors = soup.find('div',style='text-align:center; width:740px; height:30px;')[0].find_all('a')\n",
    "        temp = ''\n",
    "        for author in authors:\n",
    "            temp = temp + '||' + author\n",
    "        authors = temp\n",
    "        \n",
    "        \n",
    "        \n",
    "        \n",
    "names = ['丁芸']\n",
    "index_url = 'http://search.cnki.com.cn/Search.aspx?q=author%3A'\n",
    "for name in names:\n",
    "    url = index_url + name\n",
    "    #urls = get_result(url)\n",
    "\n",
    "\n",
    "    \n"
   ]
  },
  {
   "cell_type": "code",
   "execution_count": 7,
   "metadata": {},
   "outputs": [],
   "source": []
  },
  {
   "cell_type": "code",
   "execution_count": 4,
   "metadata": {},
   "outputs": [
    {
     "data": {
      "text/plain": [
       "0"
      ]
     },
     "execution_count": 4,
     "metadata": {},
     "output_type": "execute_result"
    }
   ],
   "source": [
    "a = []\n",
    "len(a)"
   ]
  }
 ],
 "metadata": {
  "kernelspec": {
   "display_name": "Python 3",
   "language": "python",
   "name": "python3"
  },
  "language_info": {
   "codemirror_mode": {
    "name": "ipython",
    "version": 3
   },
   "file_extension": ".py",
   "mimetype": "text/x-python",
   "name": "python",
   "nbconvert_exporter": "python",
   "pygments_lexer": "ipython3",
   "version": "3.6.4"
  }
 },
 "nbformat": 4,
 "nbformat_minor": 2
}
