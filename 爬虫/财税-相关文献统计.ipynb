{
 "cells": [
  {
   "cell_type": "code",
   "execution_count": null,
   "metadata": {},
   "outputs": [],
   "source": [
    "#分析抓取的财税学者相关文献信息\n",
    "import pandas as pd\n",
    "import numpy as np\n",
    "\n",
    "def get_names(path,filetype):\n",
    "    '''获取目录下所有指定文件类型的文件名'''\n",
    "    import os\n",
    "    name = []\n",
    "    for root, dirs, files in os.walk(path):\n",
    "        for file in files:\n",
    "            if filetype in file:\n",
    "                name.append(file)\n",
    "    return name\n",
    "\n",
    "path = 'D:\\codes\\GitProject\\mycodes\\test\\data'\n",
    "# 对作者字段进行 value_count 统计\n",
    "# 对来源进行统计 对单位进行统计\n",
    "\n",
    "\n"
   ]
  }
 ],
 "metadata": {
  "kernelspec": {
   "display_name": "Python 3",
   "language": "python",
   "name": "python3"
  },
  "language_info": {
   "codemirror_mode": {
    "name": "ipython",
    "version": 3
   },
   "file_extension": ".py",
   "mimetype": "text/x-python",
   "name": "python",
   "nbconvert_exporter": "python",
   "pygments_lexer": "ipython3",
   "version": "3.6.4"
  }
 },
 "nbformat": 4,
 "nbformat_minor": 2
}
