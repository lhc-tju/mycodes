{
 "cells": [
  {
   "cell_type": "code",
   "execution_count": 1,
   "metadata": {},
   "outputs": [
    {
     "name": "stdout",
     "output_type": "stream",
     "text": [
      "continue to download.\n",
      "1\n",
      "2\n",
      "Failed in 2\n"
     ]
    }
   ],
   "source": [
    "'''\n",
    "财税主题所有相关文献\n",
    "'''\n",
    "from selenium import webdriver # 从selenium导入webdriver\n",
    "from selenium.webdriver.common.keys import Keys\n",
    "import time\n",
    "\n",
    "opt = webdriver.ChromeOptions() #无界面模式\n",
    "opt.set_headless()\n",
    "driver = webdriver.Chrome()\n",
    "#driver = webdriver.Chrome(options=opt)\n",
    "driver.get('http://kns.cnki.net/kns/brief/result.aspx?dbprefix=SCDB&crossDbcodes=CJFQ,CDFD,CMFD,CPFD,IPFD,CCND,CCJD')\n",
    "topic = driver.find_element_by_id('txt_1_value1')\n",
    "topic.send_keys(u'财税')\n",
    "topic.send_keys(Keys.ENTER)\n",
    "time.sleep(2)\n",
    "driver.switch_to_frame('iframeResult')#切换frame\n",
    "showPage = driver.find_element_by_xpath('//*[@id=\"id_grid_display_num\"]/a[3]')\n",
    "showPage.click() #每页显示50 \n",
    "time.sleep(2)\n",
    "#flag = True\n",
    "while_flag = True\n",
    "the_n = 0\n",
    "print('continue to download.')\n",
    "while True:\n",
    "    try:\n",
    "        for i in range(10):\n",
    "            check_box = driver.find_element_by_id('selectCheckbox')\n",
    "            check_box.click()  # 全选\n",
    "            time.sleep(2)\n",
    "            try:\n",
    "                next_page = driver.find_element_by_link_text(u'下一页')\n",
    "            except:\n",
    "                while_flag = False # 标志，以跳出外层while循环，没有下一页\n",
    "                time.sleep(1)\n",
    "                break\n",
    "            next_page.click()\n",
    "            flag = False\n",
    "            time.sleep(2)\n",
    "            the_n += 1\n",
    "            print(the_n)\n",
    "\n",
    "        #每次导出500篇\n",
    "        export = driver.find_element_by_xpath('//*[@id=\"J_ORDER\"]/tbody/tr[2]/td/table/tbody/tr/td[1]/div/a[2]')\n",
    "        export.click()\n",
    "        driver.switch_to_window(driver.window_handles[1]) #可能要重新定位windows\n",
    "        time.sleep(2)\n",
    "        zidingyi = driver.find_element_by_xpath('//*[@id=\"SaveTypeList\"]/li[10]/span[1]/a')\n",
    "        zidingyi.click()  \n",
    "        time.sleep(2.5)\n",
    "        select_all = driver.find_element_by_xpath('//*[@id=\"selfDefine\"]/table/tbody/tr[4]/td/input[1]')\n",
    "        select_all.click()\n",
    "        time.sleep(3)\n",
    "        download = driver.find_element_by_xpath('//*[@id=\"exportExcel\"]')     #下载 excel\n",
    "        download.click()\n",
    "        driver.close()\n",
    "        driver.switch_to_window(driver.window_handles[0])\n",
    "        if while_flag == False : #跳出while循环，没有下一页\n",
    "            break\n",
    "        #需要清除已选文献\n",
    "        driver.switch_to_frame('iframeResult')\n",
    "        time.sleep(150) # 不然知乎会要输入验证码\n",
    "        to_clear = driver.find_element_by_xpath('//*[@id=\"J_ORDER\"]/tbody/tr[2]/td/table/tbody/tr/td[1]/div/span/a')\n",
    "        to_clear.click()\n",
    "        the_n = the_n + 1\n",
    "    except:\n",
    "        print('Failed in ' + str(the_n))\n",
    "        break\n",
    "    \n",
    "\n"
   ]
  },
  {
   "cell_type": "code",
   "execution_count": 3,
   "metadata": {},
   "outputs": [
    {
     "name": "stdout",
     "output_type": "stream",
     "text": [
      "0\n",
      "1\n",
      "2\n",
      "3\n",
      "4\n",
      "5\n",
      "6\n",
      "7\n",
      "8\n",
      "9\n"
     ]
    }
   ],
   "source": []
  }
 ],
 "metadata": {
  "kernelspec": {
   "display_name": "Python 3",
   "language": "python",
   "name": "python3"
  },
  "language_info": {
   "codemirror_mode": {
    "name": "ipython",
    "version": 3
   },
   "file_extension": ".py",
   "mimetype": "text/x-python",
   "name": "python",
   "nbconvert_exporter": "python",
   "pygments_lexer": "ipython3",
   "version": "3.6.4"
  }
 },
 "nbformat": 4,
 "nbformat_minor": 2
}
