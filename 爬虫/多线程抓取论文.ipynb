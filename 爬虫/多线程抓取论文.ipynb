{
 "cells": [
  {
   "cell_type": "code",
   "execution_count": 17,
   "metadata": {},
   "outputs": [],
   "source": [
    "import threading\n",
    "from time import sleep, ctime\n",
    "\n",
    "papers = [] # 未抓取\n",
    "papers_done = [] #已抓取\n",
    "\n",
    "def get_papers(title,papers,papers_done):\n",
    "    title = papers[0]\n",
    "    #抓取函数\n",
    "    \n",
    "    #需要手写锁嘛？\n",
    "    papers_done.append(title)\n",
    "    papers.remove(title) #移除\n",
    "    print()\n",
    "\n",
    "if __name__ == '__main__':\n",
    "    threads = []\n",
    "    for i in range(5):\n",
    "        t = threading.Thread(target=get_papers,args=(title,papers,papers_done))\n",
    "        threads.append(t)\n",
    "    for thread in threads:\n",
    "        thread.join()\n",
    "    \n",
    "        \n",
    "    \n"
   ]
  },
  {
   "cell_type": "code",
   "execution_count": null,
   "metadata": {},
   "outputs": [],
   "source": []
  },
  {
   "cell_type": "code",
   "execution_count": 27,
   "metadata": {},
   "outputs": [
    {
     "name": "stdout",
     "output_type": "stream",
     "text": [
      "None\n"
     ]
    },
    {
     "data": {
      "text/plain": [
       "[1, 3]"
      ]
     },
     "execution_count": 27,
     "metadata": {},
     "output_type": "execute_result"
    }
   ],
   "source": [
    "a = [1,2,3]\n",
    "b = a.remove(2)\n"
   ]
  }
 ],
 "metadata": {
  "kernelspec": {
   "display_name": "Python 3",
   "language": "python",
   "name": "python3"
  },
  "language_info": {
   "codemirror_mode": {
    "name": "ipython",
    "version": 3
   },
   "file_extension": ".py",
   "mimetype": "text/x-python",
   "name": "python",
   "nbconvert_exporter": "python",
   "pygments_lexer": "ipython3",
   "version": "3.6.4"
  }
 },
 "nbformat": 4,
 "nbformat_minor": 2
}
