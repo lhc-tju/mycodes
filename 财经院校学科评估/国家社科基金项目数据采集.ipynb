{
 "cells": [
  {
   "cell_type": "markdown",
   "metadata": {},
   "source": [
    "#### 国家社科项目数据采集\n",
    "数据来源：官方数据库\n",
    "检索条件：高校名称\n",
    "数据涵盖各年度、各学科"
   ]
  },
  {
   "cell_type": "code",
   "execution_count": 2,
   "metadata": {},
   "outputs": [],
   "source": [
    "#法学补充采集\n",
    "import pandas as pd\n",
    "cols = pd.read_excel('基础数据/数据采集名单.xlsx',sheet_name='法学')\n",
    "all_cols = pd.read_excel('基础数据/数据采集名单.xlsx',sheet_name='全部')\n",
    "cols = [x.strip() for x in cols['学校名称']]\n",
    "all_cols = [x.strip() for x in all_cols['学校名称']]\n",
    "names = set(cols) - set(all_cols)"
   ]
  },
  {
   "cell_type": "code",
   "execution_count": 4,
   "metadata": {},
   "outputs": [],
   "source": [
    "import pandas as pd\n",
    "from time import sleep\n",
    "import re\n",
    "import threading\n",
    "import random\n",
    "from selenium import webdriver # 从selenium导入webdriver\n",
    "from selenium.webdriver.common.keys import Keys\n",
    "from selenium.webdriver.support.select import Select\n",
    "from selenium.webdriver.support import expected_conditions as EC\n",
    "from selenium.webdriver.common.by import By\n",
    "from selenium.webdriver.support.ui import WebDriverWait\n",
    "import os\n",
    "from itertools import product\n",
    "\n",
    "from bs4 import BeautifulSoup\n",
    "import requests\n",
    "import time\n",
    "import pandas as pd\n",
    "import re\n",
    "\n",
    "# colleges = pd.read_excel('基础数据/数据采集名单.xlsx',sheet_name='全部')\n",
    "# colleges = colleges['学校名称']\n",
    "colleges = names"
   ]
  },
  {
   "cell_type": "code",
   "execution_count": 5,
   "metadata": {},
   "outputs": [
    {
     "name": "stdout",
     "output_type": "stream",
     "text": [
      "黑龙江大学 采集完毕\n",
      "西北政法大学 采集完毕\n",
      "中国政法大学 采集完毕\n",
      "湖南师范大学 采集完毕\n",
      "南京师范大学 采集完毕\n",
      "烟台大学 采集完毕\n",
      "大连海事大学 采集完毕\n",
      "湘潭大学 采集完毕\n",
      "西南政法大学 采集完毕\n",
      "中国人民公安大学 采集完毕\n",
      "郑州大学 采集完毕\n",
      "华东政法大学 采集完毕\n"
     ]
    }
   ],
   "source": [
    "index_url = 'http://fz.people.com.cn/skygb/sk/index.php/Index/seach?gzdw='\n",
    "\n",
    "alldata = []\n",
    "for col in colleges:\n",
    "    url = index_url + col #第一页\n",
    "    res = requests.get(url)\n",
    "    soup = BeautifulSoup(res.text,'html5lib')\n",
    "    text = soup.select('.page')[0].text\n",
    "    try:\n",
    "        page_counts = int(re.findall('(\\d+) 页',text)[0])\n",
    "    except:\n",
    "        print(col+' 没有检索到项目信息')\n",
    "        continue\n",
    "    for i in range(page_counts): #遍历所有页面\n",
    "        url = index_url + col + '&p=' + str(i+1)\n",
    "        res = requests.get(url)\n",
    "        soup = BeautifulSoup(res.text,'html5lib')\n",
    "        items = soup.select('.jc_a')[0].select('tbody')[0].select('tr')\n",
    "        for item in items:\n",
    "            save_data = []\n",
    "            each_i = item.select('td')\n",
    "            for j in each_i:\n",
    "                save_data.append(j.text)\n",
    "            alldata.append(save_data)\n",
    "    print(col + ' 采集完毕')"
   ]
  },
  {
   "cell_type": "code",
   "execution_count": 6,
   "metadata": {},
   "outputs": [],
   "source": [
    "columns = ['项目批准号','项目类别','学科分类','项目名称','立项时间','项目负责人','专业职务','工作单位','单位类别','所在省区市','所属系统','成果名称','成果形式','成果等级','结项时间','结项证书号','出版社','出版时间','作者','获奖情况']\n",
    "df = pd.DataFrame(alldata,columns=columns)\n",
    "df = df.drop_duplicates()\n",
    "df.to_excel('国家社科项目/法学补充采集-国家社科基金项目.xlsx')"
   ]
  },
  {
   "cell_type": "code",
   "execution_count": 7,
   "metadata": {},
   "outputs": [],
   "source": [
    "df1 = pd.read_excel('国家社科项目/高校历年国家社科项目汇总.xlsx')\n",
    "df2 = pd.concat([df,df1])\n",
    "df2 = df2.drop_duplicates()\n",
    "df2.to_excel('国家社科项目/高校历年国家社科项目汇总2.xlsx')"
   ]
  },
  {
   "cell_type": "code",
   "execution_count": null,
   "metadata": {},
   "outputs": [],
   "source": []
  }
 ],
 "metadata": {
  "kernelspec": {
   "display_name": "Python 3",
   "language": "python",
   "name": "python3"
  },
  "language_info": {
   "codemirror_mode": {
    "name": "ipython",
    "version": 3
   },
   "file_extension": ".py",
   "mimetype": "text/x-python",
   "name": "python",
   "nbconvert_exporter": "python",
   "pygments_lexer": "ipython3",
   "version": "3.6.4"
  }
 },
 "nbformat": 4,
 "nbformat_minor": 2
}
