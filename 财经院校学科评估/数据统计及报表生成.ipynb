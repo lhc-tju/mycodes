{
 "cells": [
  {
   "cell_type": "markdown",
   "metadata": {},
   "source": [
    "#### 通用模块"
   ]
  },
  {
   "cell_type": "code",
   "execution_count": 1,
   "metadata": {},
   "outputs": [],
   "source": [
    "import pandas as pd\n",
    "import re\n",
    "import numpy as np\n",
    "def get_dir_filenames(path,ftype):\n",
    "    '''获取目录下所有指定格式的文件名'''\n",
    "    import os\n",
    "    names = []\n",
    "    for root, dirs, files in os.walk(path):\n",
    "        for file in files:\n",
    "            if ftype in file:\n",
    "                names.append(file)\n",
    "    return names\n"
   ]
  },
  {
   "cell_type": "markdown",
   "metadata": {},
   "source": [
    "#### 论文数据统计"
   ]
  },
  {
   "cell_type": "code",
   "execution_count": 2,
   "metadata": {
    "scrolled": true
   },
   "outputs": [],
   "source": [
    "def get_paper_total(source_path,subject,target_path):\n",
    "    '''source_path:数据来源\n",
    "       subject:学科\n",
    "       target_path:导出的文件名'''\n",
    "    df1 = pd.read_excel(source_path)\n",
    "    cols = pd.read_excel('基础数据/数据采集名单.xlsx',sheet_name=subject)\n",
    "    cols = [x.strip() for x in cols['学校名称']]\n",
    "    col_list = {}\n",
    "    for item in cols:\n",
    "        col_list[item] = []\n",
    "    #拆分学校\n",
    "    for index,row in df1.iterrows():\n",
    "        for col in cols:   \n",
    "            if col in row['Organ-单位']:\n",
    "                col_list[col].append(row)\n",
    "    temp_list = []\n",
    "    for col in col_list:\n",
    "        counts = len(col_list[col])\n",
    "        row = {'学校名称':col,'论文数':counts,'学科':subject}\n",
    "        temp_list.append(row)\n",
    "    df2 = pd.DataFrame(temp_list)\n",
    "    df2.to_excel(target_path,index=False)\n",
    "    print('finish')\n",
    "\n",
    "def get_paper_detail(source_path,subject,target_path):\n",
    "    '''source_path:数据来源\n",
    "       subject:学科\n",
    "       target_path:要存放数据的目录'''\n",
    "    df1 = pd.read_excel(source_path)\n",
    "    cols = pd.read_excel('基础数据/数据采集名单.xlsx',sheet_name=subject)\n",
    "    cols = [x.strip() for x in cols['学校名称']]\n",
    "    col_list = {}\n",
    "    for item in cols:\n",
    "        col_list[item] = []\n",
    "    #拆分学校\n",
    "    for index,row in df1.iterrows():\n",
    "        for col in cols:   \n",
    "            if col in row['Organ-单位']:\n",
    "                col_list[col].append(row)\n",
    "    years = ['2016','2017','2018','2019']\n",
    "    all_list = []\n",
    "    for col in col_list:\n",
    "        counts = {}\n",
    "        for item in years:\n",
    "            counts[item] = 0\n",
    "        df2 = pd.DataFrame(col_list[col])\n",
    "        for index,row in df2.iterrows():\n",
    "            for year in years:\n",
    "                if year == str(row['Year-年']):\n",
    "                    counts[year]+=1\n",
    "                    break\n",
    "        temp_list = []\n",
    "        for year in counts:\n",
    "            row = {'学校名称':col,'发表时间':year,'论文数':counts[year]}\n",
    "            temp_list.append(row)\n",
    "        df3 = pd.DataFrame(temp_list)\n",
    "        all_list.append(df3)\n",
    "    df4 = pd.concat(all_list)\n",
    "    mdict = {}\n",
    "    for item in years:\n",
    "        mdict[item] = []\n",
    "    for index,row in df4.iterrows():\n",
    "        mdict[str(row['发表时间'])].append(row)\n",
    "    for item in mdict:\n",
    "        df5 = pd.DataFrame(mdict[item])\n",
    "        df5.to_excel(target_path+'/'+subject+'-'+item+'-中文期刊论文.xlsx',index=False)\n",
    "    print('finish')\n",
    "    \n",
    "#get_paper_detail('中文期刊论文/统计学汇总.xlsx','统计学','test')"
   ]
  },
  {
   "cell_type": "code",
   "execution_count": 4,
   "metadata": {},
   "outputs": [
    {
     "name": "stdout",
     "output_type": "stream",
     "text": [
      "finish\n",
      "finish\n"
     ]
    }
   ],
   "source": [
    "get_paper_total('中文期刊论文/法学汇总.xlsx','法学','报表数据/法学/2016-2019年各校中文期刊论文总体情况.xlsx')\n",
    "get_paper_detail('中文期刊论文/法学汇总.xlsx','法学','报表数据/法学/中文期刊论文')"
   ]
  },
  {
   "cell_type": "markdown",
   "metadata": {},
   "source": [
    "#### 国家社科项目总数统计和各年度数据统计\n",
    "如果当年没有项目，需要明确指定为零"
   ]
  },
  {
   "cell_type": "code",
   "execution_count": 21,
   "metadata": {},
   "outputs": [],
   "source": [
    "def get_sk_total(source_path,subject,target_path):\n",
    "    '''source_path:数据来源\n",
    "       subject:学科\n",
    "       target_path:导出的文件名'''\n",
    "    df = pd.read_excel(source_path)\n",
    "    cols = pd.read_excel('基础数据/数据采集名单.xlsx',sheet_name=subject)\n",
    "    cols = [x.strip() for x in cols['学校名称']]\n",
    "    temp_list = []\n",
    "    for index,row in df.iterrows():\n",
    "        if row['工作单位'].strip() in cols:\n",
    "            temp_list.append(row)\n",
    "    df = pd.DataFrame(temp_list) # 获取相关的学校\n",
    "    temp =pd.DataFrame(df['工作单位'].value_counts())\n",
    "\n",
    "    temp['学科'] = subject\n",
    "    temp.to_excel(target_path)\n",
    "    print('get_total() has finished.')\n",
    "\n",
    "def get_sk_detail(source_path,subject,target_path):\n",
    "    '''source_path:数据来源\n",
    "       subject:学科\n",
    "       target_path:要存放数据的目录'''\n",
    "    # 获取相关的学校\n",
    "    df1 = pd.read_excel(source_path)\n",
    "    cols = pd.read_excel('基础数据/数据采集名单.xlsx',sheet_name=subject)\n",
    "    cols = [x.strip() for x in cols['学校名称']]\n",
    "    temp_list = []\n",
    "    for index,row in df1.iterrows():\n",
    "        if row['工作单位'].strip() in cols:\n",
    "            temp_list.append(row)\n",
    "    df2 = pd.DataFrame(temp_list) \n",
    "    #拆分各校\n",
    "    cols = [x.strip() for x in df2['工作单位']]\n",
    "    col_dic = {}\n",
    "    for item in cols:\n",
    "        col_dic[item] = []\n",
    "    for index, row in df2.iterrows():\n",
    "        col_dic[row['工作单位']].append(row)\n",
    "    #统计各校各年度数据\n",
    "    years = ['2016','2017','2018','2019']\n",
    "    all_list = []\n",
    "    #fnames = get_dir_filenames('报表数据/应用经济学/国家社科-各校','.xlsx')\n",
    "    for key in col_dic:\n",
    "        counts = {}\n",
    "        for item in years:\n",
    "            counts[item] = 0\n",
    "        df3 = pd.DataFrame(col_dic[key])\n",
    "        for index, row in df3.iterrows():\n",
    "            for year in years:\n",
    "                if str(year) == str(row['立项时间'])[:4]:\n",
    "                    counts[year]+=1\n",
    "                    break\n",
    "        temp_list = []\n",
    "        for year in counts:\n",
    "            row = {'学校名称':key,'立项时间':year,'项目数':counts[year]}\n",
    "            temp_list.append(row)\n",
    "        df4 = pd.DataFrame(temp_list)\n",
    "        all_list.append(df4)\n",
    "    df5 = pd.concat(all_list)\n",
    "    mdict = {}\n",
    "    for item in years:\n",
    "        mdict[item] = []\n",
    "    for index,row in df5.iterrows():\n",
    "        mdict[str(row['立项时间'])].append(row)\n",
    "    for item in mdict:\n",
    "        df6 = pd.DataFrame(mdict[item])\n",
    "        df6.to_excel(target_path+'/'+subject+'-'+item+'-国社科.xlsx',index=False)\n",
    "    print('finish')"
   ]
  },
  {
   "cell_type": "code",
   "execution_count": 17,
   "metadata": {},
   "outputs": [
    {
     "name": "stdout",
     "output_type": "stream",
     "text": [
      "get_total() has finished.\n",
      "finish\n"
     ]
    }
   ],
   "source": [
    "get_sk_total('国家社科项目/国家社科-统计学.xlsx','统计学','报表数据/统计学/2016-2019年各校国家社会科学基金项目数总体情况.xlsx')\n",
    "get_sk_detail('国家社科项目/国家社科-统计学.xlsx','统计学','报表数据/统计学/国家社科')"
   ]
  },
  {
   "cell_type": "code",
   "execution_count": 8,
   "metadata": {},
   "outputs": [
    {
     "name": "stdout",
     "output_type": "stream",
     "text": [
      "finish\n"
     ]
    }
   ],
   "source": []
  },
  {
   "cell_type": "markdown",
   "metadata": {},
   "source": [
    "#### 国家自然科学基金"
   ]
  },
  {
   "cell_type": "code",
   "execution_count": 18,
   "metadata": {},
   "outputs": [],
   "source": [
    "def get_zr_total(dpath,subject,spath):\n",
    "    '''\n",
    "    dpath:原始数据目录\n",
    "    spath:导出的数据文件名'''\n",
    "    fnames = get_dir_filenames(dpath,'.xlsx')\n",
    "    temp_list = []\n",
    "    for name in fnames:\n",
    "        df1 = pd.read_excel(dpath+'/'+name)\n",
    "        row = {'学校名称':name.split('.')[0],'学科':subject,'项目数':len(df1)}\n",
    "        temp_list.append(row)\n",
    "    df2 = pd.DataFrame(temp_list)\n",
    "    df2.to_excel(spath,index=False)\n",
    "    print('finish')\n",
    "\n",
    "def get_zr_detail(dpath,subject,spath):\n",
    "    '''\n",
    "    dpath:原始数据目录\n",
    "    spath:导出的目录'''\n",
    "    fnames = get_dir_filenames(dpath,'.xlsx')\n",
    "    years = ['2016','2017','2018','2019']\n",
    "    all_list = []\n",
    "    for name in fnames:\n",
    "        df1 = pd.read_excel(dpath+'/'+name)\n",
    "        count_dict = {}\n",
    "        for year in years:\n",
    "            count_dict[year] = 0\n",
    "        for index, row in df1.iterrows():\n",
    "            for year in count_dict:\n",
    "                if year == str(row['批准年份']):\n",
    "                    count_dict[year]+=1\n",
    "        temp_list = []\n",
    "        for year in count_dict:\n",
    "            row = {'学校名称':name.split('.')[0],'批准年份':str(year),'学科':subject,'项目数':count_dict[year]}\n",
    "            temp_list.append(row)\n",
    "        df2 = pd.DataFrame(temp_list)\n",
    "        all_list.append(df2)\n",
    "    df3 = pd.concat(all_list)\n",
    "    mdict = {}\n",
    "    for item in years:\n",
    "        mdict[item] = []\n",
    "    for index,row in df3.iterrows():\n",
    "        mdict[str(row['批准年份'])].append(row)\n",
    "    for item in mdict:\n",
    "        df4 = pd.DataFrame(mdict[item])\n",
    "        df4.to_excel(spath+'/'+subject+'-'+item+'-国自然.xlsx',index=False)\n",
    "    print('finish')\n",
    "    "
   ]
  },
  {
   "cell_type": "code",
   "execution_count": 19,
   "metadata": {},
   "outputs": [
    {
     "name": "stdout",
     "output_type": "stream",
     "text": [
      "finish\n",
      "finish\n"
     ]
    }
   ],
   "source": [
    "# get_zr_total('国家自然项目/统计学','统计学','报表数据/统计学/2016-2019年国家自然科学基金项目数总体情况.xlsx')\n",
    "# get_zr_detail('国家自然项目/统计学','统计学','报表数据/统计学/国家自然')"
   ]
  },
  {
   "cell_type": "code",
   "execution_count": 11,
   "metadata": {},
   "outputs": [
    {
     "name": "stdout",
     "output_type": "stream",
     "text": [
      "finish\n"
     ]
    }
   ],
   "source": []
  },
  {
   "cell_type": "markdown",
   "metadata": {},
   "source": [
    "#### 教育部项目"
   ]
  },
  {
   "cell_type": "code",
   "execution_count": 20,
   "metadata": {},
   "outputs": [],
   "source": [
    "def get_jyb_total(dpath,subject,spath):\n",
    "    df1 = pd.read_excel(dpath)\n",
    "    cols = pd.read_excel('基础数据/数据采集名单.xlsx',sheet_name=subject)\n",
    "    cols = [x.strip() for x in cols['学校名称']]\n",
    "    col_list = {}\n",
    "    for item in cols:\n",
    "        col_list[item] = []\n",
    "    #拆分学校\n",
    "    for index,row in df1.iterrows():\n",
    "        col_list[row['学校名称']].append(row)\n",
    "    temp_list = []\n",
    "    for col in col_list:\n",
    "        counts = len(col_list[col])\n",
    "        row = {'学校名称':col,'项目数':counts,'学科':subject}\n",
    "        temp_list.append(row)\n",
    "    df2 = pd.DataFrame(temp_list)\n",
    "    df2.to_excel(spath,index=False)\n",
    "    print('finish')\n",
    "#get_jyb_total('教育部项目/应用经济学.xlsx','应用经济学','报表数据/应用经济学/2016-2019年各校教育部项目总体情况.xlsx')\n",
    "\n",
    "def get_jyb_detail(dpath,subject,spath):\n",
    "    # 获取相关的学校\n",
    "    df1 = pd.read_excel(dpath)\n",
    "    cols = pd.read_excel('基础数据/数据采集名单.xlsx',sheet_name=subject)\n",
    "    cols = [x.strip() for x in cols['学校名称']]\n",
    "    temp_list = []\n",
    "    for index,row in df1.iterrows():\n",
    "        if row['学校名称'].strip() in cols:\n",
    "            temp_list.append(row)\n",
    "    df2 = pd.DataFrame(temp_list) \n",
    "    #拆分各校\n",
    "    cols = [x.strip() for x in df2['学校名称']]\n",
    "    col_dic = {}\n",
    "    for item in cols:\n",
    "        col_dic[item] = []\n",
    "    for index, row in df2.iterrows():\n",
    "        col_dic[row['学校名称']].append(row)\n",
    "    #统计各校各年度数据\n",
    "    years = ['2016','2017','2018','2019']\n",
    "    all_list = []\n",
    "    #fnames = get_dir_filenames('报表数据/应用经济学/国家社科-各校','.xlsx')\n",
    "    for key in col_dic:\n",
    "        counts = {}\n",
    "        for item in years:\n",
    "            counts[item] = 0\n",
    "        df3 = pd.DataFrame(col_dic[key])\n",
    "        for index, row in df3.iterrows():\n",
    "            for year in years:\n",
    "                if str(year) == str(row['立项时间'])[:4]:\n",
    "                    counts[year]+=1\n",
    "                    break\n",
    "        temp_list = []\n",
    "        for year in counts:\n",
    "            row = {'学校名称':key,'立项时间':year,'项目数':counts[year]}\n",
    "            temp_list.append(row)\n",
    "        df4 = pd.DataFrame(temp_list)\n",
    "        all_list.append(df4)\n",
    "    df5 = pd.concat(all_list)\n",
    "    mdict = {}\n",
    "    for item in years:\n",
    "        mdict[item] = []\n",
    "    for index,row in df5.iterrows():\n",
    "        mdict[str(row['立项时间'])].append(row)\n",
    "    for item in mdict:\n",
    "        df6 = pd.DataFrame(mdict[item])\n",
    "        df6.to_excel(spath+'/'+subject+'-'+item+'-教育部.xlsx',index=False)\n",
    "    print('finish')\n",
    "#get_jyb_detail('教育部项目/应用经济学.xlsx','应用经济学','报表数据/应用经济学')"
   ]
  },
  {
   "cell_type": "code",
   "execution_count": 22,
   "metadata": {},
   "outputs": [
    {
     "name": "stdout",
     "output_type": "stream",
     "text": [
      "finish\n",
      "finish\n"
     ]
    }
   ],
   "source": [
    "get_jyb_total('教育部项目/统计学.xlsx','统计学','报表数据/统计学/2016-2019年各校教育部项目数总体情况.xlsx')\n",
    "get_jyb_detail('教育部项目/统计学.xlsx','统计学','报表数据/统计学/教育部')"
   ]
  },
  {
   "cell_type": "code",
   "execution_count": 14,
   "metadata": {},
   "outputs": [
    {
     "name": "stdout",
     "output_type": "stream",
     "text": [
      "finish\n"
     ]
    }
   ],
   "source": []
  },
  {
   "cell_type": "markdown",
   "metadata": {},
   "source": [
    "#### 中文论文关键词云统计"
   ]
  },
  {
   "cell_type": "code",
   "execution_count": 15,
   "metadata": {
    "scrolled": true
   },
   "outputs": [],
   "source": [
    "def get_years_wordcloud(dpath,spath):\n",
    "    df = pd.read_excel(dpath)\n",
    "    items = [x for x in df['Keyword-关键词']]\n",
    "    all_list = []\n",
    "    for item in items:\n",
    "        try:\n",
    "            all_list += item.split(';;')\n",
    "        except:\n",
    "            print('kw is null')\n",
    "            continue\n",
    "    kws = set(all_list)\n",
    "    list_dict = []\n",
    "    for item in kws:\n",
    "        row = {'关键词':item, '个数':all_list.count(item)}\n",
    "        list_dict.append(row)\n",
    "    df1 = pd.DataFrame(list_dict)\n",
    "    df2 = df1.nlargest(100,'个数')\n",
    "    mdict = df2.to_dict(orient='records')\n",
    "    mdict = str(mdict).replace('},','},\\n').replace('\\'','\"')\n",
    "    with open(spath,'w',encoding='utf-8') as f:\n",
    "        f.write(mdict)\n",
    "    print('finish')\n",
    "    \n",
    "#get_years_wordcloud('中文期刊论文/应用经济学汇总.xlsx','报表数据/应用经济学/应用经济学词云.txt')\n",
    "def get_every_year_wc(dpath,spath):\n",
    "    df = pd.read_excel(dpath)\n",
    "    df1 = pd.DataFrame()\n",
    "    df1['关键词'] = df['Keyword-关键词']\n",
    "    df1['发表年份'] = df['Year-年']\n",
    "    #按年份拆分论文\n",
    "    years = ['2016','2017','2018','2019']\n",
    "    mdict_0 = {}\n",
    "    for year in years:\n",
    "        mdict_0[year] = []\n",
    "    for index,row in df1.iterrows():\n",
    "#         try:\n",
    "        mdict_0[str(row['发表年份'])].append(row)\n",
    "#         except:\n",
    "#             print('Row {} maybe null.'.format(index))\n",
    "    #计算各年度关键词数\n",
    "    for year in years:\n",
    "        df2 = pd.DataFrame(mdict_0[year])\n",
    "        try:\n",
    "            items = [x.strip() for x in df2['关键词']]\n",
    "        except:\n",
    "            print('kw is null')\n",
    "        all_list = []\n",
    "        for item in items:\n",
    "            try:\n",
    "                all_list += item.split(';;')\n",
    "            except:\n",
    "                print('kw is null')\n",
    "                continue\n",
    "        kws = set(all_list)\n",
    "        list_dict = []\n",
    "        for item in kws:\n",
    "            row = {'关键词':item, '个数':all_list.count(item)}\n",
    "            list_dict.append(row)\n",
    "        df3 = pd.DataFrame(list_dict)\n",
    "        df4 = df3.nlargest(100,'个数')\n",
    "        mdict = df4.to_dict(orient='records')\n",
    "        mdict = str(mdict).replace('},','},\\n').replace('\\'','\"')\n",
    "        with open(spath+'/'+year+'-关键词云.txt','w',encoding='utf-8') as f:\n",
    "            f.write(mdict)\n",
    "        print( year+'-关键词云.txt finish')\n"
   ]
  },
  {
   "cell_type": "code",
   "execution_count": 16,
   "metadata": {},
   "outputs": [
    {
     "name": "stdout",
     "output_type": "stream",
     "text": [
      "kw is null\n",
      "kw is null\n",
      "finish\n",
      "2016-关键词云.txt finish\n",
      "2017-关键词云.txt finish\n",
      "kw is null\n",
      "2018-关键词云.txt finish\n",
      "2019-关键词云.txt finish\n"
     ]
    }
   ],
   "source": [
    "get_years_wordcloud('中文期刊论文/法学汇总.xlsx','临时数据/2016-2019年统计学-关键词云.txt')\n",
    "get_every_year_wc('中文期刊论文/法学汇总.xlsx','临时数据')"
   ]
  },
  {
   "cell_type": "code",
   "execution_count": 19,
   "metadata": {},
   "outputs": [
    {
     "name": "stdout",
     "output_type": "stream",
     "text": [
      "2016-关键词云.txt finish\n",
      "2017-关键词云.txt finish\n",
      "kw is null\n",
      "2018-关键词云.txt finish\n",
      "2019-关键词云.txt finish\n"
     ]
    }
   ],
   "source": [
    "# get_every_year_wc('中文期刊论文/工商管理汇总.xlsx','报表数据/工商管理/关键词云')"
   ]
  },
  {
   "cell_type": "markdown",
   "metadata": {},
   "source": [
    "#### 国家自然科学基金项目"
   ]
  },
  {
   "cell_type": "code",
   "execution_count": null,
   "metadata": {},
   "outputs": [],
   "source": []
  },
  {
   "cell_type": "markdown",
   "metadata": {},
   "source": [
    "### json 数据生成"
   ]
  },
  {
   "cell_type": "markdown",
   "metadata": {},
   "source": [
    "#### 汇总数据2json"
   ]
  },
  {
   "cell_type": "code",
   "execution_count": 6,
   "metadata": {},
   "outputs": [],
   "source": [
    "def all_to_json(dpath,spath,sorted_item):\n",
    "    df = pd.read_excel(dpath)\n",
    "    df = df.sort_values(by=sorted_item,ascending=False)\n",
    "    temp_list = df.to_dict(orient='records')\n",
    "    mdict = {}\n",
    "    mdict['datas'] = temp_list\n",
    "    title = [{\"text\":spath.split('/')[-1].split('.')[0],\"ge\":\"访问来源\"}]\n",
    "    mdict['title'] = title\n",
    "    mdict = str(mdict).replace('},','},\\n').replace('\\'','\"')\n",
    "    with open(spath,'w',encoding='utf-8') as f:\n",
    "        f.write(mdict)\n",
    "    print('finish')\n",
    "    \n",
    "def every_year2json(dpath,spath):\n",
    "    '''各年度具体数据\n",
    "    dpath:原始数据路径\n",
    "    spath:导出数据路径'''\n",
    "    fnames = get_dir_filenames(dpath,'.xlsx')\n",
    "    for name in fnames:\n",
    "        df = pd.read_excel(dpath+'/'+name)\n",
    "        mdict = df.to_dict(orient='records')\n",
    "        mdict = str(mdict).replace('},','},\\n').replace('\\'','\"')\n",
    "        with open(spath+'/'+name.split('.')[0].split('-')[1]+ '.txt','w',encoding='utf-8') as f:\n",
    "            f.write(mdict)\n",
    "    print('finish')\n",
    "    \n",
    "def every_year2json_sort(dpath,spath,sorted_item):\n",
    "    '''各年度具体数据\n",
    "    dpath:原始数据路径\n",
    "    spath:导出数据路径'''\n",
    "    fnames = get_dir_filenames(dpath,'.xlsx')\n",
    "    for name in fnames:\n",
    "        df = pd.read_excel(dpath+'/'+name)\n",
    "        df = df.sort_values(by=sorted_item,ascending=False)\n",
    "        mdict = df.to_dict(orient='records')\n",
    "        mdict = str(mdict).replace('},','},\\n').replace('\\'','\"')\n",
    "        with open(spath+'/'+name.split('.')[0].split('-')[1]+ '-sorted.txt','w',encoding='utf-8') as f:\n",
    "            f.write(mdict)\n",
    "    print('finish')"
   ]
  },
  {
   "cell_type": "code",
   "execution_count": 11,
   "metadata": {
    "scrolled": false
   },
   "outputs": [
    {
     "name": "stdout",
     "output_type": "stream",
     "text": [
      "finish\n"
     ]
    }
   ],
   "source": [
    "fname = '2016-2019年各校中文期刊论文总体情况'\n",
    "all_to_json('报表数据/法学/{}.xlsx'.format(fname),'临时数据/{}.json'.format(fname),'论文数')"
   ]
  },
  {
   "cell_type": "code",
   "execution_count": 14,
   "metadata": {},
   "outputs": [
    {
     "name": "stdout",
     "output_type": "stream",
     "text": [
      "finish\n",
      "finish\n"
     ]
    }
   ],
   "source": [
    "every_year2json('报表数据/法学/中文期刊论文','临时数据')\n",
    "every_year2json_sort('报表数据/法学/中文期刊论文','临时数据','论文数')"
   ]
  },
  {
   "cell_type": "markdown",
   "metadata": {},
   "source": [
    "#### 历次学科评估结果-json"
   ]
  },
  {
   "cell_type": "code",
   "execution_count": 9,
   "metadata": {},
   "outputs": [],
   "source": [
    "fnames = get_dir_filenames('历次全国学科评估结果/前三轮','.xlsx')\n",
    "for name in fnames:\n",
    "    df = pd.read_excel('历次全国学科评估结果/前三轮/'+name)\n",
    "    cols = [x.strip() for x in df['学校名称']]\n",
    "    rank = [x+1 for x in np.arange(len(df))]\n",
    "    df1 = pd.DataFrame()\n",
    "    df1['学校名称'] = cols\n",
    "    df1['排名'] = rank\n",
    "    mdict = df1.to_dict(orient='records')\n",
    "    mdict = str(mdict).replace('},','},\\n').replace('\\'','\"').replace('\"学校名称\"','\"department\"').replace('\"排名\"','\"rank\"')\n",
    "    with open('历次全国学科评估结果/json/'+name.split('.')[0]+'.json','w',encoding='utf-8') as f:\n",
    "        f.write(mdict)"
   ]
  },
  {
   "cell_type": "code",
   "execution_count": 12,
   "metadata": {},
   "outputs": [],
   "source": [
    "fnames = get_dir_filenames('历次全国学科评估结果/第四轮','.xlsx')\n",
    "for name in fnames:\n",
    "    df = pd.read_excel('历次全国学科评估结果/第四轮/'+name)\n",
    "    cols = [re.split('\\s+',x.strip())[1] for x in df['学校代码及名称']]\n",
    "    rank = [x.strip() for x in df['评估结果']]\n",
    "    df1 = pd.DataFrame()\n",
    "    df1['department'] = cols\n",
    "    df1['rank'] = rank\n",
    "    mdict = df1.to_dict(orient='records')\n",
    "    mdict = str(mdict).replace('},','},\\n').replace('\\'','\"')\n",
    "    with open('历次全国学科评估结果/json/'+name.split('.')[0]+'.json','w',encoding='utf-8') as f:\n",
    "        f.write(mdict)"
   ]
  },
  {
   "cell_type": "code",
   "execution_count": 4,
   "metadata": {},
   "outputs": [
    {
     "data": {
      "text/plain": [
       "[1, 2, 3, 4, 5, 6, 7, 8, 9, 10]"
      ]
     },
     "execution_count": 4,
     "metadata": {},
     "output_type": "execute_result"
    }
   ],
   "source": [
    "rank"
   ]
  },
  {
   "cell_type": "code",
   "execution_count": null,
   "metadata": {},
   "outputs": [],
   "source": []
  }
 ],
 "metadata": {
  "kernelspec": {
   "display_name": "Python 3",
   "language": "python",
   "name": "python3"
  },
  "language_info": {
   "codemirror_mode": {
    "name": "ipython",
    "version": 3
   },
   "file_extension": ".py",
   "mimetype": "text/x-python",
   "name": "python",
   "nbconvert_exporter": "python",
   "pygments_lexer": "ipython3",
   "version": "3.6.4"
  }
 },
 "nbformat": 4,
 "nbformat_minor": 2
}
