{
 "cells": [
  {
   "cell_type": "markdown",
   "metadata": {},
   "source": [
    "### 第一步，要对采集的数据进行审查，确保数据无误之后再进一步操作\n",
    "1. 高校会在期刊上登记广告、公告、新书推荐之类的信息，可以删去；查找方法为定位作者一栏为空的情况\n",
    "2. 统计学excel文件存放的是统计学学科的B档及以上的高校的统计学类期刊论文数据，应用经济学excel文件存放的是应用经济学学科B档及以上的高校的经济学类期刊论文数据（待分隔）\n",
    "3. 国家社科基金项目，国社科数据库里面只更新到2018年的，2019年的数据已经发布，记得补充上。 项目只考虑一般项目、重点项目、青年项目\n",
    "4. 注意一下2019年的国家国家自然科学基金项目、教育部项目数据是否发布，如果能找到国家自然项目数据的官方文件最好了。\n",
    "5. 经济学分成理论经济学、应用经济学"
   ]
  },
  {
   "cell_type": "markdown",
   "metadata": {},
   "source": [
    "### 关于学科分类\n",
    "\n",
    " 1. 中文期刊论文\n",
    "        经济学：分成两类，去掉理论经济学\n",
    "        管理学：根据工商管理相关的关键词筛选\n",
    "        统计学：全选   \n",
    "    \n",
    " 2. 国家社科项目\n",
    "\n",
    "        经济学：直接就有应用经济这一类别，全选\n",
    "        管理学：根据工商管理相关的关键词筛选\n",
    "        统计学：全选\n",
    "    \n",
    " 3. 国家自然基金项目\n",
    "\n",
    "        经济学：分成两类，剔除理论经济学\n",
    "        管理学：采集的时候直接采集的工商管理，全选\n",
    "        统计学：采集的时候直接采集的统计学相关，全选\n",
    "\n",
    " 4. 教育部项目\n",
    "\n",
    "        经济学：分成两类，去掉理论经济学\n",
    "        管理学：根据工商管理相关关键词筛选\n",
    "        统计学：全选\n",
    "    \n",
    "其他\n",
    "\n",
    "    经济学：\n",
    "    理论经济学关键词：kw = ['马克思','宏观经济','微观经济','政治经济','西方经济','科学经济','人类经济','理论经济']\n",
    "    应用经济学关键词  = ['经济', '保险', '资本', '汇率', '货币', '财务', '税', '外汇', '贸易', '外资', '股票', '投资', '金融', '证券', '筹资', '基金', '股权', '银行', '信托', '债券', '财政', '货币', '银行', '企业管理', '财务', '会计', '市场', '成本', '利润', '市场规模', '城市化', '城镇化', '业绩', '支出', '效益', '通货膨胀', '投入产出', '进口', '出口', '民营', '绩效', '产能', '补贴', '失业', '房价', '物价', '信贷']\n",
    "        \n",
    "    管理学：\n",
    "    工商管理关键词：temp = '上市公司、工商管理、注册会计师、内部控制、财政管理、公司治理、审计质量、生产管理、生产控制、生产组织、生产计划、经营管理、风险投资、技术创新、股权结构、管理经营、市场战略、组织价值观、市场导向、质量导向、企业绩效、组织变革、创新绩效、盈余管理、股东控制、财务、投资管理、企业控制、筹资、利润管理、利润分配、经济管理、管理成本、成本管理、研发管理、团队建设、流程设计、管理绩效、管理风险、绩效管理、风险管理、项目管理、管理项目、管理知识、知识管理、营销管理、物资管理、管理设施、设施管理、管理质量、质量管理、管理品牌、品牌管理、人力资源、人力管理、绩效管理、管理绩效、劳动关系、薪酬管理、管理薪酬、福利管理、管理福利、会计、企业管理、管理企业、技术管理、管理技术、战略管理、企业战略、资源规划、品牌、投资、绩效、审计、经营'\n",
    "\n",
    "    统计学\n",
    "    tjx = ['统计', '样本', '测量', '尺度', '相关性', '相关系数', '数理', '国势', '政治算术']\n"
   ]
  },
  {
   "cell_type": "markdown",
   "metadata": {},
   "source": [
    "#### 通用模块"
   ]
  },
  {
   "cell_type": "code",
   "execution_count": 1,
   "metadata": {},
   "outputs": [],
   "source": [
    "import pandas as pd\n",
    "import re\n",
    "def get_dir_filenames(path,ftype):\n",
    "    '''获取目录下所有指定格式的文件名'''\n",
    "    import os\n",
    "    names = []\n",
    "    for root, dirs, files in os.walk(path):\n",
    "        for file in files:\n",
    "            if ftype in file:\n",
    "                names.append(file)\n",
    "    return names\n"
   ]
  },
  {
   "cell_type": "markdown",
   "metadata": {},
   "source": [
    "#### 从经济学中提取应用经济学、从管理学中提取工商管理"
   ]
  },
  {
   "cell_type": "code",
   "execution_count": 4,
   "metadata": {},
   "outputs": [],
   "source": [
    "def get_yyjjx(dpath,item_name,spath):\n",
    "    def is_in(kws,text): \n",
    "        for kw in kws:\n",
    "            if kw in text:\n",
    "                return True\n",
    "        return False\n",
    "    kws = ['马克思','宏观经济','微观经济','政治经济','西方经济','科学经济','人类经济','理论经济']\n",
    "    df1 = pd.read_excel(dpath)\n",
    "    temp_list = []\n",
    "    for index, row in df1.iterrows():\n",
    "        if is_in(kws,row[item_name]):\n",
    "            continue\n",
    "        temp_list.append(row)\n",
    "    df2 = pd.DataFrame(temp_list)\n",
    "    df2.to_excel(spath)\n",
    "    print('应用经济学提取完毕.')\n",
    "    #return df2\n",
    "\n",
    "def get_gsgl(dpath,item_name,spath): \n",
    "    def is_in(kws,text): \n",
    "        for kw in kws:\n",
    "            if kw in text:\n",
    "                return True\n",
    "        return False\n",
    "    temp = '商业模式、商业模式、市场竞争、工商、注册会计师、内部控制、财政管理、公司治理、审计质量、生产管理、生产控制、生产组织、生产计划、经营管理、风险投资、技术创新、股权结构、管理经营、市场战略、组织价值观、市场导向、质量导向、企业绩效、组织变革、创新绩效、盈余管理、股东控制、财务、投资管理、企业控制、筹资、利润管理、利润分配、经济管理、管理成本、成本管理、研发管理、团队建设、流程设计、管理绩效、管理风险、绩效管理、风险管理、项目管理、管理项目、管理知识、知识管理、营销管理、物资管理、管理设施、设施管理、管理质量、质量管理、管理品牌、品牌管理、人力资源、人力管理、绩效管理、管理绩效、劳动关系、薪酬管理、管理薪酬、福利管理、管理福利、会计、企业管理、管理企业、技术管理、管理技术、战略管理、企业、资源规划、品牌、投资、绩效、审计、经营、知识产权'\n",
    "    kws = temp.split('、')\n",
    "    df1 = pd.read_excel(dpath)\n",
    "    temp_list = []\n",
    "    for index, row in df1.iterrows():\n",
    "        if is_in(kws,row[item_name]):\n",
    "            temp_list.append(row)\n",
    "    df2 = pd.DataFrame(temp_list)\n",
    "    df2.to_excel(spath)\n",
    "    print('工商管理提取完毕.')\n",
    "    #return df2\n",
    "    \n",
    "def get_gsgl2(dpath,item_names,spath): #论文\n",
    "    def is_in(kws,text): \n",
    "        for kw in kws:\n",
    "            if kw in text:\n",
    "                return True\n",
    "        return False\n",
    "    temp = '商业模式、商业模式、市场竞争、工商、注册会计师、内部控制、财政管理、公司治理、审计质量、生产管理、生产控制、生产组织、生产计划、经营管理、风险投资、技术创新、股权结构、管理经营、市场战略、组织价值观、市场导向、质量导向、企业绩效、组织变革、创新绩效、盈余管理、股东控制、财务、投资管理、企业控制、筹资、利润管理、利润分配、经济管理、管理成本、成本管理、研发管理、团队建设、流程设计、管理绩效、管理风险、绩效管理、风险管理、项目管理、管理项目、管理知识、知识管理、营销管理、物资管理、管理设施、设施管理、管理质量、质量管理、管理品牌、品牌管理、人力资源、人力管理、绩效管理、管理绩效、劳动关系、薪酬管理、管理薪酬、福利管理、管理福利、会计、企业管理、管理企业、技术管理、管理技术、战略管理、企业、资源规划、品牌、投资、绩效、审计、经营、知识产权'\n",
    "    kws = temp.split('、')\n",
    "    df1 = pd.read_excel(dpath)\n",
    "    temp_list = []\n",
    "    for index, row in df1.iterrows():\n",
    "        try:\n",
    "            if is_in(kws,row[item_names[0]]) or is_in(kws,row[item_names[1]]):\n",
    "                temp_list.append(row)\n",
    "        except:\n",
    "            continue\n",
    "    df2 = pd.DataFrame(temp_list)\n",
    "    df2.to_excel(spath)\n",
    "    print('工商管理提取完毕.')\n",
    "    #return df2\n"
   ]
  },
  {
   "cell_type": "code",
   "execution_count": 8,
   "metadata": {},
   "outputs": [
    {
     "name": "stdout",
     "output_type": "stream",
     "text": [
      "工商管理提取完毕.\n"
     ]
    }
   ],
   "source": [
    "get_gsgl('教育部项目/管理学.xlsx','项目名称','教育部项目/工商管理.xlsx')"
   ]
  },
  {
   "cell_type": "code",
   "execution_count": 6,
   "metadata": {},
   "outputs": [
    {
     "name": "stdout",
     "output_type": "stream",
     "text": [
      "工商管理提取完毕.\n"
     ]
    }
   ],
   "source": [
    "get_gsgl2('中文期刊论文/管理学汇总.xlsx',['Title-题名','Keyword-关键词'],'中文期刊论文/工商管理汇总.xlsx')"
   ]
  },
  {
   "cell_type": "markdown",
   "metadata": {},
   "source": [
    "#### 汇总三学科涉及到的高校名单"
   ]
  },
  {
   "cell_type": "code",
   "execution_count": 8,
   "metadata": {},
   "outputs": [],
   "source": [
    "fnames = get_dir_filenames('基础数据/应用经济学-工商管理-统计学','.xlsx')\n",
    "for name in fnames:\n",
    "    data = pd.read_excel('基础数据/应用经济学-工商管理-统计学/'+name)\n",
    "    cols = [re.split('\\s+',x.strip())[1] for x in data['学校代码及名称'] ]\n",
    "    df = pd.DataFrame()\n",
    "    df['学校名称'] = cols\n",
    "    fpath = name.split('.')[0].split('-')[-1]\n",
    "    df.to_excel('基础数据/'+fpath+'-学校名单.xlsx')"
   ]
  },
  {
   "cell_type": "code",
   "execution_count": 3,
   "metadata": {},
   "outputs": [],
   "source": [
    "df = pd.read_excel('基础数据/应用经济学-工商管理-统计学/第四轮教学评估B档及以上高校名单-法学.xlsx')\n",
    "cols = [re.split('\\s+',x.strip())[1] for x in df['学校代码及名称'] ]\n",
    "df1 = pd.DataFrame()\n",
    "df1['学校名称'] = cols\n",
    "df1.to_excel('基础数据/temp.xlsx')"
   ]
  },
  {
   "cell_type": "markdown",
   "metadata": {},
   "source": [
    "#### 数据汇总、检查"
   ]
  },
  {
   "cell_type": "code",
   "execution_count": 8,
   "metadata": {},
   "outputs": [
    {
     "name": "stdout",
     "output_type": "stream",
     "text": [
      "18348\n",
      "13949\n"
     ]
    }
   ],
   "source": [
    "fnames = get_dir_filenames('中文期刊论文/工商管理/csv','.csv')\n",
    "temp_list = []\n",
    "for name in fnames:\n",
    "    df = pd.read_csv('中文期刊论文/工商管理/csv/'+name,engine='python',encoding='gb18030')\n",
    "    temp_list.append(df)\n",
    "df = pd.concat(temp_list)\n",
    "print(len(df))\n",
    "df = df.drop_duplicates()\n",
    "print(len(df))\n",
    "df.to_excel('中文期刊论文/管理学汇总.xlsx')"
   ]
  },
  {
   "cell_type": "code",
   "execution_count": 9,
   "metadata": {},
   "outputs": [
    {
     "data": {
      "text/plain": [
       "科技进步与对策       1032\n",
       "软科学            826\n",
       "科研管理           779\n",
       "中国管理科学         753\n",
       "中国行政管理         726\n",
       "系统工程理论与实践      717\n",
       "管理评论           671\n",
       "管理学报           600\n",
       "管理世界           594\n",
       "科学学研究          520\n",
       "中国科技论坛         504\n",
       "会计研究           480\n",
       "中国软科学          467\n",
       "经济管理           459\n",
       "科学学与科学技术管理     439\n",
       "系统管理学报         381\n",
       "经济体制改革         346\n",
       "外国经济与管理        321\n",
       "管理科学学报         318\n",
       "南开管理评论         316\n",
       "管理工程学报         311\n",
       "电子政务           286\n",
       "科学管理研究         235\n",
       "研究与发展管理        225\n",
       "审计与经济研究        211\n",
       "审计研究           209\n",
       "预测             187\n",
       "管理科学           185\n",
       "社会保障研究         176\n",
       "公共管理学报         134\n",
       "科学决策           127\n",
       "宏观质量研究         109\n",
       "会计与经济研究         97\n",
       "科学与社会           79\n",
       "社会保障评论          71\n",
       "管理学刊            57\n",
       "Name: Source-文献来源, dtype: int64"
      ]
     },
     "execution_count": 9,
     "metadata": {},
     "output_type": "execute_result"
    }
   ],
   "source": [
    "df['Source-文献来源'].value_counts()"
   ]
  },
  {
   "cell_type": "markdown",
   "metadata": {},
   "source": [
    "#### 国家社科项目汇总-补充上2019"
   ]
  },
  {
   "cell_type": "code",
   "execution_count": 11,
   "metadata": {
    "scrolled": true
   },
   "outputs": [
    {
     "data": {
      "text/plain": [
       "Index(['序号', '课题名称', '姓名', '工作单位', '项目类别', '所在学科'], dtype='object')"
      ]
     },
     "execution_count": 11,
     "metadata": {},
     "output_type": "execute_result"
    }
   ],
   "source": [
    "d1 = pd.read_excel('国家社科项目/2019年国家社会科学基金年度项目立项名单.xls')\n",
    "d2 = pd.read_excel('国家社科项目/2019年国家社会科学基金青年项目立项名单.xls')\n",
    "df = pd.concat([d1,d2])\n",
    "df.keys()"
   ]
  },
  {
   "cell_type": "code",
   "execution_count": 20,
   "metadata": {},
   "outputs": [
    {
     "data": {
      "text/plain": [
       "Index(['项目批准号', '项目类别', '学科分类', '项目名称', '立项时间', '项目负责人', '专业职务', '工作单位',\n",
       "       '单位类别', '所在省区市', '所属系统', '成果名称', '成果形式', '成果等级', '结项时间', '结项证书号', '出版社',\n",
       "       '出版时间', '作者', '获奖情况'],\n",
       "      dtype='object')"
      ]
     },
     "execution_count": 20,
     "metadata": {},
     "output_type": "execute_result"
    }
   ],
   "source": [
    "data = pd.read_excel('国家社科项目/高校国家社科基金项目.xlsx')\n",
    "data.columns"
   ]
  },
  {
   "cell_type": "code",
   "execution_count": 14,
   "metadata": {},
   "outputs": [
    {
     "data": {
      "text/plain": [
       "4629"
      ]
     },
     "execution_count": 14,
     "metadata": {},
     "output_type": "execute_result"
    }
   ],
   "source": [
    "temp_df = pd.DataFrame(columns=['项目批准号', '项目类别', '学科分类', '项目名称', '立项时间', '项目负责人', '专业职务', '工作单位',\n",
    "       '单位类别', '所在省区市', '所属系统', '成果名称', '成果形式', '成果等级', '结项时间', '结项证书号', '出版社',\n",
    "       '出版时间', '作者', '获奖情况'])\n",
    "temp_list = []\n",
    "for index,row in df.iterrows():\n",
    "    row = {'项目批准号':'', '项目类别':row['项目类别'], '学科分类':row['所在学科'], '项目名称':row['课题名称'], '立项时间':2019,'项目负责人':row['姓名'], '专业职务':'', '工作单位':row['工作单位'],\n",
    "       '单位类别':'', '所在省区市':'', '所属系统':'', '成果名称':'', '成果形式':'', '成果等级':'', '结项时间':'', '结项证书号':'', '出版社':'',\n",
    "       '出版时间':'', '作者':'', '获奖情况':''}\n",
    "    temp_list.append(row)\n",
    "alldata = pd.DataFrame(temp_list)\n",
    "len(alldata)"
   ]
  },
  {
   "cell_type": "code",
   "execution_count": 15,
   "metadata": {},
   "outputs": [],
   "source": [
    "alldata.to_excel('2019国家社科项目立项汇总.xlsx')"
   ]
  },
  {
   "cell_type": "code",
   "execution_count": 16,
   "metadata": {},
   "outputs": [
    {
     "data": {
      "text/plain": [
       "1576"
      ]
     },
     "execution_count": 16,
     "metadata": {},
     "output_type": "execute_result"
    }
   ],
   "source": [
    "cols = pd.read_excel('基础数据/数据采集名单.xlsx',sheet_name = '全部')\n",
    "cols = [x for x in cols['学校名称']]\n",
    "temp_list = []\n",
    "for index,row in alldata.iterrows():\n",
    "    if row['工作单位'] in cols:\n",
    "        temp_list.append(row)\n",
    "target_data = pd.DataFrame(temp_list)\n",
    "len(target_data)"
   ]
  },
  {
   "cell_type": "code",
   "execution_count": 17,
   "metadata": {},
   "outputs": [
    {
     "data": {
      "text/plain": [
       "26686"
      ]
     },
     "execution_count": 17,
     "metadata": {},
     "output_type": "execute_result"
    }
   ],
   "source": [
    "len(data)"
   ]
  },
  {
   "cell_type": "code",
   "execution_count": 21,
   "metadata": {},
   "outputs": [
    {
     "name": "stdout",
     "output_type": "stream",
     "text": [
      "28262\n"
     ]
    }
   ],
   "source": [
    "data = pd.concat([data,target_data])\n",
    "print(len(data))\n",
    "data.to_excel('高校历年国家社科项目汇总.xlsx') # 所有年度"
   ]
  },
  {
   "cell_type": "code",
   "execution_count": 22,
   "metadata": {},
   "outputs": [
    {
     "data": {
      "text/plain": [
       "Index(['专业职务', '作者', '出版时间', '出版社', '单位类别', '学科分类', '工作单位', '成果名称', '成果形式',\n",
       "       '成果等级', '所在省区市', '所属系统', '立项时间', '结项时间', '结项证书号', '获奖情况', '项目名称',\n",
       "       '项目批准号', '项目类别', '项目负责人'],\n",
       "      dtype='object')"
      ]
     },
     "execution_count": 22,
     "metadata": {},
     "output_type": "execute_result"
    }
   ],
   "source": [
    "data.keys()"
   ]
  },
  {
   "cell_type": "markdown",
   "metadata": {},
   "source": [
    "#### 国家社科 提取出当中的应用经济学、管理学、统计学"
   ]
  },
  {
   "cell_type": "code",
   "execution_count": 5,
   "metadata": {},
   "outputs": [],
   "source": [
    "data = pd.read_excel('国家社科项目/高校历年国家社科项目汇总.xlsx')"
   ]
  },
  {
   "cell_type": "code",
   "execution_count": 6,
   "metadata": {},
   "outputs": [],
   "source": [
    "temp_list = []\n",
    "for index, row in data.iterrows():\n",
    "    try:\n",
    "        if int(str(row['立项时间'])[:4]) > 2015:\n",
    "            temp_list.append(row)\n",
    "    except:\n",
    "        print(row['立项时间'])\n",
    "df = pd.DataFrame(temp_list)\n",
    "df.to_excel('国家社科项目/2016-2019国家社科项目汇总.xlsx')"
   ]
  },
  {
   "cell_type": "code",
   "execution_count": 7,
   "metadata": {},
   "outputs": [],
   "source": [
    "temp_economic = []\n",
    "temp_statistic = []\n",
    "temp_business = []\n",
    "temp_faxue = []\n",
    "data = df\n",
    "for index,row in data.iterrows():\n",
    "    if row['学科分类'] == '应用经济':\n",
    "        temp_economic.append(row)\n",
    "    elif row['学科分类'] == '管理学':\n",
    "        temp_business.append(row)\n",
    "    elif row['学科分类'] == '统计学':\n",
    "        temp_statistic.append(row)\n",
    "    elif row['学科分类'] == '法学':\n",
    "        temp_faxue.append(row)\n",
    "d1 = pd.DataFrame(temp_economic)\n",
    "d1.to_excel('国家社科项目/国家社科-应用经济学.xlsx')\n",
    "d2 = pd.DataFrame(temp_business)\n",
    "d2.to_excel('国家社科项目/国家社科-管理学.xlsx')\n",
    "d3 = pd.DataFrame(temp_statistic)\n",
    "d3.to_excel('国家社科项目/国家社科-统计学.xlsx')\n",
    "d4 = pd.DataFrame(temp_faxue)\n",
    "d4.to_excel('国家社科项目/国家社科-法学.xlsx')"
   ]
  },
  {
   "cell_type": "markdown",
   "metadata": {},
   "source": [
    "#### 按学校-分类存储论文"
   ]
  },
  {
   "cell_type": "code",
   "execution_count": 50,
   "metadata": {},
   "outputs": [
    {
     "name": "stdout",
     "output_type": "stream",
     "text": [
      "成功加入字典\n",
      "北京大学 finish\n",
      "中国人民大学 finish\n",
      "中央财经大学 finish\n",
      "对外经济贸易大学 finish\n",
      "东北财经大学 finish\n",
      "上海财经大学 finish\n",
      "厦门大学 finish\n",
      "清华大学 finish\n",
      "南开大学 finish\n",
      "复旦大学 finish\n",
      "江西财经大学 finish\n",
      "山东大学 finish\n",
      "中南财经政法大学 finish\n",
      "西南财经大学 finish\n",
      "西安交通大学 finish\n",
      "北京交通大学 finish\n",
      "首都经济贸易大学 finish\n",
      "天津财经大学 finish\n",
      "辽宁大学 finish\n",
      "吉林大学 finish\n",
      "南京大学 finish\n",
      "东南大学 finish\n",
      "浙江大学 finish\n",
      "浙江工商大学 finish\n",
      "山东财经大学 finish\n",
      "武汉大学 finish\n",
      "华中科技大学 finish\n",
      "湖南大学 finish\n",
      "中山大学 finish\n",
      "暨南大学 finish\n",
      "浙江财经大学 finish\n",
      "北京理工大学 finish\n",
      "北京工商大学 finish\n",
      "山西财经大学 finish\n",
      "大连理工大学 finish\n",
      "同济大学 finish\n",
      "华东师范大学 finish\n",
      "上海对外经贸大学 finish\n",
      "上海大学 finish\n",
      "南京财经大学 finish\n",
      "安徽大学 finish\n",
      "中国海洋大学 finish\n",
      "武汉理工大学 finish\n",
      "广西大学 finish\n",
      "重庆大学 finish\n",
      "云南财经大学 finish\n"
     ]
    }
   ],
   "source": [
    "data = pd.read_excel('中文期刊论文/应用经济学汇总.xlsx')\n",
    "cols = pd.read_excel('基础数据/数据采集名单.xlsx',sheet_name='应用经济学')\n",
    "cols = [x.strip() for x in cols['学校名称']]\n",
    "col_dic = {}\n",
    "for col in cols:\n",
    "    col_dic[col] = []\n",
    "\n",
    "for index,row in data.iterrows():\n",
    "    for col in cols:\n",
    "        if col in row['Organ-单位']:\n",
    "            col_dic[col].append(row)\n",
    "print('成功加入字典')\n",
    "\n",
    "for col in col_dic:\n",
    "    df = pd.DataFrame(col_dic[col])\n",
    "    df.to_excel('中文期刊论文/应用经济学-分学校存储/'+col+'-应用经济学.xlsx')\n",
    "    print(col+' finish')"
   ]
  },
  {
   "cell_type": "markdown",
   "metadata": {},
   "source": [
    "#### 筛选应用经济学"
   ]
  },
  {
   "cell_type": "code",
   "execution_count": 47,
   "metadata": {},
   "outputs": [
    {
     "data": {
      "text/plain": [
       "Index(['Author-作者', 'CLC-中图分类号', 'FirstDuty-第一责任人', 'Fund-基金', 'Keyword-关键词',\n",
       "       'Organ-单位', 'PageCount-页码', 'Period-期', 'PubTime-发表时间', 'Source-文献来源',\n",
       "       'SrcDatabase-来源库', 'Summary-摘要', 'Title-题名', 'Volume-卷', 'Year-年'],\n",
       "      dtype='object')"
      ]
     },
     "execution_count": 47,
     "metadata": {},
     "output_type": "execute_result"
    }
   ],
   "source": [
    "data = pd.read_excel('中文期刊论文/经济学汇总.xlsx')\n",
    "data.keys()"
   ]
  },
  {
   "cell_type": "code",
   "execution_count": 49,
   "metadata": {},
   "outputs": [],
   "source": [
    "kw = ['马克思','宏观经济学','微观经济学','政治经济学','西方经济学','科学经济学','人类经济学']\n",
    "def is_in(mlist,text):\n",
    "    for item in mlist:\n",
    "        if item in text:\n",
    "            return True\n",
    "    return False\n",
    "temp_list = []\n",
    "for index, row in data.iterrows():\n",
    "    try:\n",
    "        if is_in(kw,row['Title-题名']) or is_in(kw,row['Keyword-关键词']):\n",
    "            continue\n",
    "    except:\n",
    "        continue\n",
    "    temp_list.append(row)\n",
    "    \n",
    "df = pd.DataFrame(temp_list)\n",
    "df.to_excel('中文期刊论文/应用经济学汇总.xlsx')"
   ]
  },
  {
   "cell_type": "markdown",
   "metadata": {},
   "source": [
    "#### 教育部项目汇总"
   ]
  },
  {
   "cell_type": "code",
   "execution_count": 6,
   "metadata": {},
   "outputs": [
    {
     "name": "stdout",
     "output_type": "stream",
     "text": [
      "11025\n"
     ]
    },
    {
     "data": {
      "text/html": [
       "<div>\n",
       "<style scoped>\n",
       "    .dataframe tbody tr th:only-of-type {\n",
       "        vertical-align: middle;\n",
       "    }\n",
       "\n",
       "    .dataframe tbody tr th {\n",
       "        vertical-align: top;\n",
       "    }\n",
       "\n",
       "    .dataframe thead th {\n",
       "        text-align: right;\n",
       "    }\n",
       "</style>\n",
       "<table border=\"1\" class=\"dataframe\">\n",
       "  <thead>\n",
       "    <tr style=\"text-align: right;\">\n",
       "      <th></th>\n",
       "      <th>学校名称</th>\n",
       "      <th>学科门类</th>\n",
       "      <th>序号</th>\n",
       "      <th>申请人</th>\n",
       "      <th>立项时间</th>\n",
       "      <th>项目名称</th>\n",
       "      <th>项目批准号</th>\n",
       "      <th>项目类别</th>\n",
       "    </tr>\n",
       "  </thead>\n",
       "  <tbody>\n",
       "    <tr>\n",
       "      <th>0</th>\n",
       "      <td>安徽科技学院</td>\n",
       "      <td>马克思主义/ 思想政治教育</td>\n",
       "      <td>1</td>\n",
       "      <td>王方友</td>\n",
       "      <td>2016</td>\n",
       "      <td>社会主义核心价值观融入农民日常生活研究</td>\n",
       "      <td>16YJA710020</td>\n",
       "      <td>规划基金项目</td>\n",
       "    </tr>\n",
       "    <tr>\n",
       "      <th>1</th>\n",
       "      <td>北京师范大学</td>\n",
       "      <td>马克思主义/ 思想政治教育</td>\n",
       "      <td>2</td>\n",
       "      <td>方增泉</td>\n",
       "      <td>2016</td>\n",
       "      <td>教师誓词研究</td>\n",
       "      <td>16YJA710007</td>\n",
       "      <td>规划基金项目</td>\n",
       "    </tr>\n",
       "    <tr>\n",
       "      <th>2</th>\n",
       "      <td>成都理工大学</td>\n",
       "      <td>马克思主义/ 思想政治教育</td>\n",
       "      <td>3</td>\n",
       "      <td>夏达</td>\n",
       "      <td>2016</td>\n",
       "      <td>在四川藏区开展精准思想政治教育方法路径研究</td>\n",
       "      <td>16YJA710024</td>\n",
       "      <td>规划基金项目</td>\n",
       "    </tr>\n",
       "    <tr>\n",
       "      <th>3</th>\n",
       "      <td>佛山科学技术学 院</td>\n",
       "      <td>马克思主义/ 思想政治教育</td>\n",
       "      <td>4</td>\n",
       "      <td>林瑞青</td>\n",
       "      <td>2016</td>\n",
       "      <td>网络文化异化境遇下大学生虚拟生存的社会责任践 行研究</td>\n",
       "      <td>16YJA710012</td>\n",
       "      <td>规划基金项目</td>\n",
       "    </tr>\n",
       "    <tr>\n",
       "      <th>4</th>\n",
       "      <td>广东财经大学</td>\n",
       "      <td>马克思主义/ 思想政治教育</td>\n",
       "      <td>5</td>\n",
       "      <td>仇小敏</td>\n",
       "      <td>2016</td>\n",
       "      <td>马克思主义中国化的世界向度研究</td>\n",
       "      <td>16YJA710005</td>\n",
       "      <td>规划基金项目</td>\n",
       "    </tr>\n",
       "  </tbody>\n",
       "</table>\n",
       "</div>"
      ],
      "text/plain": [
       "        学校名称           学科门类  序号  申请人  立项时间                        项目名称  \\\n",
       "0     安徽科技学院  马克思主义/ 思想政治教育   1  王方友  2016         社会主义核心价值观融入农民日常生活研究   \n",
       "1     北京师范大学  马克思主义/ 思想政治教育   2  方增泉  2016                      教师誓词研究   \n",
       "2     成都理工大学  马克思主义/ 思想政治教育   3   夏达  2016       在四川藏区开展精准思想政治教育方法路径研究   \n",
       "3  佛山科学技术学 院  马克思主义/ 思想政治教育   4  林瑞青  2016  网络文化异化境遇下大学生虚拟生存的社会责任践 行研究   \n",
       "4     广东财经大学  马克思主义/ 思想政治教育   5  仇小敏  2016             马克思主义中国化的世界向度研究   \n",
       "\n",
       "         项目批准号    项目类别  \n",
       "0  16YJA710020  规划基金项目  \n",
       "1  16YJA710007  规划基金项目  \n",
       "2  16YJA710024  规划基金项目  \n",
       "3  16YJA710012  规划基金项目  \n",
       "4  16YJA710005  规划基金项目  "
      ]
     },
     "execution_count": 6,
     "metadata": {},
     "output_type": "execute_result"
    }
   ],
   "source": [
    "fnames = get_dir_filenames('教育部项目','.xlsx')\n",
    "temp_list = []\n",
    "for name in fnames:\n",
    "    df = pd.read_excel('教育部项目/'+name,header=1)\n",
    "    df['立项时间'] = name[:4]\n",
    "    temp_list.append(df)\n",
    "df = pd.concat(temp_list)\n",
    "print(len(df))\n",
    "df.head()"
   ]
  },
  {
   "cell_type": "code",
   "execution_count": 12,
   "metadata": {},
   "outputs": [],
   "source": [
    "df.to_excel('教育部项目/汇总.xlsx')\n",
    "# df.isnull().any()\n",
    "# df[df.isnull().values==True]"
   ]
  },
  {
   "cell_type": "markdown",
   "metadata": {},
   "source": [
    "#### 教育部项目-相关学科相关高校的相关项目"
   ]
  },
  {
   "cell_type": "code",
   "execution_count": 3,
   "metadata": {},
   "outputs": [],
   "source": [
    "def get_jyb_projects(dpath,subject,spath):\n",
    "    '''\n",
    "    dpath:原始数据文件\n",
    "    subject:学科，如应用经济学，工商管理，统计学\n",
    "    spath:导出的数据文件'''\n",
    "    def which_subject(subject):\n",
    "        if subject == '应用经济学':\n",
    "            return '经济学'\n",
    "        elif subject == '工商管理':\n",
    "            return '管理学'\n",
    "        elif subject == '统计学':\n",
    "            return subject\n",
    "        elif subject == '法学':\n",
    "            return subject\n",
    "        else:\n",
    "            print(subject + ' 不在预先设定的学科里面，请检查后重新输入')\n",
    "            return False\n",
    "    df = pd.read_excel(dpath)\n",
    "    cols = pd.read_excel('基础数据/数据采集名单.xlsx',sheet_name=subject)\n",
    "    cols = [x.strip() for x in cols['学校名称']]\n",
    "    temp_list = []\n",
    "    for index,row in df.iterrows():\n",
    "        if row['学校名称'] in cols and row['学科门类'] == which_subject(subject):\n",
    "            temp_list.append(row)\n",
    "    df1 = pd.DataFrame(temp_list)\n",
    "    df1.to_excel(spath)\n",
    "    print('finish')"
   ]
  },
  {
   "cell_type": "code",
   "execution_count": 4,
   "metadata": {},
   "outputs": [
    {
     "name": "stdout",
     "output_type": "stream",
     "text": [
      "finish\n"
     ]
    }
   ],
   "source": [
    "get_jyb_projects('教育部项目/2016-2019教育部项目汇总.xlsx','法学','教育部项目/法学.xlsx')"
   ]
  },
  {
   "cell_type": "markdown",
   "metadata": {},
   "source": [
    "#### 教育部-从学科门类里面进一步筛选应用经济学、工商管理、统计学"
   ]
  },
  {
   "cell_type": "code",
   "execution_count": 35,
   "metadata": {},
   "outputs": [
    {
     "name": "stdout",
     "output_type": "stream",
     "text": [
      "工商管理提取完毕.\n"
     ]
    }
   ],
   "source": [
    "get_gsgl('教育部项目/管理学.xlsx','项目名称','教育部项目/工商管理.xlsx')"
   ]
  },
  {
   "cell_type": "code",
   "execution_count": 4,
   "metadata": {},
   "outputs": [
    {
     "data": {
      "text/html": [
       "<div>\n",
       "<style scoped>\n",
       "    .dataframe tbody tr th:only-of-type {\n",
       "        vertical-align: middle;\n",
       "    }\n",
       "\n",
       "    .dataframe tbody tr th {\n",
       "        vertical-align: top;\n",
       "    }\n",
       "\n",
       "    .dataframe thead th {\n",
       "        text-align: right;\n",
       "    }\n",
       "</style>\n",
       "<table border=\"1\" class=\"dataframe\">\n",
       "  <thead>\n",
       "    <tr style=\"text-align: right;\">\n",
       "      <th></th>\n",
       "      <th>aa</th>\n",
       "    </tr>\n",
       "  </thead>\n",
       "  <tbody>\n",
       "    <tr>\n",
       "      <th>5</th>\n",
       "      <td>0</td>\n",
       "    </tr>\n",
       "    <tr>\n",
       "      <th>2</th>\n",
       "      <td>1</td>\n",
       "    </tr>\n",
       "    <tr>\n",
       "      <th>0</th>\n",
       "      <td>3</td>\n",
       "    </tr>\n",
       "    <tr>\n",
       "      <th>1</th>\n",
       "      <td>5</td>\n",
       "    </tr>\n",
       "    <tr>\n",
       "      <th>3</th>\n",
       "      <td>7</td>\n",
       "    </tr>\n",
       "    <tr>\n",
       "      <th>4</th>\n",
       "      <td>8</td>\n",
       "    </tr>\n",
       "    <tr>\n",
       "      <th>6</th>\n",
       "      <td>91</td>\n",
       "    </tr>\n",
       "  </tbody>\n",
       "</table>\n",
       "</div>"
      ],
      "text/plain": [
       "   aa\n",
       "5   0\n",
       "2   1\n",
       "0   3\n",
       "1   5\n",
       "3   7\n",
       "4   8\n",
       "6  91"
      ]
     },
     "execution_count": 4,
     "metadata": {},
     "output_type": "execute_result"
    }
   ],
   "source": [
    "a = [3,5,1,7,8,0,91]\n",
    "df = pd.DataFrame()\n",
    "df['aa'] = a\n",
    "df.sort_values(by='aa')"
   ]
  },
  {
   "cell_type": "markdown",
   "metadata": {},
   "source": [
    "#### 百科词条，获取高校英文名称"
   ]
  },
  {
   "cell_type": "code",
   "execution_count": 1,
   "metadata": {},
   "outputs": [],
   "source": [
    "import pandas as pd\n",
    "import re\n",
    "import random\n",
    "from selenium import webdriver # 从selenium导入webdriver\n",
    "\n",
    "options = webdriver.ChromeOptions()\n",
    "user_agent_list = [ \\\n",
    "        \"Mozilla/5.0 (Windows NT 6.1; WOW64) AppleWebKit/537.1 (KHTML, like Gecko) Chrome/22.0.1207.1 Safari/537.1\" \\\n",
    "        \"Mozilla/5.0 (Windows NT 6.1; WOW64) AppleWebKit/537.36 (KHTML, like Gecko) Chrome/39.0.2171.95 Safari/537.36 OPR/26.0.1656.60\" \\\n",
    "        \"Opera/8.0 (Windows NT 5.1; U; en)\"\\\n",
    "        \"Mozilla/5.0 (Windows NT 5.1; U; en; rv:1.8.1) Gecko/20061208 Firefox/2.0.0 Opera 9.50\" \\\n",
    "        \"Mozilla/4.0 (compatible; MSIE 6.0; Windows NT 5.1; en) Opera 9.50\" \\\n",
    "        \"Mozilla/5.0 (Windows NT 6.1; WOW64; rv:34.0) Gecko/20100101 Firefox/34.0\" \\\n",
    "        \"Mozilla/5.0 (X11; U; Linux x86_64; zh-CN; rv:1.9.2.10) Gecko/20100922 Ubuntu/10.10 (maverick) Firefox/3.6.10\" \\\n",
    "        \"Mozilla/5.0 (Windows NT 6.1; WOW64) AppleWebKit/537.1 (KHTML, like Gecko) Chrome/21.0.1180.71 Safari/537.1 LBBROWSER\" \\\n",
    "        \"Mozilla/5.0 (compatible; MSIE 9.0; Windows NT 6.1; WOW64; Trident/5.0; SLCC2; .NET CLR 2.0.50727; .NET CLR 3.5.30729; .NET CLR 3.0.30729; Media Center PC 6.0; .NET4.0C; .NET4.0E; LBBROWSER)\" \\\n",
    "        \"Mozilla/4.0 (compatible; MSIE 6.0; Windows NT 5.1; SV1; QQDownload 732; .NET4.0C; .NET4.0E; LBBROWSER)\" \\\n",
    "        \"Mozilla/5.0 (Windows NT 5.1) AppleWebKit/535.11 (KHTML, like Gecko) Chrome/17.0.963.84 Safari/535.11 SE 2.X MetaSr 1.0\" \\\n",
    "        \"Mozilla/4.0 (compatible; MSIE 7.0; Windows NT 5.1; Trident/4.0; SV1; QQDownload 732; .NET4.0C; .NET4.0E; SE 2.X MetaSr 1.0)\" \\\n",
    "    ]\n",
    "UserAgent = 'user-agent=' + random.choice(user_agent_list)\n",
    "options.add_argument(UserAgent)\n",
    "driver = webdriver.Chrome(chrome_options=options)\n",
    "colleges = pd.read_excel('基础数据/外文期刊采集名单.xlsx')\n",
    "cols = [x.strip() for x in colleges['学校名称']]\n",
    "temp_list = []\n",
    "for col in cols:\n",
    "    driver.get('https://baike.baidu.com/item/{}'.format(col))\n",
    "    try:\n",
    "        e_name = driver.find_element_by_class_name('lemmaWgt-lemmaTitle-subTitle')\n",
    "        row = {'学校名称':col,'英文名称':e_name.text}\n",
    "    except:\n",
    "        row = {'学校名称':col,'英文名称':''}\n",
    "    temp_list.append(row)\n",
    "df = pd.DataFrame(temp_list)\n"
   ]
  },
  {
   "cell_type": "code",
   "execution_count": 19,
   "metadata": {},
   "outputs": [],
   "source": [
    "df.to_excel('基础数据/外文采集-中英文对照.xlsx')"
   ]
  },
  {
   "cell_type": "markdown",
   "metadata": {},
   "source": [
    "#### 各轮学科评估结果"
   ]
  },
  {
   "cell_type": "code",
   "execution_count": 13,
   "metadata": {},
   "outputs": [
    {
     "name": "stdout",
     "output_type": "stream",
     "text": [
      "hh\n"
     ]
    }
   ],
   "source": [
    "fnames = get_dir_filenames('历次全国学科评估结果/temp','.xlsx')\n",
    "\n",
    "for name in fnames:\n",
    "    sheet = ['应用经济学','统计学','工商管理','法学']\n",
    "    for item in sheet:\n",
    "        try:\n",
    "            df = pd.read_excel('历次全国学科评估结果/temp/'+name,sheet_name=item)\n",
    "        except:\n",
    "            print('hh')\n",
    "            continue\n",
    "        cols = [x.strip() for x in df['学校名称']]\n",
    "        temp_list = []\n",
    "        for col in cols:\n",
    "            temp = re.split('\\s+',col.strip())[1]\n",
    "            temp_list.append(temp)\n",
    "        df['学校名称'] = temp_list\n",
    "        df.to_excel('历次全国学科评估结果/'+name.split('.')[0]+'-'+item+'.xlsx')"
   ]
  },
  {
   "cell_type": "code",
   "execution_count": 8,
   "metadata": {},
   "outputs": [
    {
     "data": {
      "text/plain": [
       "['第三次全国学科评估.xlsx', '第二次全国学科评估.xlsx']"
      ]
     },
     "execution_count": 8,
     "metadata": {},
     "output_type": "execute_result"
    }
   ],
   "source": [
    "fnames"
   ]
  },
  {
   "cell_type": "code",
   "execution_count": 6,
   "metadata": {},
   "outputs": [],
   "source": [
    "fnames = get_dir_filenames('中文期刊论文/法学/csv','.csv')\n",
    "temp_list = []\n"
   ]
  },
  {
   "cell_type": "code",
   "execution_count": 13,
   "metadata": {
    "scrolled": true
   },
   "outputs": [
    {
     "name": "stdout",
     "output_type": "stream",
     "text": [
      "CNKI-636975941443252500.csv err\n",
      "18190\n"
     ]
    },
    {
     "data": {
      "text/plain": [
       "5718"
      ]
     },
     "execution_count": 13,
     "metadata": {},
     "output_type": "execute_result"
    }
   ],
   "source": [
    "for name in fnames:\n",
    "    try:\n",
    "        df = pd.read_csv('中文期刊论文/法学/csv/'+name,engine='python',encoding='gb18030')\n",
    "    except:\n",
    "        print(name + ' err')\n",
    "    temp_list.append(df)\n",
    "df1 = pd.concat(temp_list)\n",
    "print(len(df1))\n",
    "df1 = df1.drop_duplicates()\n",
    "len(df1)"
   ]
  },
  {
   "cell_type": "code",
   "execution_count": 14,
   "metadata": {},
   "outputs": [],
   "source": [
    "df1.to_excel('中文期刊论文/法学汇总.xlsx')"
   ]
  },
  {
   "cell_type": "code",
   "execution_count": null,
   "metadata": {},
   "outputs": [],
   "source": []
  }
 ],
 "metadata": {
  "kernelspec": {
   "display_name": "Python 3",
   "language": "python",
   "name": "python3"
  },
  "language_info": {
   "codemirror_mode": {
    "name": "ipython",
    "version": 3
   },
   "file_extension": ".py",
   "mimetype": "text/x-python",
   "name": "python",
   "nbconvert_exporter": "python",
   "pygments_lexer": "ipython3",
   "version": "3.6.4"
  }
 },
 "nbformat": 4,
 "nbformat_minor": 2
}
