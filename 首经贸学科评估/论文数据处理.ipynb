{
 "cells": [
  {
   "cell_type": "markdown",
   "metadata": {},
   "source": [
    "## 从管理学大类提取工商管理学科\n",
    "管理学共包含五个一级学科，\n",
    "按照本策略提取，从7600中获得1600，基本符合比例。\n",
    "本策略可变，可以根据实际情况扩大或收缩"
   ]
  },
  {
   "cell_type": "markdown",
   "metadata": {},
   "source": [
    "### 通用模块"
   ]
  },
  {
   "cell_type": "code",
   "execution_count": 1,
   "metadata": {},
   "outputs": [],
   "source": [
    "import pandas as pd\n",
    "def get_dir_filenames(path,ftype):\n",
    "    '''获取目录下所有指定格式的文件名'''\n",
    "    import os\n",
    "    names = []\n",
    "    for root, dirs, files in os.walk(path):\n",
    "        for file in files:\n",
    "            if ftype in file:\n",
    "                names.append(file)\n",
    "    return names"
   ]
  },
  {
   "cell_type": "code",
   "execution_count": 149,
   "metadata": {},
   "outputs": [],
   "source": [
    "import pandas as pd\n",
    "\n",
    "data = pd.read_excel('知网-管理学-汇总.xlsx')\n"
   ]
  },
  {
   "cell_type": "code",
   "execution_count": 2,
   "metadata": {},
   "outputs": [
    {
     "data": {
      "text/plain": [
       "Index(['SrcDatabase-来源库', 'Title-题名', 'Author-作者', 'Organ-单位', 'Source-文献来源',\n",
       "       'Keyword-关键词', 'Summary-摘要', 'PubTime-发表时间', 'FirstDuty-第一责任人',\n",
       "       'Fund-基金', 'Year-年', 'Volume-卷', 'Period-期', 'PageCount-页码',\n",
       "       'CLC-中图分类号'],\n",
       "      dtype='object')"
      ]
     },
     "execution_count": 2,
     "metadata": {},
     "output_type": "execute_result"
    }
   ],
   "source": [
    "data.keys()\n"
   ]
  },
  {
   "cell_type": "code",
   "execution_count": 155,
   "metadata": {},
   "outputs": [],
   "source": [
    "\n",
    "def check_in(text_list,target_str):\n",
    "    for item in text_list:\n",
    "        if item in target_str:\n",
    "            return True\n",
    "    return False\n",
    "#工商管理过滤关键词\n",
    "temp = '上市公司、注册会计师、内部控制、财政管理、公司治理、审计质量、生产管理、生产控制、生产组织、生产计划、经营管理、风险投资、技术创新、股权结构、管理经营、市场战略、组织价值观、市场导向、质量导向、企业绩效、组织变革、创新绩效、盈余管理、股东控制、财务管理、管理财务、投资管理、企业控制、筹资、利润管理、利润分配、财务关系、经济管理、管理成本、成本管理、研发管理、团队建设、流程设计、管理绩效、管理风险、绩效管理、风险管理、项目管理、管理项目、管理知识、知识管理、营销管理、物资管理、管理物质、管理设施、设施管理、管理质量、质量管理、管理品牌、品牌管理、人力资源、人力管理、绩效管理、管理绩效、劳动关系、薪酬管理、管理薪酬、福利管理、管理福利、会计学、企业管理、管理企业、技术管理、管理技术、战略管理、企业战略、资源规划'\n",
    "text_list = temp.split('、')\n",
    "\n",
    "#new_data = pd.DataFrame(columns=data.keys())\n",
    "row_list = []\n",
    "i = 1\n",
    "for index,row in data.iterrows():\n",
    "    try:\n",
    "        if check_in(text_list,row['Title-题名']) or check_in(text_list,row['Keyword-关键词']) or check_in(text_list,row['Summary-摘要']):\n",
    "            #print(i)\n",
    "            #i+=1\n",
    "            row_list.append(row)\n",
    "    except:\n",
    "        #空值处理\n",
    "        pass\n",
    "new_data = pd.DataFrame(row_list)"
   ]
  },
  {
   "cell_type": "code",
   "execution_count": 156,
   "metadata": {},
   "outputs": [],
   "source": [
    "new_data.to_excel('知网-工商管理2.xlsx')"
   ]
  },
  {
   "cell_type": "markdown",
   "metadata": {},
   "source": [
    "### 查看关键词频次"
   ]
  },
  {
   "cell_type": "code",
   "execution_count": 153,
   "metadata": {},
   "outputs": [
    {
     "name": "stdout",
     "output_type": "stream",
     "text": [
      "nan\n"
     ]
    }
   ],
   "source": [
    "kw = data['Keyword-关键词']\n",
    "kw = [x for x in kw]\n",
    "kws = []\n",
    "for item in kw:\n",
    "    try:\n",
    "        temp = item.split(';')\n",
    "        kws = kws + temp\n",
    "    except:\n",
    "        print(item)\n",
    "        pass\n",
    "df = pd.DataFrame()\n",
    "df['关键词'] = kws"
   ]
  },
  {
   "cell_type": "code",
   "execution_count": 157,
   "metadata": {},
   "outputs": [],
   "source": [
    "#df['关键词'].value_counts()"
   ]
  },
  {
   "cell_type": "markdown",
   "metadata": {},
   "source": [
    "## 统计不同学科不同高校的发文数目\n",
    "## 将论文数据拆分，按学校、学科存储"
   ]
  },
  {
   "cell_type": "code",
   "execution_count": 4,
   "metadata": {},
   "outputs": [],
   "source": [
    "import pandas as pd\n",
    "\n",
    "data = pd.read_excel('知网-应用经济学-汇总.xlsx')\n",
    "college = pd.read_excel('高校名单.xlsx',sheet_name='经济学')\n",
    "\n",
    "college = college['高校名称']\n",
    "college = [x for x in college]\n",
    "\n",
    "\n",
    "college_papers_counts = {}\n",
    "for item in college:\n",
    "    college_papers_counts[item] = 0\n",
    "\n",
    "\n",
    "for index, row in data.iterrows():\n",
    "    for key in college_papers_counts:\n",
    "        if key in row['Organ-单位']:\n",
    "            college_papers_counts[key]+=1\n",
    "#college_papers_counts\n",
    "\n",
    "college_papers = {} #拆分存放不同学校的论文\n",
    "for item in college:\n",
    "    college_papers[item] = [] \n",
    "\n",
    "for index, row in data.iterrows():\n",
    "    for col in college:\n",
    "        if col in row['Organ-单位']:\n",
    "            college_papers[col].append(row)\n",
    "\n",
    "for key in college_papers:\n",
    "    df = pd.DataFrame(college_papers[key])\n",
    "    df.to_excel('大口径-全部/应用经济学/'+key + '-应用经济学.xlsx')"
   ]
  },
  {
   "cell_type": "markdown",
   "metadata": {},
   "source": [
    "## 可视化统计\n"
   ]
  },
  {
   "cell_type": "markdown",
   "metadata": {},
   "source": [
    "### 统计年发文数"
   ]
  },
  {
   "cell_type": "code",
   "execution_count": 4,
   "metadata": {},
   "outputs": [],
   "source": [
    "data = pd.read_excel('知网-统计学.xlsx')\n",
    "\n",
    "\n",
    "college = pd.read_excel('高校名单.xlsx',sheet_name='统计学')\n",
    "college = college['高校名称']\n",
    "college = [x for x in college]\n",
    "year_data = data[['Organ-单位','Year-年']]\n",
    "#college_year[:3]\n",
    "\n",
    "college_year = {} #存放 学校名称+年份，每个学校存放在不同的list\n",
    "for item in college:\n",
    "    college_year[item] = []\n",
    "    \n",
    "for index,row in year_data.iterrows():\n",
    "    for col in college:\n",
    "        if col in row['Organ-单位']:\n",
    "            row['Organ-单位'] = col\n",
    "            row['学科'] = '统计学'\n",
    "            college_year[col].append(row)\n",
    "\n",
    "\n",
    "df_list = []\n",
    "for key in college_year:\n",
    "    df = pd.DataFrame(college_year[key])\n",
    "    #df.to_excel('可视化分析/'+key+'-工商管理.xlsx')\n",
    "    df_list.append(df)\n",
    "all_df = pd.concat(df_list)\n",
    "\n",
    "\n",
    "all_df.to_excel('可视化分析/统计学-高校年度发文数统计.xlsx')"
   ]
  },
  {
   "cell_type": "markdown",
   "metadata": {},
   "source": [
    "### 汇总"
   ]
  },
  {
   "cell_type": "code",
   "execution_count": 5,
   "metadata": {},
   "outputs": [],
   "source": [
    "def get_dir_filenames(path,ftype):\n",
    "    '''获取目录下所有指定格式的文件名'''\n",
    "    import os\n",
    "    names = []\n",
    "    for root, dirs, files in os.walk(path):\n",
    "        for file in files:\n",
    "            if ftype in file:\n",
    "                names.append(file)\n",
    "    return names\n",
    "\n",
    "fname = get_dir_filenames('可视化分析','.xlsx')\n",
    "temp_list = []\n",
    "for name in fname:\n",
    "    data = pd.read_excel('可视化分析/'+name)\n",
    "    temp_list.append(data)\n",
    "df = pd.concat(temp_list)\n",
    "df.to_excel('可视化分析/年度数据汇总.xlsx')"
   ]
  },
  {
   "cell_type": "markdown",
   "metadata": {},
   "source": [
    "### 年度数据可视化"
   ]
  },
  {
   "cell_type": "code",
   "execution_count": 6,
   "metadata": {},
   "outputs": [
    {
     "data": {
      "text/plain": [
       "Index(['Organ-单位', 'Year-年', '学科'], dtype='object')"
      ]
     },
     "execution_count": 6,
     "metadata": {},
     "output_type": "execute_result"
    }
   ],
   "source": [
    "df = pd.read_excel('可视化分析/年度数据汇总.xlsx')\n",
    "df.keys()"
   ]
  },
  {
   "cell_type": "code",
   "execution_count": 7,
   "metadata": {},
   "outputs": [
    {
     "data": {
      "text/html": [
       "<div>\n",
       "<style scoped>\n",
       "    .dataframe tbody tr th:only-of-type {\n",
       "        vertical-align: middle;\n",
       "    }\n",
       "\n",
       "    .dataframe tbody tr th {\n",
       "        vertical-align: top;\n",
       "    }\n",
       "\n",
       "    .dataframe thead th {\n",
       "        text-align: right;\n",
       "    }\n",
       "</style>\n",
       "<table border=\"1\" class=\"dataframe\">\n",
       "  <thead>\n",
       "    <tr style=\"text-align: right;\">\n",
       "      <th></th>\n",
       "      <th>Organ-单位</th>\n",
       "      <th>Year-年</th>\n",
       "      <th>学科</th>\n",
       "    </tr>\n",
       "  </thead>\n",
       "  <tbody>\n",
       "    <tr>\n",
       "      <th>3</th>\n",
       "      <td>中央财经大学</td>\n",
       "      <td>2016.0</td>\n",
       "      <td>工商管理</td>\n",
       "    </tr>\n",
       "    <tr>\n",
       "      <th>7</th>\n",
       "      <td>中央财经大学</td>\n",
       "      <td>2018.0</td>\n",
       "      <td>工商管理</td>\n",
       "    </tr>\n",
       "    <tr>\n",
       "      <th>11</th>\n",
       "      <td>中央财经大学</td>\n",
       "      <td>2014.0</td>\n",
       "      <td>工商管理</td>\n",
       "    </tr>\n",
       "    <tr>\n",
       "      <th>18</th>\n",
       "      <td>中央财经大学</td>\n",
       "      <td>2013.0</td>\n",
       "      <td>工商管理</td>\n",
       "    </tr>\n",
       "    <tr>\n",
       "      <th>40</th>\n",
       "      <td>中央财经大学</td>\n",
       "      <td>2013.0</td>\n",
       "      <td>工商管理</td>\n",
       "    </tr>\n",
       "  </tbody>\n",
       "</table>\n",
       "</div>"
      ],
      "text/plain": [
       "   Organ-单位  Year-年    学科\n",
       "3    中央财经大学  2016.0  工商管理\n",
       "7    中央财经大学  2018.0  工商管理\n",
       "11   中央财经大学  2014.0  工商管理\n",
       "18   中央财经大学  2013.0  工商管理\n",
       "40   中央财经大学  2013.0  工商管理"
      ]
     },
     "execution_count": 7,
     "metadata": {},
     "output_type": "execute_result"
    }
   ],
   "source": [
    "df.head()"
   ]
  },
  {
   "cell_type": "code",
   "execution_count": 8,
   "metadata": {},
   "outputs": [],
   "source": [
    "counts = df.groupby(['Organ-单位', '学科','Year-年'])['Year-年'].count()"
   ]
  },
  {
   "cell_type": "code",
   "execution_count": 9,
   "metadata": {},
   "outputs": [],
   "source": [
    "counts.to_excel('可视化分析/年度数据统计.xlsx')"
   ]
  },
  {
   "cell_type": "code",
   "execution_count": 10,
   "metadata": {},
   "outputs": [],
   "source": [
    "counts2 = df.groupby(['Organ-单位', '学科'])['Year-年'].count()\n",
    "counts2.to_excel('可视化分析/高校-学科-总发文数统计.xlsx')"
   ]
  },
  {
   "cell_type": "markdown",
   "metadata": {},
   "source": [
    "### 可视化图表"
   ]
  },
  {
   "cell_type": "code",
   "execution_count": 179,
   "metadata": {
    "scrolled": true
   },
   "outputs": [
    {
     "data": {
      "text/plain": [
       "Index(['高校名称', '学科类别', '发表时间', '入围南大C刊论文数'], dtype='object')"
      ]
     },
     "execution_count": 179,
     "metadata": {},
     "output_type": "execute_result"
    }
   ],
   "source": [
    "datas = pd.read_excel('可视化分析/首经贸可视化分析.xlsx')\n",
    "import matplotlib.pyplot as plt\n",
    "datas.keys()"
   ]
  },
  {
   "cell_type": "code",
   "execution_count": 180,
   "metadata": {},
   "outputs": [],
   "source": [
    "import numpy as np\n",
    "x1,x2,x3,y1,y2,y3 = [[] for x in range(6)]"
   ]
  },
  {
   "cell_type": "code",
   "execution_count": 181,
   "metadata": {},
   "outputs": [],
   "source": [
    "for index,row in datas.iterrows():\n",
    "    if row['学科类别'] == '应用经济学':\n",
    "        x1.append(row['发表时间'])\n",
    "        y1.append(row['入围南大C刊论文数'])\n",
    "    elif row['学科类别'] == '统计学':\n",
    "        x2.append(row['发表时间'])\n",
    "        y2.append(row['入围南大C刊论文数'])\n",
    "    elif row['学科类别'] == '工商管理':\n",
    "        x3.append(row['发表时间'])\n",
    "        y3.append(row['入围南大C刊论文数'])\n"
   ]
  },
  {
   "cell_type": "code",
   "execution_count": 191,
   "metadata": {},
   "outputs": [
    {
     "data": {
      "text/plain": [
       "<matplotlib.legend.Legend at 0x20fceafbc50>"
      ]
     },
     "execution_count": 191,
     "metadata": {},
     "output_type": "execute_result"
    }
   ],
   "source": [
    "%matplotlib qt5\n",
    "plt.title('首经贸三学科入围南大C刊论文数年度统计图')\n",
    "plt.rcParams['font.sans-serif']=['SimHei']\n",
    "plt.rcParams['axes.unicode_minus']=False\n",
    "\n",
    "plt.grid()\n",
    "plt.plot(x1,y1,'b-',label='应用经济学')\n",
    "plt.plot(x2,y2,'g-',label='统计学')\n",
    "plt.plot(x3,y3,'r-',label='工商管理')\n",
    "plt.xticks(x1)\n",
    "y = [y for y in range(0,120,5)]\n",
    "plt.yticks(y)\n",
    "plt.legend()"
   ]
  },
  {
   "cell_type": "markdown",
   "metadata": {},
   "source": [
    "### 给首经贸特定字段数据"
   ]
  },
  {
   "cell_type": "code",
   "execution_count": 195,
   "metadata": {},
   "outputs": [],
   "source": [
    "def get_dir_filenames(path,ftype):\n",
    "    '''获取目录下所有指定格式的文件名'''\n",
    "    import os\n",
    "    names = []\n",
    "    for root, dirs, files in os.walk(path):\n",
    "        for file in files:\n",
    "            if ftype in file:\n",
    "                names.append(file)\n",
    "    return names\n",
    "path = '高校学科分类存储'\n",
    "fnames = get_dir_filenames(path,'.xlsx')\n",
    "for item in fnames:\n",
    "    data = pd.read_excel(path+'/' + item)\n",
    "    d1 = data[['Title-题名','Author-作者','Organ-单位','Source-文献来源','Keyword-关键词','PubTime-发表时间']]\n",
    "    d1.to_excel('论文数据-南大核心期刊/'+item)"
   ]
  },
  {
   "cell_type": "markdown",
   "metadata": {},
   "source": [
    "### 高校-学科-入围数-统计"
   ]
  },
  {
   "cell_type": "code",
   "execution_count": 4,
   "metadata": {},
   "outputs": [],
   "source": [
    "def get_dir_filenames(path,ftype):\n",
    "    '''获取目录下所有指定格式的文件名'''\n",
    "    import os\n",
    "    names = []\n",
    "    for root, dirs, files in os.walk(path):\n",
    "        for file in files:\n",
    "            if ftype in file:\n",
    "                names.append(file)\n",
    "    return names\n",
    "import pandas as pd\n",
    "\n",
    "dpath = '大口径2016-2019/统计学'\n",
    "fnames = get_dir_filenames(dpath,'.xlsx')\n",
    "temp = []\n",
    "for name in fnames:\n",
    "    data = pd.read_excel(dpath+'/'+name)\n",
    "    row = {'学科':'统计学','高校名称':name.split('-')[0],'入围数统计':len(data)}\n",
    "    temp.append(row)\n",
    "df = pd.DataFrame(temp)\n",
    "df.to_excel('大口径2016-2019/统计学-统计表.xlsx')"
   ]
  },
  {
   "cell_type": "code",
   "execution_count": 6,
   "metadata": {},
   "outputs": [
    {
     "data": {
      "text/plain": [
       "Index(['SrcDatabase-来源库', 'Title-题名', 'Author-作者', 'Organ-单位', 'Source-文献来源',\n",
       "       'Keyword-关键词', 'Summary-摘要', 'PubTime-发表时间', 'FirstDuty-第一责任人',\n",
       "       'Fund-基金', 'Year-年', 'Volume-卷', 'Period-期', 'PageCount-页码',\n",
       "       'CLC-中图分类号'],\n",
       "      dtype='object')"
      ]
     },
     "execution_count": 6,
     "metadata": {},
     "output_type": "execute_result"
    }
   ],
   "source": [
    "data.keys()"
   ]
  },
  {
   "cell_type": "markdown",
   "metadata": {},
   "source": [
    "### 年度发文数统计"
   ]
  },
  {
   "cell_type": "code",
   "execution_count": 15,
   "metadata": {},
   "outputs": [],
   "source": [
    "dpath = '大口径-全部/工商管理'\n",
    "fnames = get_dir_filenames(dpath,'.xlsx')\n",
    "\n",
    "temp_list = []\n",
    "for name in fnames:\n",
    "    data = pd.read_excel(dpath+'/'+name)['Year-年']\n",
    "    #print(data.value_counts())\n",
    "    for index,item in data.value_counts().items():\n",
    "        row = {'学科':'工商管理','高校名称':name.split('-')[0],'发表年份':index,'论文数':item}\n",
    "        temp_list.append(row)\n",
    "df = pd.DataFrame(temp_list)\n",
    "df.to_excel('大口径-全部/大口径-全部-工商管理-高校年度发文数统计.xlsx')"
   ]
  },
  {
   "cell_type": "code",
   "execution_count": 16,
   "metadata": {},
   "outputs": [],
   "source": [
    "fnames = get_dir_filenames('大口径-全部/数据统计表','.xlsx')\n",
    "temp = []\n",
    "for name in fnames:\n",
    "    df = pd.read_excel('大口径-全部/数据统计表/'+name)\n",
    "    temp.append(df)\n",
    "df = pd.concat(temp)\n",
    "\n",
    "counts = df.groupby(['高校名称', '学科','发表年份'])['论文数'].sum()\n",
    "\n",
    "counts.to_excel('大口径-全部/高校-学科-南大C刊-历年数据统计.xlsx')"
   ]
  },
  {
   "cell_type": "code",
   "execution_count": 17,
   "metadata": {},
   "outputs": [],
   "source": [
    "fnames = get_dir_filenames('大口径-全部/数据统计表','.xlsx')\n",
    "temp = []\n",
    "for name in fnames:\n",
    "    df = pd.read_excel('大口径-全部/数据统计表/'+name)\n",
    "    temp.append(df)\n",
    "df = pd.concat(temp)\n",
    "counts = df.groupby(['高校名称', '学科'])['论文数'].sum()\n",
    "counts.to_excel('大口径-全部/高校-学科-总数统计.xlsx')"
   ]
  },
  {
   "cell_type": "markdown",
   "metadata": {},
   "source": [
    "### 原始数据汇总"
   ]
  },
  {
   "cell_type": "code",
   "execution_count": 3,
   "metadata": {},
   "outputs": [
    {
     "data": {
      "text/plain": [
       "8458"
      ]
     },
     "execution_count": 3,
     "metadata": {},
     "output_type": "execute_result"
    }
   ],
   "source": [
    "dpath = '知网管理学最原始数据/csv'\n",
    "fnames = get_dir_filenames(dpath,'.csv')\n",
    "temp = []\n",
    "for name in fnames:\n",
    "    df = pd.read_csv(dpath+'/'+name,engine='python')\n",
    "    temp.append(df)\n",
    "df = pd.concat(temp)\n",
    "len(df)"
   ]
  }
 ],
 "metadata": {
  "kernelspec": {
   "display_name": "Python 3",
   "language": "python",
   "name": "python3"
  },
  "language_info": {
   "codemirror_mode": {
    "name": "ipython",
    "version": 3
   },
   "file_extension": ".py",
   "mimetype": "text/x-python",
   "name": "python",
   "nbconvert_exporter": "python",
   "pygments_lexer": "ipython3",
   "version": "3.6.4"
  }
 },
 "nbformat": 4,
 "nbformat_minor": 2
}
