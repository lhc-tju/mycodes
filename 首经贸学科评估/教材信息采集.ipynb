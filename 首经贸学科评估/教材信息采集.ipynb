{
 "cells": [
  {
   "cell_type": "code",
   "execution_count": 2,
   "metadata": {},
   "outputs": [],
   "source": [
    "import pandas as pd\n",
    "def get_dir_filenames(path,ftype):\n",
    "    '''获取目录下所有指定格式的文件名'''\n",
    "    import os\n",
    "    names = []\n",
    "    for root, dirs, files in os.walk(path):\n",
    "        for file in files:\n",
    "            if ftype in file:\n",
    "                names.append(file)\n",
    "    return names"
   ]
  },
  {
   "cell_type": "code",
   "execution_count": null,
   "metadata": {},
   "outputs": [],
   "source": [
    "import pandas as pd\n",
    "from time import sleep\n",
    "import re\n",
    "import threading\n",
    "import random\n",
    "from selenium import webdriver # 从selenium导入webdriver\n",
    "from selenium.webdriver.common.keys import Keys\n",
    "from selenium.webdriver.support.select import Select\n",
    "from selenium.webdriver.support import expected_conditions as EC\n",
    "from selenium.webdriver.common.by import By\n",
    "from selenium.webdriver.support.ui import WebDriverWait\n",
    "import os\n",
    "from itertools import product\n",
    "import requests\n",
    "from bs4 import BeautifulSoup\n",
    "\n",
    "index_url = 'http://www.sinobook.com.cn/'\n",
    "options = webdriver.ChromeOptions()\n",
    "with open('succeed.txt','r',encoding='utf-8') as f:\n",
    "    data = f.readlines()\n",
    "succeed = [x.strip() for x in data] #记录完成的名单\n",
    "\n",
    "def get_info(colleges):\n",
    "    global succeed\n",
    "    random.shuffle(colleges)\n",
    "    user_agent_list = [ \\\n",
    "        \"Mozilla/5.0 (Windows NT 6.1; WOW64) AppleWebKit/537.1 (KHTML, like Gecko) Chrome/22.0.1207.1 Safari/537.1\" \\\n",
    "        \"Mozilla/5.0 (Windows NT 6.1; WOW64) AppleWebKit/537.36 (KHTML, like Gecko) Chrome/39.0.2171.95 Safari/537.36 OPR/26.0.1656.60\" \\\n",
    "        \"Opera/8.0 (Windows NT 5.1; U; en)\"\\\n",
    "        \"Mozilla/5.0 (Windows NT 5.1; U; en; rv:1.8.1) Gecko/20061208 Firefox/2.0.0 Opera 9.50\" \\\n",
    "        \"Mozilla/4.0 (compatible; MSIE 6.0; Windows NT 5.1; en) Opera 9.50\" \\\n",
    "        \"Mozilla/5.0 (Windows NT 6.1; WOW64; rv:34.0) Gecko/20100101 Firefox/34.0\" \\\n",
    "        \"Mozilla/5.0 (X11; U; Linux x86_64; zh-CN; rv:1.9.2.10) Gecko/20100922 Ubuntu/10.10 (maverick) Firefox/3.6.10\" \\\n",
    "        \"Mozilla/5.0 (Windows NT 6.1; WOW64) AppleWebKit/537.1 (KHTML, like Gecko) Chrome/21.0.1180.71 Safari/537.1 LBBROWSER\" \\\n",
    "        \"Mozilla/5.0 (compatible; MSIE 9.0; Windows NT 6.1; WOW64; Trident/5.0; SLCC2; .NET CLR 2.0.50727; .NET CLR 3.5.30729; .NET CLR 3.0.30729; Media Center PC 6.0; .NET4.0C; .NET4.0E; LBBROWSER)\" \\\n",
    "        \"Mozilla/4.0 (compatible; MSIE 6.0; Windows NT 5.1; SV1; QQDownload 732; .NET4.0C; .NET4.0E; LBBROWSER)\" \\\n",
    "        \"Mozilla/5.0 (Windows NT 5.1) AppleWebKit/535.11 (KHTML, like Gecko) Chrome/17.0.963.84 Safari/535.11 SE 2.X MetaSr 1.0\" \\\n",
    "        \"Mozilla/4.0 (compatible; MSIE 7.0; Windows NT 5.1; Trident/4.0; SV1; QQDownload 732; .NET4.0C; .NET4.0E; SE 2.X MetaSr 1.0)\" \\\n",
    "    ]\n",
    "    for college in colleges:\n",
    "        if college in succeed:\n",
    "            print(college + ' 之前已下载')\n",
    "            continue\n",
    "#         try:\n",
    "        UserAgent = 'user-agent=' + random.choice(user_agent_list)\n",
    "        options.add_argument(UserAgent)\n",
    "        #index_path = 'D:\\\\codes\\\\GitProject\\\\工作区\\\\首经贸数据采集项目\\\\教材数据\\\\data'\n",
    "        #prefs = {'profile.default_content_settings.popups': 0, 'download.default_directory': index_path}  #下载路径\n",
    "        #options.add_experimental_option('prefs', prefs)\n",
    "        driver = webdriver.Chrome(chrome_options=options)\n",
    "        driver.get(index_url)\n",
    "        sleep(1)\n",
    "        input_btn = driver.find_element_by_id('sKeyword')\n",
    "        input_btn.send_keys(college)\n",
    "        driver.find_elements_by_class_name('sehbtn1')[4].click() #按出版社查询\n",
    "        sleep(2)\n",
    "        driver.switch_to_window(driver.window_handles[1]) #可能不是这个写法\n",
    "\n",
    "        #news = driver.find_element_by_class_name('tblBrow').find_elements_by_tag_name('a')\n",
    "        temp_list = []\n",
    "        while True: #如果有下一页\n",
    "            try:\n",
    "                table = driver.find_element_by_id('ContentArea').find_elements_by_tag_name('tr')[1:-1] #第一个为表抬头\n",
    "            except:\n",
    "                print(college + ' 没有检索结果')\n",
    "                succeed.append(college)\n",
    "                driver.quit()\n",
    "                break\n",
    "            have_next = True\n",
    "            have_next = True\n",
    "            for record in table:\n",
    "                '''书名，出版社，ISBN，作者，印次，出版日期，定价'''\n",
    "                items  = record.find_elements_by_tag_name('td')[1:] #第一个是无用的标签\n",
    "                book_name = items[0].text\n",
    "                publish = items[1].text\n",
    "                ISBN = items[2].text\n",
    "                author = items[3].text\n",
    "                type_counts = items[4].text\n",
    "                date = items[5].text\n",
    "                if len(date) > 0:\n",
    "                    if int(date[:4]) < 2016:\n",
    "                        have_next = False\n",
    "                        break\n",
    "                price = items[6].text\n",
    "                row = {'书名':book_name,'出版社':publish,'ISBN':ISBN,'作者':author,'印次':type_counts,'出版日期':date,'定价':price}\n",
    "                temp_list.append(row)\n",
    "            if not have_next:\n",
    "                break\n",
    "            try:\n",
    "                driver.find_element_by_link_text('下一页>').click() #下一页\n",
    "                driver.switch_to_window(driver.window_handles[1])\n",
    "                driver.close()\n",
    "                driver.switch_to_window(driver.window_handles[1])\n",
    "                sleep(4)\n",
    "            except:\n",
    "                print('没有下一页')\n",
    "                break\n",
    "        df = pd.DataFrame(temp_list)\n",
    "        df.to_excel('data/'+college+'-教材信息.xlsx')\n",
    "        print(college+' 已经下载完毕')\n",
    "        driver.quit()\n",
    "        succeed.append(college)\n",
    "        succeed = list(set(succeed))\n",
    "        with open('succeed.txt','w',encoding='utf-8') as f:\n",
    "            for col in succeed:\n",
    "                f.write(col)\n",
    "                f.write('\\n')\n",
    "        if len(set(succeed)) == 27:\n",
    "            print('教材信息全部下载完毕')\n",
    "            break\n",
    "#         except:\n",
    "#             driver.quit()\n",
    "#             print(college+' 下载出现异常')\n",
    "            \n",
    "def to_download(counts):\n",
    "    data = pd.read_excel('高校名单.xlsx',sheet_name='全部高校')\n",
    "    colleges = data['高校名称']\n",
    "    for i in range(counts):\n",
    "        print('第'+str(i+1)+'次循环')\n",
    "        get_info(colleges)\n",
    "    \n",
    "get_info(['清华大学'])\n",
    "#if __name__ == '__main__':\n",
    "#     counts = 2\n",
    "#     threads = []\n",
    "#     for i in range(1):\n",
    "#         t = threading.Thread(target=to_download,args=(counts,))\n",
    "#         threads.append(t)\n",
    "#     for t in threads:\n",
    "#         t.start()\n",
    "#     for thread in threads:\n",
    "#         thread.join()\n",
    "        "
   ]
  },
  {
   "cell_type": "markdown",
   "metadata": {},
   "source": [
    "### 教材类别划分"
   ]
  },
  {
   "cell_type": "code",
   "execution_count": null,
   "metadata": {},
   "outputs": [],
   "source": [
    "经济学', '统计学', '工商管理\n",
    "\n",
    "经济学 ['经济', '保险', '资本', '汇率', '货币', '财务', '税', '外汇', '贸易', '外资', '股票', '投资', '金融', '证券', '筹资', '基金', '股权', '银行', '信托', '债券', '财政', '货币', '银行', '企业管理', '财务', '会计', '市场', '成本', '利润', '市场规模', '城市化', '城镇化', '业绩', '支出', '效益', '通货膨胀', '投入产出', '进口', '出口', '民营', '绩效', '产能', '补贴', '失业', '房价', '物价', '信贷']\n",
    "统计学 ['统计', '样本', '测量', '尺度', '相关性', '相关系数', '数理', '国势', '政治算术']\n",
    "工商管理 temp = ['市场', '工商管理', '工商', '管理', '上市', '公司', '注册会计师', '内部控制', '财政管理', '公司治理', '审计', '生产管理', '生产控制', '生产组织', '生产计划', '经营', '风险投资', '技术创新', '股权结构', '市场战略', '组织价值观', '市场导向', '质量', '绩效', '组织变革', '盈余', '股东控制', '财务', '投资', '企业控制', '筹资', '利润', '经济管理', '管理成本', '成本管理', '研发管理', '团队建设', '流程设计', '风险', '品牌', '人力资源', '人力管理', '绩效', '劳动关系', '福利管理', '管理福利', '会计学', '企业战略', '资源规划']\n"
   ]
  },
  {
   "cell_type": "code",
   "execution_count": null,
   "metadata": {},
   "outputs": [],
   "source": [
    "import pandas as pd\n",
    "jjx = ['经济', '保险', '资本', '汇率', '货币', '财务', '税', '外汇', '贸易', '外资', '股票', '投资', '金融', '证券', '筹资', '基金', '股权', '银行', '信托', '债券', '财政', '货币', '银行', '企业管理', '财务', '会计', '市场', '成本', '利润', '市场规模', '城市化', '城镇化', '业绩', '支出', '效益', '通货膨胀', '投入产出', '进口', '出口', '民营', '绩效', '产能', '补贴', '失业', '房价', '物价', '信贷']\n",
    "tjx = ['统计', '样本', '测量', '尺度', '相关性', '相关系数', '数理', '国势', '政治算术']\n",
    "gsgl = ['市场', '工商管理', '工商', '管理', '上市', '公司', '注册会计师', '内部控制', '财政管理', '公司治理', '审计', '生产管理', '生产控制', '生产组织', '生产计划', '经营', '风险投资', '技术创新', '股权结构', '市场战略', '组织价值观', '市场导向', '质量', '绩效', '组织变革', '盈余', '股东控制', '财务', '投资', '企业控制', '筹资', '利润', '经济管理', '管理成本', '成本', '研发管理', '团队建设', '流程设计', '风险', '品牌', '人力资源', '人力', '绩效', '劳动', '福利管理', '管理福利', '会计', '企业战略', '资源规划']\n",
    "\n",
    "\n",
    "\n",
    "def is_in(kws,text):\n",
    "    for item in kws:\n",
    "        if item in text:\n",
    "            return True\n",
    "    return False"
   ]
  },
  {
   "cell_type": "code",
   "execution_count": 9,
   "metadata": {},
   "outputs": [],
   "source": [
    "fnames = get_dir_filenames('data','.xlsx')\n",
    "data = pd.read_excel('高校名单.xlsx',sheet_name='管理学')\n",
    "college = data['高校名称']\n",
    "college = [x for x in college]\n",
    "\n",
    "for name in fnames:\n",
    "    if name.split('-')[0] in college:\n",
    "        data = pd.read_excel('data/'+name)\n",
    "        temp_list = []\n",
    "        for index, row in data.iterrows():\n",
    "            if is_in(gsgl,row['书名']):\n",
    "                temp_list.append(row)\n",
    "        df = pd.DataFrame(temp_list)\n",
    "        df.to_excel('data/工商管理/'+name)"
   ]
  },
  {
   "cell_type": "markdown",
   "metadata": {},
   "source": [
    "### 提取2016 - 2019"
   ]
  },
  {
   "cell_type": "code",
   "execution_count": 16,
   "metadata": {},
   "outputs": [],
   "source": [
    "data_path = 'data/工商管理'\n",
    "fnames = get_dir_filenames(data_path,'.xlsx')\n",
    "for name in fnames:\n",
    "    data = pd.read_excel(data_path+'/'+name)\n",
    "    temp_list = []\n",
    "    for index,row in data.iterrows():\n",
    "        if type(row['出版日期']) != float:\n",
    "            if int(row['出版日期'][:4]) > 2015:\n",
    "                temp_list.append(row)\n",
    "    data = pd.DataFrame(temp_list)\n",
    "    data.to_excel(data_path+'/'+name)"
   ]
  },
  {
   "cell_type": "markdown",
   "metadata": {},
   "source": [
    "### 统计表"
   ]
  },
  {
   "cell_type": "code",
   "execution_count": 19,
   "metadata": {},
   "outputs": [],
   "source": [
    "data_path = 'data/统计学'\n",
    "fnames = get_dir_filenames(data_path,'.xlsx')\n",
    "temp_list = []\n",
    "for name in fnames:\n",
    "    data = pd.read_excel(data_path+'/'+name)\n",
    "    row = {'学科':'统计学','学校':name.split('-')[0],'教材数':len(data)}\n",
    "    temp_list.append(row)\n",
    "df = pd.DataFrame(temp_list)\n",
    "df.to_excel('data/统计学-教材数-统计表.xlsx')"
   ]
  },
  {
   "cell_type": "markdown",
   "metadata": {},
   "source": [
    "### 教材数据融合"
   ]
  },
  {
   "cell_type": "code",
   "execution_count": 3,
   "metadata": {},
   "outputs": [
    {
     "data": {
      "text/plain": [
       "29336"
      ]
     },
     "execution_count": 3,
     "metadata": {},
     "output_type": "execute_result"
    }
   ],
   "source": [
    "fnames = get_dir_filenames('原始数据','.xlsx')\n",
    "temp = []\n",
    "for name in fnames:\n",
    "    df = pd.read_excel('原始数据/'+name)\n",
    "    temp.append(df)\n",
    "df = pd.concat(temp)\n",
    "df.to_excel('教材数据融合.xlsx')\n",
    "len(df)"
   ]
  }
 ],
 "metadata": {
  "kernelspec": {
   "display_name": "Python 3",
   "language": "python",
   "name": "python3"
  },
  "language_info": {
   "codemirror_mode": {
    "name": "ipython",
    "version": 3
   },
   "file_extension": ".py",
   "mimetype": "text/x-python",
   "name": "python",
   "nbconvert_exporter": "python",
   "pygments_lexer": "ipython3",
   "version": "3.6.4"
  }
 },
 "nbformat": 4,
 "nbformat_minor": 2
}
