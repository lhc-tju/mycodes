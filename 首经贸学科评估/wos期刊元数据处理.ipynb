{
 "cells": [
  {
   "cell_type": "markdown",
   "metadata": {},
   "source": [
    "### 元数据里面存在一个字段多行存储，需要进行替换"
   ]
  },
  {
   "cell_type": "code",
   "execution_count": 10,
   "metadata": {},
   "outputs": [],
   "source": [
    "import pandas as pd\n",
    "import numpy as np\n",
    "import re\n",
    "\n",
    "with open('首经贸-sci-ssci2016-2019.txt','r',encoding='utf-8') as f:\n",
    "    data = f.read()"
   ]
  },
  {
   "cell_type": "code",
   "execution_count": 13,
   "metadata": {},
   "outputs": [],
   "source": [
    "data = data.replace('\\n   ',';')"
   ]
  },
  {
   "cell_type": "code",
   "execution_count": 14,
   "metadata": {},
   "outputs": [],
   "source": [
    "with open('test.txt','w',encoding='utf-8') as f:\n",
    "    f.writelines(data)"
   ]
  },
  {
   "cell_type": "markdown",
   "metadata": {},
   "source": [
    "#### 提取需要的元数据字段"
   ]
  },
  {
   "cell_type": "code",
   "execution_count": 4,
   "metadata": {
    "scrolled": true
   },
   "outputs": [],
   "source": [
    "import pandas as pd\n",
    "with open('test.txt','r',encoding='utf-8') as f:\n",
    "    data = f.readlines()\n",
    "data = data[2:-2] #去掉开头结尾的介绍\n",
    "row = {'AU-作者简写':'','AF-作者全称':'','TI-题名':'','SO-刊名':'','DE-主关键词':'','AB-摘要':'','RP-通信作者':'','SN-期刊刊号':'','PY-出版年':'','SC-专业分类':''}\n",
    "temp_list = []\n",
    "for item in data:\n",
    "    if item.startswith('ER'):\n",
    "        temp_list.append(row)\n",
    "        row = {'AU-作者简写':'','AF-作者全称':'','TI-题名':'','SO-刊名':'','DE-主关键词':'','AB-摘要':'','RP-通信作者':'','SN-期刊刊号':'','PY-出版年':'','SC-专业分类':''}\n",
    "        continue\n",
    "    text = item[3:].strip()\n",
    "    if item.startswith('AU'):\n",
    "        row['AU-作者简写'] = text\n",
    "    elif item.startswith('AF'):\n",
    "        row['AF-作者全称'] = text\n",
    "    elif item.startswith('TI'):\n",
    "        row['TI-题名'] = text\n",
    "    elif item.startswith('SO'):\n",
    "        row['SO-刊名'] = text\n",
    "    elif item.startswith('DE'):\n",
    "        row['DE-主关键词'] = text\n",
    "    elif item.startswith('AB'):\n",
    "        row['AB-摘要'] = text\n",
    "    elif item.startswith('RP'):\n",
    "        row['RP-通信作者'] = text\n",
    "    elif item.startswith('SN'):\n",
    "        row['SN-期刊刊号'] = text\n",
    "    elif item.startswith('PY'):\n",
    "        row['PY-出版年'] = text\n",
    "    elif item.startswith('SC'):\n",
    "        row['SC-专业分类'] = text\n",
    "df = pd.DataFrame(temp_list)\n",
    "df.to_excel('首经贸-外文期刊.xlsx')"
   ]
  },
  {
   "cell_type": "code",
   "execution_count": 16,
   "metadata": {},
   "outputs": [
    {
     "data": {
      "text/plain": [
       "True"
      ]
     },
     "execution_count": 16,
     "metadata": {},
     "output_type": "execute_result"
    }
   ],
   "source": [
    "a = 'linjiu'\n",
    "a.startswith('lin')"
   ]
  }
 ],
 "metadata": {
  "kernelspec": {
   "display_name": "Python 3",
   "language": "python",
   "name": "python3"
  },
  "language_info": {
   "codemirror_mode": {
    "name": "ipython",
    "version": 3
   },
   "file_extension": ".py",
   "mimetype": "text/x-python",
   "name": "python",
   "nbconvert_exporter": "python",
   "pygments_lexer": "ipython3",
   "version": "3.6.4"
  }
 },
 "nbformat": 4,
 "nbformat_minor": 2
}
