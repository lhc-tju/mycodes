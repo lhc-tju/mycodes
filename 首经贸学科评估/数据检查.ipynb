{
 "cells": [
  {
   "cell_type": "markdown",
   "metadata": {},
   "source": [
    "### 通用模块代码"
   ]
  },
  {
   "cell_type": "code",
   "execution_count": 5,
   "metadata": {},
   "outputs": [],
   "source": [
    "import pandas as pd\n",
    "def get_dir_filenames(path,ftype):\n",
    "    '''获取目录下所有指定格式的文件名'''\n",
    "    import os\n",
    "    names = []\n",
    "    for root, dirs, files in os.walk(path):\n",
    "        for file in files:\n",
    "            if ftype in file:\n",
    "                names.append(file)\n",
    "    return names"
   ]
  },
  {
   "cell_type": "markdown",
   "metadata": {},
   "source": [
    "### 融合汇总"
   ]
  },
  {
   "cell_type": "code",
   "execution_count": 17,
   "metadata": {},
   "outputs": [
    {
     "name": "stdout",
     "output_type": "stream",
     "text": [
      "19901\n",
      "4676\n"
     ]
    }
   ],
   "source": [
    "dpath = '知网统计学最原始数据/csv'\n",
    "fnames = get_dir_filenames(dpath,'.csv')\n",
    "temp_list = []\n",
    "for name in fnames:\n",
    "    df = pd.read_csv(dpath+'/'+name,engine='python')\n",
    "    temp_list.append(df)\n",
    "df = pd.concat(temp_list)\n",
    "print(len(df))\n",
    "df = df.drop_duplicates()\n",
    "print(len(df))\n",
    "df.to_excel('知网-统计学.xlsx')"
   ]
  },
  {
   "cell_type": "markdown",
   "metadata": {},
   "source": [
    "### 提取2016-2019"
   ]
  },
  {
   "cell_type": "code",
   "execution_count": 26,
   "metadata": {},
   "outputs": [
    {
     "name": "stdout",
     "output_type": "stream",
     "text": [
      "年份为空\n",
      "年份为空\n",
      "年份为空\n",
      "年份为空\n",
      "年份为空\n",
      "年份为空\n",
      "年份为空\n"
     ]
    }
   ],
   "source": [
    "data = pd.read_excel('知网-统计学-汇总.xlsx')\n",
    "temp = []\n",
    "for index,row in data.iterrows():\n",
    "    try:\n",
    "        if int(row['Year-年'])> 2015:\n",
    "            temp.append(row)\n",
    "    except:\n",
    "        print('年份为空')\n",
    "        pass\n",
    "df = pd.DataFrame(temp)\n",
    "df.to_excel('知网-统计学-2016-2019.xlsx')"
   ]
  },
  {
   "cell_type": "markdown",
   "metadata": {},
   "source": [
    "### 统计学-重新按高校划分"
   ]
  },
  {
   "cell_type": "code",
   "execution_count": 27,
   "metadata": {},
   "outputs": [],
   "source": [
    "import pandas as pd\n",
    "\n",
    "data = pd.read_excel('知网-统计学-2016-2019.xlsx')\n",
    "college = pd.read_excel('高校名单.xlsx',sheet_name='统计学')\n",
    "\n",
    "college = college['高校名称']\n",
    "college = [x for x in college]\n",
    "\n",
    "\n",
    "college_papers_counts = {}\n",
    "for item in college:\n",
    "    college_papers_counts[item] = 0\n",
    "\n",
    "\n",
    "for index, row in data.iterrows():\n",
    "    for key in college_papers_counts:\n",
    "        if key in row['Organ-单位']:\n",
    "            college_papers_counts[key]+=1\n",
    "#college_papers_counts\n",
    "\n",
    "college_papers = {} #拆分存放不同学校的论文\n",
    "for item in college:\n",
    "    college_papers[item] = [] \n",
    "\n",
    "for index, row in data.iterrows():\n",
    "    for col in college:\n",
    "        if col in row['Organ-单位']:\n",
    "            college_papers[col].append(row)\n",
    "\n",
    "for key in college_papers:\n",
    "    df = pd.DataFrame(college_papers[key])\n",
    "    df.to_excel('统计学/'+key + '-统计学.xlsx')"
   ]
  },
  {
   "cell_type": "markdown",
   "metadata": {},
   "source": [
    "### 统计表"
   ]
  },
  {
   "cell_type": "code",
   "execution_count": 28,
   "metadata": {},
   "outputs": [],
   "source": [
    "dpath = '统计学'\n",
    "fnames = get_dir_filenames(dpath,'.xlsx')\n",
    "temp = []\n",
    "for name in fnames:\n",
    "    data = pd.read_excel(dpath+'/'+name)\n",
    "    row = {'学科':'统计学','高校名称':name.split('-')[0],'入围数统计':len(data)}\n",
    "    temp.append(row)\n",
    "df = pd.DataFrame(temp)\n",
    "df.to_excel('大口径-统计学-统计表.xlsx')"
   ]
  },
  {
   "cell_type": "markdown",
   "metadata": {},
   "source": [
    "### 高校-年度发文数统计"
   ]
  },
  {
   "cell_type": "code",
   "execution_count": 31,
   "metadata": {},
   "outputs": [],
   "source": [
    "dpath = '统计学'\n",
    "fnames = get_dir_filenames(dpath,'.xlsx')\n",
    "\n",
    "temp_list = []\n",
    "for name in fnames:\n",
    "    data = pd.read_excel(dpath+'/'+name)['Year-年']\n",
    "    #print(data.value_counts())\n",
    "    for index,item in data.value_counts().items():\n",
    "        row = {'学科':'统计学','高校名称':name.split('-')[0],'发表年份':index,'论文数':item}\n",
    "        temp_list.append(row)\n",
    "df = pd.DataFrame(temp_list)\n",
    "df.to_excel('统计学-高校年度发文数统计.xlsx')"
   ]
  },
  {
   "cell_type": "markdown",
   "metadata": {},
   "source": [
    "### 来源字段检查"
   ]
  },
  {
   "cell_type": "code",
   "execution_count": 33,
   "metadata": {
    "scrolled": true
   },
   "outputs": [
    {
     "name": "stdout",
     "output_type": "stream",
     "text": [
      "统计研究    19\n",
      "经济研究     1\n",
      "Name: Source-文献来源, dtype: int64\n",
      "数理统计与管理    3\n",
      "Name: Source-文献来源, dtype: int64\n",
      "统计研究       15\n",
      "数理统计与管理     6\n",
      "经济研究        3\n",
      "Name: Source-文献来源, dtype: int64\n",
      "统计研究       10\n",
      "数理统计与管理     5\n",
      "经济研究        3\n",
      "Name: Source-文献来源, dtype: int64\n",
      "统计研究    2\n",
      "Name: Source-文献来源, dtype: int64\n",
      "数理统计与管理    11\n",
      "统计研究        1\n",
      "Name: Source-文献来源, dtype: int64\n",
      "数理统计与管理    10\n",
      "统计研究        2\n",
      "Name: Source-文献来源, dtype: int64\n",
      "统计研究       12\n",
      "经济研究       10\n",
      "数理统计与管理     2\n",
      "Name: Source-文献来源, dtype: int64\n",
      "统计研究       5\n",
      "数理统计与管理    3\n",
      "Name: Source-文献来源, dtype: int64\n",
      "数理统计与管理    5\n",
      "统计研究       2\n",
      "Name: Source-文献来源, dtype: int64\n",
      "统计研究       4\n",
      "数理统计与管理    3\n",
      "经济研究       1\n",
      "Name: Source-文献来源, dtype: int64\n",
      "统计研究    18\n",
      "Name: Source-文献来源, dtype: int64\n",
      "统计研究       10\n",
      "经济研究        9\n",
      "数理统计与管理     4\n",
      "Name: Source-文献来源, dtype: int64\n",
      "统计研究       17\n",
      "经济研究        5\n",
      "数理统计与管理     1\n",
      "Name: Source-文献来源, dtype: int64\n",
      "经济研究       2\n",
      "数理统计与管理    1\n",
      "Name: Source-文献来源, dtype: int64\n",
      "数理统计与管理    16\n",
      "统计研究        7\n",
      "Name: Source-文献来源, dtype: int64\n"
     ]
    }
   ],
   "source": [
    "dpath = '小口径-统计学'\n",
    "fnames = get_dir_filenames(dpath,'.xlsx')\n",
    "for name in fnames:\n",
    "    df = pd.read_excel(dpath+'/'+name)\n",
    "    print(df['Source-文献来源'].value_counts())"
   ]
  },
  {
   "cell_type": "markdown",
   "metadata": {},
   "source": [
    "### 汇总 统计"
   ]
  },
  {
   "cell_type": "code",
   "execution_count": 6,
   "metadata": {},
   "outputs": [
    {
     "data": {
      "text/plain": [
       "Index(['发表年份', '学科', '论文数', '高校名称'], dtype='object')"
      ]
     },
     "execution_count": 6,
     "metadata": {},
     "output_type": "execute_result"
    }
   ],
   "source": [
    "fnames = get_dir_filenames('数据统计表','.xlsx')\n",
    "temp = []\n",
    "for name in fnames:\n",
    "    df = pd.read_excel('数据统计表/'+name)\n",
    "    temp.append(df)\n",
    "df = pd.concat(temp)\n",
    "df.keys()"
   ]
  },
  {
   "cell_type": "code",
   "execution_count": 7,
   "metadata": {},
   "outputs": [],
   "source": [
    "counts = df.groupby(['高校名称', '学科','发表年份'])['论文数'].sum()"
   ]
  },
  {
   "cell_type": "code",
   "execution_count": 8,
   "metadata": {},
   "outputs": [],
   "source": [
    "counts.to_excel('高校-学科-南大C刊入围数统计.xlsx')"
   ]
  },
  {
   "cell_type": "markdown",
   "metadata": {},
   "source": [
    "### 总数统计"
   ]
  },
  {
   "cell_type": "code",
   "execution_count": 9,
   "metadata": {},
   "outputs": [],
   "source": [
    "fnames = get_dir_filenames('数据统计表','.xlsx')\n",
    "temp = []\n",
    "for name in fnames:\n",
    "    df = pd.read_excel('数据统计表/'+name)\n",
    "    temp.append(df)\n",
    "df = pd.concat(temp)\n",
    "counts = df.groupby(['高校名称', '学科'])['论文数'].sum()\n",
    "counts.to_excel('高校-学科-南大C刊入围总数统计.xlsx')"
   ]
  }
 ],
 "metadata": {
  "kernelspec": {
   "display_name": "Python 3",
   "language": "python",
   "name": "python3"
  },
  "language_info": {
   "codemirror_mode": {
    "name": "ipython",
    "version": 3
   },
   "file_extension": ".py",
   "mimetype": "text/x-python",
   "name": "python",
   "nbconvert_exporter": "python",
   "pygments_lexer": "ipython3",
   "version": "3.6.4"
  }
 },
 "nbformat": 4,
 "nbformat_minor": 2
}
