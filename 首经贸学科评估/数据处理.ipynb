{
 "cells": [
  {
   "cell_type": "markdown",
   "metadata": {},
   "source": [
    "### 国家自然数据处理"
   ]
  },
  {
   "cell_type": "code",
   "execution_count": 2,
   "metadata": {},
   "outputs": [
    {
     "data": {
      "text/plain": [
       "Index(['负责人', '单位', '金额 (万)', '项目编号', '项目类型', '所属学部', '批准年份', '题目', '学科分类',\n",
       "       '学科代码', '执行时间'],\n",
       "      dtype='object')"
      ]
     },
     "execution_count": 2,
     "metadata": {},
     "output_type": "execute_result"
    }
   ],
   "source": [
    "import pandas as pd\n",
    "\n",
    "data = pd.read_excel('国家自然/2016-2018国家自然项目数据-首都经济贸易大学-明细.xlsx')\n",
    "data.keys()"
   ]
  },
  {
   "cell_type": "code",
   "execution_count": 3,
   "metadata": {},
   "outputs": [
    {
     "data": {
      "text/html": [
       "<div>\n",
       "<style scoped>\n",
       "    .dataframe tbody tr th:only-of-type {\n",
       "        vertical-align: middle;\n",
       "    }\n",
       "\n",
       "    .dataframe tbody tr th {\n",
       "        vertical-align: top;\n",
       "    }\n",
       "\n",
       "    .dataframe thead th {\n",
       "        text-align: right;\n",
       "    }\n",
       "</style>\n",
       "<table border=\"1\" class=\"dataframe\">\n",
       "  <thead>\n",
       "    <tr style=\"text-align: right;\">\n",
       "      <th></th>\n",
       "      <th>负责人</th>\n",
       "      <th>单位</th>\n",
       "      <th>金额 (万)</th>\n",
       "      <th>项目编号</th>\n",
       "      <th>项目类型</th>\n",
       "      <th>所属学部</th>\n",
       "      <th>批准年份</th>\n",
       "      <th>题目</th>\n",
       "      <th>学科分类</th>\n",
       "      <th>学科代码</th>\n",
       "      <th>执行时间</th>\n",
       "    </tr>\n",
       "  </thead>\n",
       "  <tbody>\n",
       "    <tr>\n",
       "      <th>0</th>\n",
       "      <td>朱超</td>\n",
       "      <td>首都经济贸易大学</td>\n",
       "      <td>48.0</td>\n",
       "      <td>71873092</td>\n",
       "      <td>面上项目</td>\n",
       "      <td>管理科学部</td>\n",
       "      <td>2018</td>\n",
       "      <td>人口学视角下风险态度、全要素生产率与金融资产收益率研究</td>\n",
       "      <td>一级：经济科学，二级：金融管理，三级：金融管理</td>\n",
       "      <td>一级：G03，二级：G0306，三级：G0306</td>\n",
       "      <td>2019-01 至 2022-12</td>\n",
       "    </tr>\n",
       "    <tr>\n",
       "      <th>1</th>\n",
       "      <td>杨艳妮</td>\n",
       "      <td>首都经济贸易大学</td>\n",
       "      <td>18.0</td>\n",
       "      <td>71801161</td>\n",
       "      <td>青年科学基金项目</td>\n",
       "      <td>管理科学部</td>\n",
       "      <td>2018</td>\n",
       "      <td>基于仿真优化的环保型交通管理策略协同设计</td>\n",
       "      <td>一级：管理科学与工程，二级：交通运输管理，三级：交通运输管理</td>\n",
       "      <td>一级：G01，二级：G0119，三级：G0119</td>\n",
       "      <td>2019-01 至 2021-12</td>\n",
       "    </tr>\n",
       "    <tr>\n",
       "      <th>2</th>\n",
       "      <td>王峥</td>\n",
       "      <td>首都经济贸易大学</td>\n",
       "      <td>18.0</td>\n",
       "      <td>71803137</td>\n",
       "      <td>青年科学基金项目</td>\n",
       "      <td>管理科学部</td>\n",
       "      <td>2018</td>\n",
       "      <td>质量信息不完备条件下的市场行为决策与均衡理论研究</td>\n",
       "      <td>一级：经济科学，二级：博弈论与信息经济，三级：博弈论与信息经济</td>\n",
       "      <td>一级：G03，二级：G0301，三级：G0301</td>\n",
       "      <td>2019-01 至 2021-12</td>\n",
       "    </tr>\n",
       "    <tr>\n",
       "      <th>3</th>\n",
       "      <td>王茂林</td>\n",
       "      <td>首都经济贸易大学</td>\n",
       "      <td>19.0</td>\n",
       "      <td>71802142</td>\n",
       "      <td>青年科学基金项目</td>\n",
       "      <td>管理科学部</td>\n",
       "      <td>2018</td>\n",
       "      <td>高管政治晋升与国有企业创新：激励有效性与潜在机制</td>\n",
       "      <td>一级：工商管理，二级：财务管理，三级：财务管理</td>\n",
       "      <td>一级：G02，二级：G0205，三级：G0205</td>\n",
       "      <td>2019-01 至 2021-12</td>\n",
       "    </tr>\n",
       "    <tr>\n",
       "      <th>4</th>\n",
       "      <td>蒋雪梅</td>\n",
       "      <td>首都经济贸易大学</td>\n",
       "      <td>48.0</td>\n",
       "      <td>71873091</td>\n",
       "      <td>面上项目</td>\n",
       "      <td>管理科学部</td>\n",
       "      <td>2018</td>\n",
       "      <td>全球价值链变迁视角下的碳排放格局与中国减排策略研究</td>\n",
       "      <td>一级：经济科学，二级：人口资源环境经济与劳动经济，三级：人口资源环境经济</td>\n",
       "      <td>一级：G03，二级：G0307，三级：G030702</td>\n",
       "      <td>2019-01 至 2022-12</td>\n",
       "    </tr>\n",
       "  </tbody>\n",
       "</table>\n",
       "</div>"
      ],
      "text/plain": [
       "   负责人        单位  金额 (万)      项目编号      项目类型   所属学部  批准年份  \\\n",
       "0   朱超  首都经济贸易大学    48.0  71873092      面上项目  管理科学部  2018   \n",
       "1  杨艳妮  首都经济贸易大学    18.0  71801161  青年科学基金项目  管理科学部  2018   \n",
       "2   王峥  首都经济贸易大学    18.0  71803137  青年科学基金项目  管理科学部  2018   \n",
       "3  王茂林  首都经济贸易大学    19.0  71802142  青年科学基金项目  管理科学部  2018   \n",
       "4  蒋雪梅  首都经济贸易大学    48.0  71873091      面上项目  管理科学部  2018   \n",
       "\n",
       "                            题目                                  学科分类  \\\n",
       "0  人口学视角下风险态度、全要素生产率与金融资产收益率研究               一级：经济科学，二级：金融管理，三级：金融管理   \n",
       "1         基于仿真优化的环保型交通管理策略协同设计        一级：管理科学与工程，二级：交通运输管理，三级：交通运输管理   \n",
       "2     质量信息不完备条件下的市场行为决策与均衡理论研究       一级：经济科学，二级：博弈论与信息经济，三级：博弈论与信息经济   \n",
       "3     高管政治晋升与国有企业创新：激励有效性与潜在机制               一级：工商管理，二级：财务管理，三级：财务管理   \n",
       "4    全球价值链变迁视角下的碳排放格局与中国减排策略研究  一级：经济科学，二级：人口资源环境经济与劳动经济，三级：人口资源环境经济   \n",
       "\n",
       "                         学科代码               执行时间  \n",
       "0    一级：G03，二级：G0306，三级：G0306  2019-01 至 2022-12  \n",
       "1    一级：G01，二级：G0119，三级：G0119  2019-01 至 2021-12  \n",
       "2    一级：G03，二级：G0301，三级：G0301  2019-01 至 2021-12  \n",
       "3    一级：G02，二级：G0205，三级：G0205  2019-01 至 2021-12  \n",
       "4  一级：G03，二级：G0307，三级：G030702  2019-01 至 2022-12  "
      ]
     },
     "execution_count": 3,
     "metadata": {},
     "output_type": "execute_result"
    }
   ],
   "source": [
    "data.head()"
   ]
  },
  {
   "cell_type": "code",
   "execution_count": 4,
   "metadata": {},
   "outputs": [],
   "source": [
    "classfy = data['学科分类']\n",
    "temp_list = []\n",
    "for item in classfy:\n",
    "    text = item.split('，')[0].split('：')[1]\n",
    "    temp_list.append(text)\n",
    "data['一级学科'] = temp_list\n",
    "data.to_excel('国家自然/2016-2018国家自然项目数据-首都经济贸易大学.xlsx')"
   ]
  },
  {
   "cell_type": "code",
   "execution_count": 6,
   "metadata": {},
   "outputs": [],
   "source": [
    "data['一级学科'].value_counts().to_excel('国家自然/学科统计.xlsx')"
   ]
  },
  {
   "cell_type": "markdown",
   "metadata": {},
   "source": [
    "### 国家社科"
   ]
  },
  {
   "cell_type": "code",
   "execution_count": 8,
   "metadata": {},
   "outputs": [
    {
     "name": "stdout",
     "output_type": "stream",
     "text": [
      "Index(['项目批准号', '项目类别', '学科分类', '项目名称', '立项时间', '项目负责人', '专业职务', '工作单位',\n",
      "       '单位类别', '所在省区市', '所属系统', '成果名称', '成果形式', '成果等级', '结项时间', '结项证书号', '出版社',\n",
      "       '出版时间', '作者', '获奖情况'],\n",
      "      dtype='object')\n"
     ]
    },
    {
     "data": {
      "text/html": [
       "<div>\n",
       "<style scoped>\n",
       "    .dataframe tbody tr th:only-of-type {\n",
       "        vertical-align: middle;\n",
       "    }\n",
       "\n",
       "    .dataframe tbody tr th {\n",
       "        vertical-align: top;\n",
       "    }\n",
       "\n",
       "    .dataframe thead th {\n",
       "        text-align: right;\n",
       "    }\n",
       "</style>\n",
       "<table border=\"1\" class=\"dataframe\">\n",
       "  <thead>\n",
       "    <tr style=\"text-align: right;\">\n",
       "      <th></th>\n",
       "      <th>项目批准号</th>\n",
       "      <th>项目类别</th>\n",
       "      <th>学科分类</th>\n",
       "      <th>项目名称</th>\n",
       "      <th>立项时间</th>\n",
       "      <th>项目负责人</th>\n",
       "      <th>专业职务</th>\n",
       "      <th>工作单位</th>\n",
       "      <th>单位类别</th>\n",
       "      <th>所在省区市</th>\n",
       "      <th>所属系统</th>\n",
       "      <th>成果名称</th>\n",
       "      <th>成果形式</th>\n",
       "      <th>成果等级</th>\n",
       "      <th>结项时间</th>\n",
       "      <th>结项证书号</th>\n",
       "      <th>出版社</th>\n",
       "      <th>出版时间</th>\n",
       "      <th>作者</th>\n",
       "      <th>获奖情况</th>\n",
       "    </tr>\n",
       "  </thead>\n",
       "  <tbody>\n",
       "    <tr>\n",
       "      <th>0</th>\n",
       "      <td>18AZZ004</td>\n",
       "      <td>重点项目</td>\n",
       "      <td>政治学</td>\n",
       "      <td>新时代人民对社会公平正义要求的实证研究</td>\n",
       "      <td>2018-06-21</td>\n",
       "      <td>麻宝斌</td>\n",
       "      <td>正高级</td>\n",
       "      <td>首都经济贸易大学</td>\n",
       "      <td>NaN</td>\n",
       "      <td>北京</td>\n",
       "      <td>高等院校、其他学校</td>\n",
       "      <td>NaN</td>\n",
       "      <td>NaN</td>\n",
       "      <td>NaN</td>\n",
       "      <td>NaN</td>\n",
       "      <td>NaN</td>\n",
       "      <td>NaN</td>\n",
       "      <td>NaN</td>\n",
       "      <td>NaN</td>\n",
       "      <td>NaN</td>\n",
       "    </tr>\n",
       "    <tr>\n",
       "      <th>1</th>\n",
       "      <td>18BFX219</td>\n",
       "      <td>一般项目</td>\n",
       "      <td>法学</td>\n",
       "      <td>应对国际贸易知识产权制度变革的中国方案研究</td>\n",
       "      <td>2018-06-21</td>\n",
       "      <td>张娜</td>\n",
       "      <td>中级</td>\n",
       "      <td>首都经济贸易大学</td>\n",
       "      <td>NaN</td>\n",
       "      <td>北京</td>\n",
       "      <td>高等院校、其他学校</td>\n",
       "      <td>NaN</td>\n",
       "      <td>NaN</td>\n",
       "      <td>NaN</td>\n",
       "      <td>NaN</td>\n",
       "      <td>NaN</td>\n",
       "      <td>NaN</td>\n",
       "      <td>NaN</td>\n",
       "      <td>NaN</td>\n",
       "      <td>NaN</td>\n",
       "    </tr>\n",
       "    <tr>\n",
       "      <th>2</th>\n",
       "      <td>18BGL047</td>\n",
       "      <td>一般项目</td>\n",
       "      <td>管理学</td>\n",
       "      <td>组织即兴视角下的创业企业成长战略研究</td>\n",
       "      <td>2018-06-21</td>\n",
       "      <td>张晗</td>\n",
       "      <td>副高级</td>\n",
       "      <td>首都经济贸易大学</td>\n",
       "      <td>NaN</td>\n",
       "      <td>北京</td>\n",
       "      <td>高等院校、其他学校</td>\n",
       "      <td>NaN</td>\n",
       "      <td>NaN</td>\n",
       "      <td>NaN</td>\n",
       "      <td>NaN</td>\n",
       "      <td>NaN</td>\n",
       "      <td>NaN</td>\n",
       "      <td>NaN</td>\n",
       "      <td>NaN</td>\n",
       "      <td>NaN</td>\n",
       "    </tr>\n",
       "    <tr>\n",
       "      <th>3</th>\n",
       "      <td>18BGL077</td>\n",
       "      <td>一般项目</td>\n",
       "      <td>管理学</td>\n",
       "      <td>基于价值链理论的企业质量成本管理与分担机制研究</td>\n",
       "      <td>2018-06-21</td>\n",
       "      <td>李百兴</td>\n",
       "      <td>正高级</td>\n",
       "      <td>首都经济贸易大学</td>\n",
       "      <td>NaN</td>\n",
       "      <td>北京</td>\n",
       "      <td>高等院校、其他学校</td>\n",
       "      <td>NaN</td>\n",
       "      <td>NaN</td>\n",
       "      <td>NaN</td>\n",
       "      <td>NaN</td>\n",
       "      <td>NaN</td>\n",
       "      <td>NaN</td>\n",
       "      <td>NaN</td>\n",
       "      <td>NaN</td>\n",
       "      <td>NaN</td>\n",
       "    </tr>\n",
       "    <tr>\n",
       "      <th>4</th>\n",
       "      <td>18BGL134</td>\n",
       "      <td>一般项目</td>\n",
       "      <td>管理学</td>\n",
       "      <td>战略科技人才素质结构与培养战略研究</td>\n",
       "      <td>2018-06-21</td>\n",
       "      <td>陈小平</td>\n",
       "      <td>副高级</td>\n",
       "      <td>首都经济贸易大学</td>\n",
       "      <td>NaN</td>\n",
       "      <td>北京</td>\n",
       "      <td>高等院校、其他学校</td>\n",
       "      <td>NaN</td>\n",
       "      <td>NaN</td>\n",
       "      <td>NaN</td>\n",
       "      <td>NaN</td>\n",
       "      <td>NaN</td>\n",
       "      <td>NaN</td>\n",
       "      <td>NaN</td>\n",
       "      <td>NaN</td>\n",
       "      <td>NaN</td>\n",
       "    </tr>\n",
       "  </tbody>\n",
       "</table>\n",
       "</div>"
      ],
      "text/plain": [
       "      项目批准号  项目类别 学科分类                     项目名称        立项时间 项目负责人 专业职务  \\\n",
       "0  18AZZ004  重点项目  政治学      新时代人民对社会公平正义要求的实证研究  2018-06-21   麻宝斌  正高级   \n",
       "1  18BFX219  一般项目   法学    应对国际贸易知识产权制度变革的中国方案研究  2018-06-21    张娜   中级   \n",
       "2  18BGL047  一般项目  管理学       组织即兴视角下的创业企业成长战略研究  2018-06-21    张晗  副高级   \n",
       "3  18BGL077  一般项目  管理学  基于价值链理论的企业质量成本管理与分担机制研究  2018-06-21   李百兴  正高级   \n",
       "4  18BGL134  一般项目  管理学        战略科技人才素质结构与培养战略研究  2018-06-21   陈小平  副高级   \n",
       "\n",
       "       工作单位 单位类别 所在省区市       所属系统 成果名称 成果形式 成果等级 结项时间  结项证书号  出版社  出版时间  作者  \\\n",
       "0  首都经济贸易大学  NaN    北京  高等院校、其他学校  NaN  NaN  NaN  NaN    NaN  NaN   NaN NaN   \n",
       "1  首都经济贸易大学  NaN    北京  高等院校、其他学校  NaN  NaN  NaN  NaN    NaN  NaN   NaN NaN   \n",
       "2  首都经济贸易大学  NaN    北京  高等院校、其他学校  NaN  NaN  NaN  NaN    NaN  NaN   NaN NaN   \n",
       "3  首都经济贸易大学  NaN    北京  高等院校、其他学校  NaN  NaN  NaN  NaN    NaN  NaN   NaN NaN   \n",
       "4  首都经济贸易大学  NaN    北京  高等院校、其他学校  NaN  NaN  NaN  NaN    NaN  NaN   NaN NaN   \n",
       "\n",
       "   获奖情况  \n",
       "0   NaN  \n",
       "1   NaN  \n",
       "2   NaN  \n",
       "3   NaN  \n",
       "4   NaN  "
      ]
     },
     "execution_count": 8,
     "metadata": {},
     "output_type": "execute_result"
    }
   ],
   "source": [
    "data = pd.read_excel('国家社科/首都经济贸易大学-国家社科项目-2016-2019.xlsx')\n",
    "print(data.keys())\n",
    "data.head()\n"
   ]
  },
  {
   "cell_type": "code",
   "execution_count": 10,
   "metadata": {},
   "outputs": [],
   "source": [
    "data['学科分类'].value_counts().to_excel('国家社科/国家社科-学科统计.xlsx')"
   ]
  },
  {
   "cell_type": "markdown",
   "metadata": {},
   "source": [
    "### 教育部"
   ]
  },
  {
   "cell_type": "code",
   "execution_count": 11,
   "metadata": {},
   "outputs": [
    {
     "data": {
      "text/plain": [
       "Index(['学校名称', '学科门类', '序号', '申请人', '项目名称', '项目批准号', '项目类别'], dtype='object')"
      ]
     },
     "execution_count": 11,
     "metadata": {},
     "output_type": "execute_result"
    }
   ],
   "source": [
    "data = pd.read_excel('教育部/首都经济贸易大学-教育部项目-2016-2018.xlsx')\n",
    "data.keys()"
   ]
  },
  {
   "cell_type": "code",
   "execution_count": 13,
   "metadata": {},
   "outputs": [],
   "source": [
    "data['学科门类'].value_counts().to_excel('教育部/教育部项目-学科统计.xlsx')"
   ]
  },
  {
   "cell_type": "markdown",
   "metadata": {},
   "source": [
    "### 中文期刊-学科分类-按C刊类别处理"
   ]
  },
  {
   "cell_type": "code",
   "execution_count": 31,
   "metadata": {},
   "outputs": [
    {
     "data": {
      "text/plain": [
       "Index(['SrcDatabase-来源库', 'Title-题名', 'Author-作者', 'Organ-单位', 'Source-文献来源',\n",
       "       'Keyword-关键词', 'Summary-摘要', 'PubTime-发表时间', 'FirstDuty-第一责任人',\n",
       "       'Fund-基金', 'Year-年', 'Volume-卷', 'Period-期', 'PageCount-页码',\n",
       "       'CLC-中图分类号'],\n",
       "      dtype='object')"
      ]
     },
     "execution_count": 31,
     "metadata": {},
     "output_type": "execute_result"
    }
   ],
   "source": [
    "data = pd.read_excel('中文期刊论文/2016-2019南大C刊-首经贸汇总.xlsx')\n",
    "data.keys()"
   ]
  },
  {
   "cell_type": "code",
   "execution_count": 32,
   "metadata": {},
   "outputs": [
    {
     "data": {
      "text/plain": [
       "Index(['序号', '学科名称', '期刊名称', '主办单位'], dtype='object')"
      ]
     },
     "execution_count": 32,
     "metadata": {},
     "output_type": "execute_result"
    }
   ],
   "source": [
    "mag = pd.read_excel('中文期刊论文/2019年南京大学C刊汇总.xlsx')\n",
    "mag.keys()"
   ]
  },
  {
   "cell_type": "code",
   "execution_count": 23,
   "metadata": {
    "scrolled": true
   },
   "outputs": [
    {
     "data": {
      "text/html": [
       "<div>\n",
       "<style scoped>\n",
       "    .dataframe tbody tr th:only-of-type {\n",
       "        vertical-align: middle;\n",
       "    }\n",
       "\n",
       "    .dataframe tbody tr th {\n",
       "        vertical-align: top;\n",
       "    }\n",
       "\n",
       "    .dataframe thead th {\n",
       "        text-align: right;\n",
       "    }\n",
       "</style>\n",
       "<table border=\"1\" class=\"dataframe\">\n",
       "  <thead>\n",
       "    <tr style=\"text-align: right;\">\n",
       "      <th></th>\n",
       "      <th>序号</th>\n",
       "      <th>学科名称</th>\n",
       "      <th>期刊名称</th>\n",
       "      <th>主办单位</th>\n",
       "    </tr>\n",
       "  </thead>\n",
       "  <tbody>\n",
       "    <tr>\n",
       "      <th>0</th>\n",
       "      <td>1</td>\n",
       "      <td>马克思主义理论</td>\n",
       "      <td>当代世界社会主义问题</td>\n",
       "      <td>山东大学当代社会主义研究所</td>\n",
       "    </tr>\n",
       "    <tr>\n",
       "      <th>1</th>\n",
       "      <td>2</td>\n",
       "      <td>马克思主义理论</td>\n",
       "      <td>当代世界与社会主义</td>\n",
       "      <td>中央党史和文献研究院、中国国际共运史学会</td>\n",
       "    </tr>\n",
       "    <tr>\n",
       "      <th>2</th>\n",
       "      <td>3</td>\n",
       "      <td>马克思主义理论</td>\n",
       "      <td>党的文献</td>\n",
       "      <td>中央党史和文献研究院、中央档案馆</td>\n",
       "    </tr>\n",
       "    <tr>\n",
       "      <th>3</th>\n",
       "      <td>4</td>\n",
       "      <td>马克思主义理论</td>\n",
       "      <td>党建</td>\n",
       "      <td>中共中央宣传部</td>\n",
       "    </tr>\n",
       "    <tr>\n",
       "      <th>4</th>\n",
       "      <td>5</td>\n",
       "      <td>马克思主义理论</td>\n",
       "      <td>党史研究与教学</td>\n",
       "      <td>中共福建省委党校</td>\n",
       "    </tr>\n",
       "  </tbody>\n",
       "</table>\n",
       "</div>"
      ],
      "text/plain": [
       "   序号     学科名称        期刊名称                  主办单位\n",
       "0   1  马克思主义理论  当代世界社会主义问题         山东大学当代社会主义研究所\n",
       "1   2  马克思主义理论   当代世界与社会主义  中央党史和文献研究院、中国国际共运史学会\n",
       "2   3  马克思主义理论        党的文献      中央党史和文献研究院、中央档案馆\n",
       "3   4  马克思主义理论          党建               中共中央宣传部\n",
       "4   5  马克思主义理论     党史研究与教学              中共福建省委党校"
      ]
     },
     "execution_count": 23,
     "metadata": {},
     "output_type": "execute_result"
    }
   ],
   "source": [
    "mag.head()"
   ]
  },
  {
   "cell_type": "code",
   "execution_count": 33,
   "metadata": {},
   "outputs": [],
   "source": [
    "mag_name = [x for x in mag['期刊名称']]\n",
    "mag_class = [x for x in mag['学科名称']]\n",
    "mydict = {}\n",
    "for i in range(len(mag_class)):\n",
    "    mydict[mag_name[i]] = mag_class[i]"
   ]
  },
  {
   "cell_type": "code",
   "execution_count": 41,
   "metadata": {},
   "outputs": [],
   "source": [
    "temp_list = []\n",
    "source = [x for x in data['Source-文献来源']]\n",
    "for item in source:\n",
    "    try:\n",
    "        temp_list.append(mydict[item])\n",
    "    except:\n",
    "        thekey = item.split('(')[0]\n",
    "        temp_list.append(mydict[thekey])\n",
    "    "
   ]
  },
  {
   "cell_type": "code",
   "execution_count": 44,
   "metadata": {},
   "outputs": [],
   "source": [
    "data['学科类别'] = temp_list"
   ]
  },
  {
   "cell_type": "code",
   "execution_count": 45,
   "metadata": {},
   "outputs": [],
   "source": [
    "data.to_excel('中文期刊论文/2016-2019南大C刊-首经贸汇总2.0.xlsx')"
   ]
  },
  {
   "cell_type": "code",
   "execution_count": 47,
   "metadata": {},
   "outputs": [],
   "source": [
    "data['学科类别'].value_counts().to_excel('中文期刊论文/中文期刊论文-学科分类.xlsx')"
   ]
  },
  {
   "cell_type": "markdown",
   "metadata": {},
   "source": [
    "### 外文期刊"
   ]
  },
  {
   "cell_type": "code",
   "execution_count": 93,
   "metadata": {},
   "outputs": [],
   "source": [
    "data = pd.read_excel('外文期刊论文/2016-2019-首经贸-SCI-SSCI汇总.xlsx')\n",
    "\n",
    "types = [x for x in data['SC-专业分类']]\n",
    "\n",
    "type_set  = set()\n",
    "for item in types:\n",
    "    \n",
    "    text = item.split(';')\n",
    "    \n",
    "    for item2 in text:\n",
    "        type_set.add(item2)\n",
    "\n",
    "\n",
    "new_set = set()\n",
    "for item in type_set:\n",
    "    new_set.add(item.split('-')[0].strip())\n",
    "new_set.remove('')\n",
    "\n",
    "count_dic = {}\n",
    "for item in new_set:\n",
    "    count_dic[item] = 0\n",
    "    \n",
    "for item in types:\n",
    "    for item2 in new_set:\n",
    "        if item2 in item:\n",
    "            count_dic[item2]+=1"
   ]
  },
  {
   "cell_type": "code",
   "execution_count": 94,
   "metadata": {},
   "outputs": [
    {
     "data": {
      "text/plain": [
       "{'Agriculture': 2,\n",
       " 'Astronomy & Astrophysics': 1,\n",
       " 'Automation & Control Systems': 2,\n",
       " 'Biochemistry & Molecular Biology': 4,\n",
       " 'Biodiversity & Conservation': 2,\n",
       " 'Biotechnology & Applied Microbiology': 5,\n",
       " 'Business & Economics': 108,\n",
       " 'Chemistry': 3,\n",
       " 'Computer Science': 47,\n",
       " 'Construction & Building Technology': 3,\n",
       " 'Development Studies': 3,\n",
       " 'Energy & Fuels': 13,\n",
       " 'Engineering': 53,\n",
       " 'Environmental Sciences & Ecology': 71,\n",
       " 'Food Science & Technology': 2,\n",
       " 'General & Internal Medicine': 1,\n",
       " 'Genetics & Heredity': 1,\n",
       " 'Geography': 8,\n",
       " 'Geology': 4,\n",
       " 'Health Care Sciences & Services': 1,\n",
       " 'Imaging Science & Photographic Technology': 2,\n",
       " 'Infectious Diseases': 1,\n",
       " 'Information Science & Library Science': 3,\n",
       " 'Instruments & Instrumentation': 1,\n",
       " 'International Relations': 8,\n",
       " 'Materials Science': 5,\n",
       " 'Mathematical & Computational Biology': 4,\n",
       " 'Mathematical Methods In Social Sciences': 22,\n",
       " 'Mathematics': 60,\n",
       " 'Mechanics': 2,\n",
       " 'Medical Informatics': 1,\n",
       " 'Medicine': 2,\n",
       " 'Metallurgy & Metallurgical Engineering': 1,\n",
       " 'Meteorology & Atmospheric Sciences': 3,\n",
       " 'Microbiology': 6,\n",
       " 'Operations Research & Management Science': 7,\n",
       " 'Ophthalmology': 1,\n",
       " 'Optics': 1,\n",
       " 'Other Topics': 51,\n",
       " 'Parasitology': 1,\n",
       " 'Pharmacology & Pharmacy': 3,\n",
       " 'Physical Geography': 1,\n",
       " 'Physics': 14,\n",
       " 'Polymer Science': 1,\n",
       " 'Psychiatry': 1,\n",
       " 'Psychology': 12,\n",
       " 'Public Administration': 4,\n",
       " 'Public, Environmental & Occupational Health': 7,\n",
       " 'Remote Sensing': 4,\n",
       " 'Research & Experimental': 1,\n",
       " 'Science & Technology': 44,\n",
       " 'Social Sciences': 31,\n",
       " 'Telecommunications': 7,\n",
       " 'Thermodynamics': 2,\n",
       " 'Toxicology': 3,\n",
       " 'Transportation': 6,\n",
       " 'Urban Studies': 3,\n",
       " 'Water Resources': 8}"
      ]
     },
     "execution_count": 94,
     "metadata": {},
     "output_type": "execute_result"
    }
   ],
   "source": [
    "count_dic"
   ]
  },
  {
   "cell_type": "code",
   "execution_count": 95,
   "metadata": {},
   "outputs": [],
   "source": [
    "subject = []\n",
    "counts = []\n",
    "for key in count_dic:\n",
    "    subject.append(key)\n",
    "    counts.append(count_dic[key])\n",
    "df = pd.DataFrame()\n",
    "df['专业分类'] = subject\n",
    "df['论文数'] = counts\n",
    "df.to_excel('外文期刊论文/外文期刊-学科统计.xlsx')"
   ]
  },
  {
   "cell_type": "code",
   "execution_count": null,
   "metadata": {},
   "outputs": [],
   "source": []
  }
 ],
 "metadata": {
  "kernelspec": {
   "display_name": "Python 3",
   "language": "python",
   "name": "python3"
  },
  "language_info": {
   "codemirror_mode": {
    "name": "ipython",
    "version": 3
   },
   "file_extension": ".py",
   "mimetype": "text/x-python",
   "name": "python",
   "nbconvert_exporter": "python",
   "pygments_lexer": "ipython3",
   "version": "3.6.4"
  }
 },
 "nbformat": 4,
 "nbformat_minor": 2
}
