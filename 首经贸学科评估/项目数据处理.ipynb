{
 "cells": [
  {
   "cell_type": "markdown",
   "metadata": {},
   "source": [
    "### 国家社科项目数据处理"
   ]
  },
  {
   "cell_type": "code",
   "execution_count": 17,
   "metadata": {},
   "outputs": [
    {
     "data": {
      "text/plain": [
       "Index(['项目批准号', '项目类别', '学科分类', '项目名称', '立项时间', '项目负责人', '专业职务', '工作单位',\n",
       "       '单位类别', '所在省区市', '所属系统', '成果名称', '成果形式', '成果等级', '结项时间', '结项证书号', '出版社',\n",
       "       '出版时间', '作者', '获奖情况'],\n",
       "      dtype='object')"
      ]
     },
     "execution_count": 17,
     "metadata": {},
     "output_type": "execute_result"
    }
   ],
   "source": [
    "#筛选出管理学、应用经济、统计学\n",
    "import pandas as pd\n",
    "import numpy as np\n",
    "datas = pd.read_excel('高校国家社科基金项目原始数据.xlsx')\n",
    "datas.keys()"
   ]
  },
  {
   "cell_type": "code",
   "execution_count": 18,
   "metadata": {},
   "outputs": [],
   "source": [
    "list1 = []\n",
    "list2 = []\n",
    "list3 = []\n",
    "for index,row in datas.iterrows():\n",
    "    if row['学科分类'] == '应用经济':\n",
    "        list1.append(row)\n",
    "    elif row['学科分类'] == '管理学':\n",
    "        list2.append(row)\n",
    "    elif row['学科分类'] == '统计学':\n",
    "        list3.append(row)\n",
    "\n",
    "df1 = pd.DataFrame(list1)\n",
    "df1.to_excel('国家社科/应用经济学.xlsx')\n",
    "df2 = pd.DataFrame(list2)\n",
    "df2.to_excel('国家社科/管理学.xlsx')\n",
    "df3 = pd.DataFrame(list3)\n",
    "df3.to_excel('国家社科/统计学.xlsx')\n",
    "\n"
   ]
  },
  {
   "cell_type": "code",
   "execution_count": 22,
   "metadata": {},
   "outputs": [],
   "source": [
    "college = pd.read_excel('高校名单.xlsx',sheet_name='经济学')\n",
    "college = college['高校名称']\n",
    "\n",
    "college_pro = {}\n",
    "for item in college:\n",
    "    college_pro[item] = []\n",
    "\n",
    "for index,row in df1.iterrows():\n",
    "    for col in college:\n",
    "        if col in row['工作单位']:\n",
    "            college_pro[col].append(row)\n",
    "for key in college_pro:\n",
    "    df = pd.DataFrame(college_pro[key])\n",
    "    df.to_excel('国家社科/高校分类存储/'+key+'-应用经济学.xlsx')"
   ]
  },
  {
   "cell_type": "markdown",
   "metadata": {},
   "source": [
    "### 国家社科项目数据统计"
   ]
  },
  {
   "cell_type": "code",
   "execution_count": 26,
   "metadata": {},
   "outputs": [],
   "source": [
    "college = pd.read_excel('高校名单.xlsx',sheet_name='统计学')\n",
    "college = college['高校名称']\n",
    "col_counts = {}\n",
    "for item in college:\n",
    "    col_counts[item] = 0\n",
    "\n",
    "data = pd.read_excel('国家社科/统计学.xlsx')\n",
    "for index,row in data.iterrows():\n",
    "    for col in college:\n",
    "        if col in row['工作单位']:\n",
    "            col_counts[col]+=1\n",
    "temp = []\n",
    "for key in col_counts:\n",
    "    row = {'学校':key,'学科':'统计学','国家社科立项数':col_counts[key]}\n",
    "    temp.append(row)\n",
    "df = pd.DataFrame(temp)\n",
    "df.to_excel('国家社科/国家社科-统计学立项数.xlsx')"
   ]
  },
  {
   "cell_type": "markdown",
   "metadata": {},
   "source": [
    "## 教育部项目"
   ]
  },
  {
   "cell_type": "markdown",
   "metadata": {},
   "source": [
    "### 学科提取"
   ]
  },
  {
   "cell_type": "code",
   "execution_count": 4,
   "metadata": {},
   "outputs": [],
   "source": [
    "import pandas as pd\n",
    "def get_dir_filenames(path,ftype):\n",
    "    '''获取目录下所有指定格式的文件名'''\n",
    "    import os\n",
    "    names = []\n",
    "    for root, dirs, files in os.walk(path):\n",
    "        for file in files:\n",
    "            if ftype in file:\n",
    "                names.append(file)\n",
    "    return names\n",
    "\n",
    "fnames = get_dir_filenames('教育部项目','.xlsx')\n",
    "temp = []\n",
    "for name in fnames:\n",
    "    data = pd.read_excel('教育部项目/'+name,header=1)\n",
    "    temp.append(data)\n",
    "\n",
    "df = pd.concat(temp)\n",
    "df.to_excel('教育部项目/教育部项目2016-2018.xlsx')"
   ]
  },
  {
   "cell_type": "code",
   "execution_count": 5,
   "metadata": {},
   "outputs": [
    {
     "data": {
      "text/plain": [
       "15856"
      ]
     },
     "execution_count": 5,
     "metadata": {},
     "output_type": "execute_result"
    }
   ],
   "source": [
    "len(df)"
   ]
  },
  {
   "cell_type": "code",
   "execution_count": 2,
   "metadata": {},
   "outputs": [
    {
     "data": {
      "text/html": [
       "<div>\n",
       "<style scoped>\n",
       "    .dataframe tbody tr th:only-of-type {\n",
       "        vertical-align: middle;\n",
       "    }\n",
       "\n",
       "    .dataframe tbody tr th {\n",
       "        vertical-align: top;\n",
       "    }\n",
       "\n",
       "    .dataframe thead th {\n",
       "        text-align: right;\n",
       "    }\n",
       "</style>\n",
       "<table border=\"1\" class=\"dataframe\">\n",
       "  <thead>\n",
       "    <tr style=\"text-align: right;\">\n",
       "      <th></th>\n",
       "      <th>学校名称</th>\n",
       "      <th>学科门类</th>\n",
       "      <th>序号</th>\n",
       "      <th>申请人</th>\n",
       "      <th>项目名称</th>\n",
       "      <th>项目批准号</th>\n",
       "      <th>项目类别</th>\n",
       "    </tr>\n",
       "  </thead>\n",
       "  <tbody>\n",
       "    <tr>\n",
       "      <th>0</th>\n",
       "      <td>安徽科技学院</td>\n",
       "      <td>马克思主义/ 思想政治教育</td>\n",
       "      <td>1.0</td>\n",
       "      <td>王方友</td>\n",
       "      <td>社会主义核心价值观融入农民日常生活研究</td>\n",
       "      <td>16YJA710020</td>\n",
       "      <td>规划基金项目</td>\n",
       "    </tr>\n",
       "    <tr>\n",
       "      <th>1</th>\n",
       "      <td>北京师范大学</td>\n",
       "      <td>马克思主义/ 思想政治教育</td>\n",
       "      <td>2.0</td>\n",
       "      <td>方增泉</td>\n",
       "      <td>教师誓词研究</td>\n",
       "      <td>16YJA710007</td>\n",
       "      <td>规划基金项目</td>\n",
       "    </tr>\n",
       "    <tr>\n",
       "      <th>2</th>\n",
       "      <td>成都理工大学</td>\n",
       "      <td>马克思主义/ 思想政治教育</td>\n",
       "      <td>3.0</td>\n",
       "      <td>夏达</td>\n",
       "      <td>在四川藏区开展精准思想政治教育方法路径研究</td>\n",
       "      <td>16YJA710024</td>\n",
       "      <td>规划基金项目</td>\n",
       "    </tr>\n",
       "    <tr>\n",
       "      <th>3</th>\n",
       "      <td>佛山科学技术学 院</td>\n",
       "      <td>马克思主义/ 思想政治教育</td>\n",
       "      <td>4.0</td>\n",
       "      <td>林瑞青</td>\n",
       "      <td>网络文化异化境遇下大学生虚拟生存的社会责任践 行研究</td>\n",
       "      <td>16YJA710012</td>\n",
       "      <td>规划基金项目</td>\n",
       "    </tr>\n",
       "    <tr>\n",
       "      <th>4</th>\n",
       "      <td>广东财经大学</td>\n",
       "      <td>马克思主义/ 思想政治教育</td>\n",
       "      <td>5.0</td>\n",
       "      <td>仇小敏</td>\n",
       "      <td>马克思主义中国化的世界向度研究</td>\n",
       "      <td>16YJA710005</td>\n",
       "      <td>规划基金项目</td>\n",
       "    </tr>\n",
       "  </tbody>\n",
       "</table>\n",
       "</div>"
      ],
      "text/plain": [
       "        学校名称           学科门类   序号  申请人                        项目名称  \\\n",
       "0     安徽科技学院  马克思主义/ 思想政治教育  1.0  王方友         社会主义核心价值观融入农民日常生活研究   \n",
       "1     北京师范大学  马克思主义/ 思想政治教育  2.0  方增泉                      教师誓词研究   \n",
       "2     成都理工大学  马克思主义/ 思想政治教育  3.0   夏达       在四川藏区开展精准思想政治教育方法路径研究   \n",
       "3  佛山科学技术学 院  马克思主义/ 思想政治教育  4.0  林瑞青  网络文化异化境遇下大学生虚拟生存的社会责任践 行研究   \n",
       "4     广东财经大学  马克思主义/ 思想政治教育  5.0  仇小敏             马克思主义中国化的世界向度研究   \n",
       "\n",
       "         项目批准号    项目类别  \n",
       "0  16YJA710020  规划基金项目  \n",
       "1  16YJA710007  规划基金项目  \n",
       "2  16YJA710024  规划基金项目  \n",
       "3  16YJA710012  规划基金项目  \n",
       "4  16YJA710005  规划基金项目  "
      ]
     },
     "execution_count": 2,
     "metadata": {},
     "output_type": "execute_result"
    }
   ],
   "source": [
    "import pandas as pd\n",
    "df = pd.read_excel('教育部项目/教育部项目2016-2018.xlsx')\n",
    "df.head()"
   ]
  },
  {
   "cell_type": "code",
   "execution_count": 3,
   "metadata": {
    "scrolled": true
   },
   "outputs": [
    {
     "data": {
      "text/plain": [
       "Index(['学校名称', '学科门类', '序号', '申请人', '项目名称', '项目批准号', '项目类别'], dtype='object')"
      ]
     },
     "execution_count": 3,
     "metadata": {},
     "output_type": "execute_result"
    }
   ],
   "source": [
    "df.keys()"
   ]
  },
  {
   "cell_type": "code",
   "execution_count": 5,
   "metadata": {},
   "outputs": [],
   "source": [
    "df_jj = []\n",
    "df_gl = []\n",
    "df_tj = []\n",
    "\n",
    "for index, row in df.iterrows():\n",
    "    if '经济学' in row['学科门类']:\n",
    "        df_jj.append(row)\n",
    "        continue\n",
    "    elif '管理学' in row['学科门类']:\n",
    "        df_gl.append(row)\n",
    "        continue\n",
    "    elif '统计学' in row['学科门类']:\n",
    "        df_tj.append(row)\n"
   ]
  },
  {
   "cell_type": "code",
   "execution_count": 7,
   "metadata": {},
   "outputs": [],
   "source": [
    "df_jj = pd.DataFrame(df_jj)\n",
    "df_gl = pd.DataFrame(df_gl)\n",
    "df_tj = pd.DataFrame(df_tj)"
   ]
  },
  {
   "cell_type": "code",
   "execution_count": 30,
   "metadata": {},
   "outputs": [],
   "source": [
    "df_tj = df_tj.drop_duplicates(subset=['项目批准号'],keep='first')\n",
    "df_jj = df_jj.drop_duplicates(subset=['项目批准号'],keep='first')\n",
    "df_gl = df_gl.drop_duplicates(subset=['项目批准号'],keep='first')"
   ]
  },
  {
   "cell_type": "code",
   "execution_count": 32,
   "metadata": {},
   "outputs": [],
   "source": [
    "df_jj.to_excel('教育部项目/教育部-经济学.xlsx')\n",
    "df_gl.to_excel('教育部项目/教育部-管理学.xlsx')\n",
    "df_tj.to_excel('教育部项目/教育部-统计学.xlsx')"
   ]
  },
  {
   "cell_type": "code",
   "execution_count": 36,
   "metadata": {},
   "outputs": [],
   "source": [
    "college = pd.read_excel('高校名单.xlsx',sheet_name='统计学')\n",
    "college = college['高校名称']\n",
    "col_paper = {}\n",
    "for key in college:\n",
    "    col_paper[key] = []\n",
    "\n",
    "for index,row in df_tj.iterrows():\n",
    "    for col in college:\n",
    "        if col in row['学校名称']:\n",
    "            col_paper[col].append(row)\n",
    "\n",
    "for key in col_paper:\n",
    "    df = pd.DataFrame(col_paper[key])\n",
    "    df.to_excel('教育部项目/按学校分类存储/'+key+'-统计学.xlsx')"
   ]
  },
  {
   "cell_type": "markdown",
   "metadata": {},
   "source": [
    "### 教育部项目数据统计表"
   ]
  },
  {
   "cell_type": "code",
   "execution_count": 5,
   "metadata": {},
   "outputs": [],
   "source": [
    "import pandas as pd\n",
    "college = pd.read_excel('高校名单.xlsx',sheet_name='管理学')\n",
    "college = college['高校名称']\n",
    "col_counts = {}\n",
    "for item in college:\n",
    "    col_counts[item] = 0\n",
    "\n",
    "data = pd.read_excel('教育部项目/教育部-管理学.xlsx')\n",
    "for index,row in data.iterrows():\n",
    "    for col in college:\n",
    "        if col in row['学校名称']:\n",
    "            col_counts[col]+=1\n",
    "temp = []\n",
    "for key in col_counts:\n",
    "    row = {'学校':key,'学科':'统计学','教育部项目数':col_counts[key]}\n",
    "    temp.append(row)\n",
    "df = pd.DataFrame(temp)\n",
    "df.to_excel('教育部项目/教育部-工商管理-统计表.xlsx')"
   ]
  },
  {
   "cell_type": "markdown",
   "metadata": {},
   "source": [
    "### 国家自然-项目数据统计"
   ]
  },
  {
   "cell_type": "code",
   "execution_count": null,
   "metadata": {},
   "outputs": [],
   "source": [
    "import pandas as pd\n",
    "def get_dir_filenames(path,ftype):\n",
    "    '''获取目录下所有指定格式的文件名'''\n",
    "    import os\n",
    "    names = []\n",
    "    for root, dirs, files in os.walk(path):\n",
    "        for file in files:\n",
    "            if ftype in file:\n",
    "                names.append(file)\n",
    "    return names"
   ]
  },
  {
   "cell_type": "code",
   "execution_count": 10,
   "metadata": {},
   "outputs": [],
   "source": [
    "data_path = '国家自然/国家自然-统计学'\n",
    "fnames = get_dir_filenames(data_path,'.xlsx')\n",
    "temp_list = []"
   ]
  },
  {
   "cell_type": "code",
   "execution_count": 11,
   "metadata": {},
   "outputs": [
    {
     "data": {
      "text/plain": [
       "['~$北京工业大学.xlsx',\n",
       " '东北财经大学.xlsx',\n",
       " '中南大学.xlsx',\n",
       " '中南财经政法大学.xlsx',\n",
       " '中央财经大学.xlsx',\n",
       " '北京工业大学.xlsx',\n",
       " '吉林大学.xlsx',\n",
       " '复旦大学.xlsx',\n",
       " '山东大学.xlsx',\n",
       " '江西财经大学.xlsx',\n",
       " '浙江工商大学.xlsx',\n",
       " '清华大学.xlsx',\n",
       " '西南财经大学.xlsx',\n",
       " '首都师范大学.xlsx',\n",
       " '首都经济贸易大学.xlsx']"
      ]
     },
     "execution_count": 11,
     "metadata": {},
     "output_type": "execute_result"
    }
   ],
   "source": [
    "fnames"
   ]
  },
  {
   "cell_type": "code",
   "execution_count": 7,
   "metadata": {},
   "outputs": [
    {
     "name": "stdout",
     "output_type": "stream",
     "text": [
      "~$北京工业大学.xlsx\n"
     ]
    }
   ],
   "source": [
    "for name in fnames:\n",
    "    try:\n",
    "        data = pd.read_excel(data_path+'/'+name)\n",
    "    except:\n",
    "        print(name)\n",
    "        continue\n",
    "    counts = len(data)\n",
    "    row = {'学校':name.split('.')[0],'学科':'统计学','国家自然基金项目数':counts}\n",
    "    temp_list.append(row)\n",
    "df = pd.DataFrame(temp_list)\n",
    "df.to_excel('国家自然/国家自然-统计学-统计表.xlsx')"
   ]
  }
 ],
 "metadata": {
  "kernelspec": {
   "display_name": "Python 3",
   "language": "python",
   "name": "python3"
  },
  "language_info": {
   "codemirror_mode": {
    "name": "ipython",
    "version": 3
   },
   "file_extension": ".py",
   "mimetype": "text/x-python",
   "name": "python",
   "nbconvert_exporter": "python",
   "pygments_lexer": "ipython3",
   "version": "3.6.4"
  }
 },
 "nbformat": 4,
 "nbformat_minor": 2
}
