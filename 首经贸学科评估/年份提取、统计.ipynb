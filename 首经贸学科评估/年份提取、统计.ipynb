{
 "cells": [
  {
   "cell_type": "markdown",
   "metadata": {},
   "source": [
    "### 年份提取"
   ]
  },
  {
   "cell_type": "code",
   "execution_count": 15,
   "metadata": {},
   "outputs": [],
   "source": [
    "import pandas as pd\n",
    "def get_dir_filenames(path,ftype):\n",
    "    '''获取目录下所有指定格式的文件名'''\n",
    "    import os\n",
    "    names = []\n",
    "    for root, dirs, files in os.walk(path):\n",
    "        for file in files:\n",
    "            if ftype in file:\n",
    "                names.append(file)\n",
    "    return names\n",
    "\n",
    "fnames = get_dir_filenames('论文数据-大口径-南大核心刊','.xlsx')\n",
    "\n",
    "for name in fnames:\n",
    "    data = pd.read_excel('论文数据-大口径-南大核心刊/'+name)\n",
    "    temp = []\n",
    "    for index,row in data.iterrows():\n",
    "        try:\n",
    "            if int(row['Year-年']) > 2015:\n",
    "                temp.append(row)\n",
    "        except:\n",
    "            pass\n",
    "    df = pd.DataFrame(temp)\n",
    "    df.to_excel('论文数据-大口径-南大核心刊/'+name)"
   ]
  },
  {
   "cell_type": "markdown",
   "metadata": {},
   "source": [
    "### 高校学科分类存储"
   ]
  },
  {
   "cell_type": "code",
   "execution_count": 8,
   "metadata": {
    "scrolled": true
   },
   "outputs": [],
   "source": [
    "import pandas as pd\n",
    "col_jjx = pd.read_excel('高校名单.xlsx',sheet_name='经济学')['高校名称']\n",
    "col_glx = pd.read_excel('高校名单.xlsx',sheet_name='管理学')['高校名称']\n",
    "col_tjx = pd.read_excel('高校名单.xlsx',sheet_name='统计学')['高校名称']"
   ]
  },
  {
   "cell_type": "code",
   "execution_count": 11,
   "metadata": {},
   "outputs": [],
   "source": [
    "dic = {}\n",
    "for item in col_glx:\n",
    "    dic[item] = []\n",
    "\n",
    "data = pd.read_excel('小口径-工商管理.xlsx')\n",
    "for index,row in data.iterrows():\n",
    "    for col in col_glx:\n",
    "        if col in row['Organ-单位']:\n",
    "            dic[col].append(row)\n",
    "for key in dic:\n",
    "    df = pd.DataFrame(dic[key])\n",
    "    df.to_excel('小口径-工商管理/'+key+'.xlsx')"
   ]
  },
  {
   "cell_type": "markdown",
   "metadata": {},
   "source": [
    "### 小口径-入围统计"
   ]
  },
  {
   "cell_type": "code",
   "execution_count": 14,
   "metadata": {},
   "outputs": [],
   "source": [
    "dic = {}\n",
    "for item in col_glx:\n",
    "    dic[item] = 0\n",
    "\n",
    "data = pd.read_excel('小口径-工商管理.xlsx')\n",
    "for index,row in data.iterrows():\n",
    "    for col in col_glx:\n",
    "        if col in row['Organ-单位']:\n",
    "            dic[col]+=1\n",
    "temp = []\n",
    "for key in dic:\n",
    "    row = {'学科':'工商管理','高校名称':key,'小口径入围数':dic[key]}\n",
    "    temp.append(row)\n",
    "df = pd.DataFrame(temp)\n",
    "df.to_excel('小口径-工商管理-统计表.xlsx')"
   ]
  },
  {
   "cell_type": "code",
   "execution_count": null,
   "metadata": {},
   "outputs": [],
   "source": []
  }
 ],
 "metadata": {
  "kernelspec": {
   "display_name": "Python 3",
   "language": "python",
   "name": "python3"
  },
  "language_info": {
   "codemirror_mode": {
    "name": "ipython",
    "version": 3
   },
   "file_extension": ".py",
   "mimetype": "text/x-python",
   "name": "python",
   "nbconvert_exporter": "python",
   "pygments_lexer": "ipython3",
   "version": "3.6.4"
  }
 },
 "nbformat": 4,
 "nbformat_minor": 2
}
