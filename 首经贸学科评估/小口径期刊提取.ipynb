{
 "cells": [
  {
   "cell_type": "code",
   "execution_count": 10,
   "metadata": {},
   "outputs": [
    {
     "data": {
      "text/plain": [
       "Index(['SrcDatabase-来源库', 'Title-题名', 'Author-作者', 'Organ-单位', 'Source-文献来源',\n",
       "       'Keyword-关键词', 'Summary-摘要', 'PubTime-发表时间', 'FirstDuty-第一责任人',\n",
       "       'Fund-基金', 'Year-年', 'Volume-卷', 'Period-期', 'PageCount-页码',\n",
       "       'CLC-中图分类号'],\n",
       "      dtype='object')"
      ]
     },
     "execution_count": 10,
     "metadata": {},
     "output_type": "execute_result"
    }
   ],
   "source": [
    "import pandas as pd\n",
    "data = pd.read_excel('知网-管理学-汇总.xlsx')\n",
    "data.keys()"
   ]
  },
  {
   "cell_type": "code",
   "execution_count": 11,
   "metadata": {},
   "outputs": [],
   "source": [
    "def is_from(text,magazines):\n",
    "    if text in magazines:\n",
    "        return True\n",
    "    return False\n",
    "#magazines = ['经济研究','中国工业经济','世界经济','财贸经济','经济学季刊','金融研究'] #经济学\n",
    "#magazines = ['数理统计与管理','统计研究']\n",
    "magazines = ['管理世界','中国软科学','中国工业经济','管理科学学报','管理学报','会计研究','南开管理评论','心理学报','经济管理','经济研究','科学研究','改革']\n",
    "\n",
    "temp_list = []\n",
    "for index, row in data.iterrows():\n",
    "    if is_from(row['Source-文献来源'],magazines):\n",
    "        temp_list.append(row)\n",
    "df = pd.DataFrame(temp_list)\n",
    "df.to_excel('小口径-工商管理.xlsx')"
   ]
  },
  {
   "cell_type": "markdown",
   "metadata": {},
   "source": [
    "### 高校学科分类存储"
   ]
  },
  {
   "cell_type": "code",
   "execution_count": 4,
   "metadata": {},
   "outputs": [],
   "source": [
    "import pandas as pd\n",
    "col_jjx = pd.read_excel('高校名单.xlsx',sheet_name='经济学')['高校名称']\n",
    "col_glx = pd.read_excel('高校名单.xlsx',sheet_name='管理学')['高校名称']\n",
    "col_tjx = pd.read_excel('高校名单.xlsx',sheet_name='统计学')['高校名称']"
   ]
  },
  {
   "cell_type": "code",
   "execution_count": 8,
   "metadata": {},
   "outputs": [],
   "source": [
    "dic = {}\n",
    "for item in col_tjx:\n",
    "    dic[item] = []\n",
    "\n",
    "data = pd.read_excel('小口径-统计学.xlsx')\n",
    "for index,row in data.iterrows():\n",
    "    for col in col_tjx:\n",
    "        if col in row['Organ-单位']:\n",
    "            dic[col].append(row)\n",
    "for key in dic:\n",
    "    df = pd.DataFrame(dic[key])\n",
    "    df.to_excel('小口径-统计学/'+key+'.xlsx')\n",
    "    "
   ]
  },
  {
   "cell_type": "markdown",
   "metadata": {},
   "source": [
    "### 小口径-统计"
   ]
  },
  {
   "cell_type": "code",
   "execution_count": 9,
   "metadata": {},
   "outputs": [],
   "source": [
    "dic = {}\n",
    "for item in col_tjx:\n",
    "    dic[item] = 0\n",
    "\n",
    "data = pd.read_excel('小口径-统计学.xlsx')\n",
    "for index,row in data.iterrows():\n",
    "    for col in col_tjx:\n",
    "        if col in row['Organ-单位']:\n",
    "            dic[col]+=1\n",
    "temp = []\n",
    "for key in dic:\n",
    "    row = {'学科':'统计学','高校名称':key,'小口径入围数':dic[key]}\n",
    "    temp.append(row)\n",
    "df = pd.DataFrame(temp)\n",
    "df.to_excel('小口径-统计学-统计表.xlsx')"
   ]
  }
 ],
 "metadata": {
  "kernelspec": {
   "display_name": "Python 3",
   "language": "python",
   "name": "python3"
  },
  "language_info": {
   "codemirror_mode": {
    "name": "ipython",
    "version": 3
   },
   "file_extension": ".py",
   "mimetype": "text/x-python",
   "name": "python",
   "nbconvert_exporter": "python",
   "pygments_lexer": "ipython3",
   "version": "3.6.4"
  }
 },
 "nbformat": 4,
 "nbformat_minor": 2
}
