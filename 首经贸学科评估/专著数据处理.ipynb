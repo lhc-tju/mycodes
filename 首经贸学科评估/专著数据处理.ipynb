{
 "cells": [
  {
   "cell_type": "markdown",
   "metadata": {},
   "source": [
    "### 通用模块代码"
   ]
  },
  {
   "cell_type": "code",
   "execution_count": 2,
   "metadata": {},
   "outputs": [],
   "source": [
    "import pandas as pd\n",
    "def get_dir_filenames(path,ftype):\n",
    "    '''获取目录下所有指定格式的文件名'''\n",
    "    import os\n",
    "    names = []\n",
    "    for root, dirs, files in os.walk(path):\n",
    "        for file in files:\n",
    "            if ftype in file:\n",
    "                names.append(file)\n",
    "    return names"
   ]
  },
  {
   "cell_type": "code",
   "execution_count": 8,
   "metadata": {},
   "outputs": [],
   "source": [
    "dpath = '首经贸/应用经济学'\n",
    "fnames = get_dir_filenames(dpath,'.xlsx')\n",
    "temp = []\n",
    "for name in fnames:\n",
    "    df = pd.read_excel(dpath+'/'+name)\n",
    "    df['其他责任人'] = name.split('-')[0]\n",
    "    temp.append(df)\n",
    "df = pd.concat(temp)\n",
    "df.to_excel('首经贸/应用经济学-专著信息.xlsx')"
   ]
  },
  {
   "cell_type": "code",
   "execution_count": 18,
   "metadata": {},
   "outputs": [],
   "source": [
    "import re\n",
    "jjx = ['经济', '保险', '资本', '汇率', '货币', '财务', '税', '外汇', '贸易', '外资', '股票', '投资', '金融', '证券', '筹资', '基金', '股权', '银行', '信托', '债券', '财政', '货币', '银行', '企业管理', '财务', '会计', '市场', '成本', '利润', '市场规模', '城市化', '城镇化', '业绩', '支出', '效益', '通货膨胀', '投入产出', '进口', '出口', '民营', '绩效', '产能', '补贴', '失业', '房价', '物价', '信贷']\n",
    "tjx = ['统计', '样本', '测量', '尺度', '相关性', '相关系数', '数理', '国势', '政治算术']\n",
    "gsgl = ['市场', '工商管理', '工商', '管理', '上市', '公司', '注册会计师', '内部控制', '财政管理', '公司治理', '审计', '生产管理', '生产控制', '生产组织', '生产计划', '经营', '风险投资', '技术创新', '股权结构', '市场战略', '组织价值观', '市场导向', '质量', '绩效', '组织变革', '盈余', '股东控制', '财务', '投资', '企业控制', '筹资', '利润', '经济管理', '管理成本', '成本', '研发管理', '团队建设', '流程设计', '风险', '品牌', '人力资源', '人力', '绩效', '劳动', '福利管理', '管理福利', '会计', '企业战略', '资源规划']\n",
    "\n",
    "def is_in(kws,text):\n",
    "    for item in kws:\n",
    "        if item in text:\n",
    "            return True\n",
    "    return False"
   ]
  },
  {
   "cell_type": "code",
   "execution_count": 22,
   "metadata": {},
   "outputs": [
    {
     "name": "stdout",
     "output_type": "stream",
     "text": [
      "                       书名  出版年份             出版社 文献类型   第一作者 其他责任人\n",
      "0           海岸带典型生态系统碳汇管理  2016           海洋出版社   专著  丹·拉弗莱    刘丹\n",
      "7             废金属放射性监测与管理  2017  中国质检出版社中国标准出版社   专著    昃丹琦    刘丹\n",
      "8  北京沟域主导产业多样化发展与适度规模经营研究  2016         中国农业出版社   专著    刘瑞涵   刘建梅\n",
      "2             会计类岗位能力分级模型  2016         高等教育出版社   专著    李媛媛    刘静\n",
      "3      新编商品流通企业会计(第2版)习题集  2016         电子工业出版社   专著    卓茂荣    叶青\n"
     ]
    }
   ],
   "source": [
    "data = pd.read_excel('首经贸/工商管理-专著信息.xlsx')\n",
    "data = data.drop_duplicates()\n",
    "temp_list = []\n",
    "for index,row in data.iterrows():\n",
    "    if is_in(gsgl,row['书名']):\n",
    "        if '大学出版社' in row['出版社'] and '首都经济贸易大学出版社' not in row['出版社']:\n",
    "            continue #过滤其他大学出版社\n",
    "        temp_list.append(row)\n",
    "df = pd.DataFrame(temp_list)\n",
    "print(df.head())\n",
    "df.to_excel('首经贸/工商管理-专著-已筛选.xlsx',index=False)"
   ]
  },
  {
   "cell_type": "code",
   "execution_count": null,
   "metadata": {},
   "outputs": [],
   "source": []
  }
 ],
 "metadata": {
  "kernelspec": {
   "display_name": "Python 3",
   "language": "python",
   "name": "python3"
  },
  "language_info": {
   "codemirror_mode": {
    "name": "ipython",
    "version": 3
   },
   "file_extension": ".py",
   "mimetype": "text/x-python",
   "name": "python",
   "nbconvert_exporter": "python",
   "pygments_lexer": "ipython3",
   "version": "3.6.4"
  }
 },
 "nbformat": 4,
 "nbformat_minor": 2
}
