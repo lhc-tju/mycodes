{
 "cells": [
  {
   "cell_type": "code",
   "execution_count": 2,
   "metadata": {},
   "outputs": [],
   "source": [
    "import re\n",
    "import pandas as pd\n",
    "import numpy as np\n",
    "\n",
    "def get_dir_filenames(path,ftype):\n",
    "    '''获取目录下所有指定格式的文件名'''\n",
    "    import os\n",
    "    names = []\n",
    "    for root, dirs, files in os.walk(path):\n",
    "        for file in files:\n",
    "            if ftype in file:\n",
    "                names.append(file)\n",
    "    return names\n"
   ]
  },
  {
   "cell_type": "code",
   "execution_count": 4,
   "metadata": {},
   "outputs": [],
   "source": [
    "fnames = get_dir_filenames('统计学','.xlsx')\n",
    "rows = []\n",
    "for name in fnames:\n",
    "    df = pd.read_excel('统计学/'+name)\n",
    "    years = [x for x in df['PY-出版年']]\n",
    "    temp = pd.DataFrame(df['PY-出版年'].value_counts())\n",
    "    temp['学校'] = name.split('-')[0]\n",
    "    temp['学科'] = '统计学'\n",
    "    rows.append(temp)\n",
    "df = pd.concat(rows)\n",
    "df.to_excel('外文期刊-统计学-高校年度发文数统计.xlsx')"
   ]
  },
  {
   "cell_type": "code",
   "execution_count": 6,
   "metadata": {},
   "outputs": [],
   "source": [
    "fnames = get_dir_filenames('统计学','.xlsx')\n",
    "rows = []\n",
    "for name in fnames:\n",
    "    df = pd.read_excel('统计学/'+name)\n",
    "    counts = len(df)\n",
    "    col = name.split('-')[0]\n",
    "    sub = '统计学'\n",
    "    temp = {'学校':col,'学科':sub,'SCI/SSCI论文数':counts}\n",
    "    rows.append(temp)\n",
    "df = pd.DataFrame(rows)\n",
    "df.to_excel('外文期刊-统计学-统计表.xlsx')"
   ]
  },
  {
   "cell_type": "code",
   "execution_count": 18,
   "metadata": {},
   "outputs": [
    {
     "data": {
      "text/plain": [
       "6131"
      ]
     },
     "execution_count": 18,
     "metadata": {},
     "output_type": "execute_result"
    }
   ],
   "source": [
    "sum_"
   ]
  }
 ],
 "metadata": {
  "kernelspec": {
   "display_name": "Python 3",
   "language": "python",
   "name": "python3"
  },
  "language_info": {
   "codemirror_mode": {
    "name": "ipython",
    "version": 3
   },
   "file_extension": ".py",
   "mimetype": "text/x-python",
   "name": "python",
   "nbconvert_exporter": "python",
   "pygments_lexer": "ipython3",
   "version": "3.6.4"
  }
 },
 "nbformat": 4,
 "nbformat_minor": 2
}
