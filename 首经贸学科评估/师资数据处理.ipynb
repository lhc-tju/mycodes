{
 "cells": [
  {
   "cell_type": "markdown",
   "metadata": {},
   "source": [
    "### 长江学者数据处理"
   ]
  },
  {
   "cell_type": "code",
   "execution_count": 13,
   "metadata": {},
   "outputs": [],
   "source": [
    "import pandas as pd\n",
    "\n",
    "data = pd.read_excel('长江学者/2016长江学者.xlsx',sheet_name = '便于处理的数据')\n",
    "col = pd.read_excel('高校名单.xlsx',sheet_name='全部高校')\n",
    "col = [x for x in col['高校名称']]\n"
   ]
  },
  {
   "cell_type": "code",
   "execution_count": 14,
   "metadata": {},
   "outputs": [
    {
     "data": {
      "text/plain": [
       "Index(['推荐学校', '姓名', '岗位名称', '现任职单位'], dtype='object')"
      ]
     },
     "execution_count": 14,
     "metadata": {},
     "output_type": "execute_result"
    }
   ],
   "source": [
    "data.keys()"
   ]
  },
  {
   "cell_type": "code",
   "execution_count": 15,
   "metadata": {},
   "outputs": [
    {
     "data": {
      "text/plain": [
       "27"
      ]
     },
     "execution_count": 15,
     "metadata": {},
     "output_type": "execute_result"
    }
   ],
   "source": [
    "col = list(set(col))\n",
    "len(col)"
   ]
  },
  {
   "cell_type": "code",
   "execution_count": 1,
   "metadata": {},
   "outputs": [
    {
     "ename": "NameError",
     "evalue": "name 'data' is not defined",
     "output_type": "error",
     "traceback": [
      "\u001b[1;31m---------------------------------------------------------------------------\u001b[0m",
      "\u001b[1;31mNameError\u001b[0m                                 Traceback (most recent call last)",
      "\u001b[1;32m<ipython-input-1-20d068f1bb2d>\u001b[0m in \u001b[0;36m<module>\u001b[1;34m()\u001b[0m\n\u001b[0;32m      1\u001b[0m \u001b[0mtemp\u001b[0m \u001b[1;33m=\u001b[0m \u001b[1;33m[\u001b[0m\u001b[1;33m]\u001b[0m\u001b[1;33m\u001b[0m\u001b[0m\n\u001b[1;32m----> 2\u001b[1;33m \u001b[1;32mfor\u001b[0m \u001b[0mindex\u001b[0m\u001b[1;33m,\u001b[0m\u001b[0mrow\u001b[0m \u001b[1;32min\u001b[0m \u001b[0mdata\u001b[0m\u001b[1;33m.\u001b[0m\u001b[0miterrows\u001b[0m\u001b[1;33m(\u001b[0m\u001b[1;33m)\u001b[0m\u001b[1;33m:\u001b[0m\u001b[1;33m\u001b[0m\u001b[0m\n\u001b[0m\u001b[0;32m      3\u001b[0m     \u001b[1;32mfor\u001b[0m \u001b[0mcl\u001b[0m \u001b[1;32min\u001b[0m \u001b[0mcol\u001b[0m\u001b[1;33m:\u001b[0m\u001b[1;33m\u001b[0m\u001b[0m\n\u001b[0;32m      4\u001b[0m         \u001b[1;32mif\u001b[0m \u001b[0mcl\u001b[0m \u001b[1;32min\u001b[0m \u001b[0mrow\u001b[0m\u001b[1;33m[\u001b[0m\u001b[1;34m'推荐学校'\u001b[0m\u001b[1;33m]\u001b[0m\u001b[1;33m:\u001b[0m\u001b[1;33m\u001b[0m\u001b[0m\n\u001b[0;32m      5\u001b[0m             \u001b[0mtemp\u001b[0m\u001b[1;33m.\u001b[0m\u001b[0mappend\u001b[0m\u001b[1;33m(\u001b[0m\u001b[0mrow\u001b[0m\u001b[1;33m)\u001b[0m\u001b[1;33m\u001b[0m\u001b[0m\n",
      "\u001b[1;31mNameError\u001b[0m: name 'data' is not defined"
     ]
    }
   ],
   "source": [
    "temp = []\n",
    "for index,row in data.iterrows():\n",
    "    for cl in col:\n",
    "        if cl in row['推荐学校']:\n",
    "            temp.append(row)\n",
    "df = pd.DataFrame(temp)\n",
    "df.to_excel('相关高校-长江学者-2016.xlsx',index=False)\n"
   ]
  },
  {
   "cell_type": "code",
   "execution_count": 28,
   "metadata": {},
   "outputs": [
    {
     "data": {
      "text/plain": [
       "33"
      ]
     },
     "execution_count": 28,
     "metadata": {},
     "output_type": "execute_result"
    }
   ],
   "source": [
    "df = pd.read_excel('相关高校-长江学者-2016.xlsx')\n",
    "#d2 = pd.read_excel('相关高校-长江学者-2017.xlsx')\n",
    "\n",
    "#df = pd.concat([d1,d2])\n",
    "len(df)"
   ]
  },
  {
   "cell_type": "code",
   "execution_count": 31,
   "metadata": {},
   "outputs": [],
   "source": [
    "col1 = pd.read_excel('高校名单.xlsx',sheet_name= '经济学')['高校名称']\n",
    "col2 = pd.read_excel('高校名单.xlsx',sheet_name= '管理学')['高校名称']\n",
    "col3 = pd.read_excel('高校名单.xlsx',sheet_name= '统计学')['高校名称']\n",
    "col1 = [x for x in col1]\n",
    "col2 = [x for x in col2]\n",
    "col3 = [x for x in col3]"
   ]
  },
  {
   "cell_type": "code",
   "execution_count": 33,
   "metadata": {},
   "outputs": [
    {
     "name": "stdout",
     "output_type": "stream",
     "text": [
      "s\n",
      "s\n",
      "s\n",
      "s\n",
      "s\n",
      "s\n",
      "s\n",
      "s\n",
      "s\n",
      "s\n",
      "s\n",
      "s\n",
      "s\n"
     ]
    }
   ],
   "source": [
    "temp = []\n",
    "for index,row in df.iterrows():\n",
    "    if row['学科'] == '应用经济学' and row['推荐学校'].strip() in col1:\n",
    "        print('s')\n",
    "        temp.append(row)\n",
    "    if row['学科'] == '工商管理' and row['推荐学校'].strip() in col2:\n",
    "        temp.append(row)\n",
    "        print('s')\n",
    "    if row['学科'] == '统计学' and row['推荐学校'].strip() in col3:\n",
    "        temp.append(row)\n",
    "        print('s')\n",
    "my_df = pd.DataFrame(temp)\n",
    "my_df.to_excel('长江学者-汇总.xlsx')"
   ]
  },
  {
   "cell_type": "markdown",
   "metadata": {},
   "source": [
    "#### 优秀青年数据处理"
   ]
  },
  {
   "cell_type": "code",
   "execution_count": 26,
   "metadata": {},
   "outputs": [
    {
     "data": {
      "text/plain": [
       "Index(['序号', '申请人', '性别', '学位', '专业技术职务', '研究领域', '依托单位', '所在国别（地区）'], dtype='object')"
      ]
     },
     "execution_count": 26,
     "metadata": {},
     "output_type": "execute_result"
    }
   ],
   "source": [
    "import pandas as pd\n",
    "d2016 = pd.read_excel('学者数据/2016国家杰出青年.xlsx')\n",
    "d2017 =pd.read_excel('学者数据/2017国家杰出青年.xlsx')\n",
    "d2018 = pd.read_excel('学者数据/2018国家杰出青年.xlsx')\n"
   ]
  },
  {
   "cell_type": "code",
   "execution_count": 28,
   "metadata": {},
   "outputs": [
    {
     "name": "stdout",
     "output_type": "stream",
     "text": [
      "Index(['序号', '申请人', '性别', '学位', '专业技术职务', '研究领域', '依托单位', '所在国别（地区）'], dtype='object')\n",
      "Index(['序号', '申请人', '性别', '学位', '专业技术职务', '研究领域', '依托单位', '所在国别（地区）'], dtype='object')\n",
      "Index(['序号', '申请人', '性别', '学位', '专业技术职务', '研究领域', '依托单位', '所在国别（地区）'], dtype='object')\n"
     ]
    }
   ],
   "source": [
    "print(d2017.keys())\n",
    "print(d2018.keys())\n",
    "print(d2016.keys())"
   ]
  },
  {
   "cell_type": "code",
   "execution_count": 21,
   "metadata": {},
   "outputs": [],
   "source": [
    "d2017 = d2017[['项目名称','项目负责人','依托单位']]\n",
    "d2018 =  d2018[['项目名称','项目负责人','依托单位']]"
   ]
  },
  {
   "cell_type": "code",
   "execution_count": 29,
   "metadata": {},
   "outputs": [
    {
     "name": "stdout",
     "output_type": "stream",
     "text": [
      "Index(['序号', '申请人', '性别', '学位', '专业技术职务', '研究领域', '依托单位', '所在国别（地区）'], dtype='object')\n"
     ]
    }
   ],
   "source": [
    "df = pd.concat([d2016,d2017,d2018])\n",
    "college = pd.read_excel('高校名单.xlsx',sheet_name='全部高校')['高校名称']\n",
    "cols = [x for x in college]\n",
    "temp = []\n",
    "for index,row in df.iterrows():\n",
    "    if row['依托单位'].strip() in cols:\n",
    "        temp.append(row)\n",
    "df = pd.DataFrame(temp)\n",
    "df.to_excel('临时数据/相关高校-杰出青年.xlsx')\n",
    "print(df.keys())"
   ]
  },
  {
   "cell_type": "markdown",
   "metadata": {},
   "source": [
    "### 从相关数据里面根据学科进行筛选"
   ]
  },
  {
   "cell_type": "code",
   "execution_count": 13,
   "metadata": {},
   "outputs": [],
   "source": [
    "jjx = ['经济', '保险', '资本', '汇率', '货币', '财务', '税', '外汇', '贸易', '外资', '股票', '投资', '金融', '证券', '筹资', '基金', '股权', '银行', '信托', '债券', '财政', '货币', '银行', '企业管理', '财务', '会计', '市场', '成本', '利润', '市场规模', '城市化', '城镇化', '业绩', '支出', '效益', '通货膨胀', '投入产出', '进口', '出口', '民营', '绩效', '产能', '补贴', '失业', '房价', '物价', '信贷']\n",
    "tjx = ['统计', '样本', '测量', '尺度', '相关性', '相关系数', '数理', '国势', '政治算术']\n",
    "gsgl = ['市场', '工商管理', '工商', '管理', '上市', '公司', '注册会计师', '内部控制', '财政管理', '公司治理', '审计', '生产管理', '生产控制', '生产组织', '生产计划', '经营', '风险投资', '技术创新', '股权结构', '市场战略', '组织价值观', '市场导向', '质量', '绩效', '组织变革', '盈余', '股东控制', '财务', '投资', '企业控制', '筹资', '利润', '经济管理', '管理成本', '成本', '研发管理', '团队建设', '流程设计', '风险', '品牌', '人力资源', '人力', '绩效', '劳动', '福利管理', '管理福利', '会计', '企业战略', '资源规划']\n",
    "\n",
    "def is_in(kws,text):\n",
    "    for item in kws:\n",
    "        if item in text:\n",
    "            return True\n",
    "    return False"
   ]
  },
  {
   "cell_type": "code",
   "execution_count": 36,
   "metadata": {},
   "outputs": [],
   "source": [
    "df1 = pd.read_excel('临时数据/相关高校-优秀青年.xlsx')\n",
    "college = pd.read_excel('高校名单.xlsx',sheet_name='经济学')['高校名称']\n",
    "cols1 = [x for x in college]\n",
    "college = pd.read_excel('高校名单.xlsx',sheet_name='统计学')['高校名称']\n",
    "cols2 = [x for x in college]\n",
    "college = pd.read_excel('高校名单.xlsx',sheet_name='管理学')['高校名称']\n",
    "cols3 = [x for x in college]\n",
    "\n",
    "temp_jjx = []\n",
    "temp_tjx = []\n",
    "temp_gsgl = []\n",
    "for index,row in df1.iterrows():\n",
    "    if is_in(cols1,row['依托单位']) and is_in(jjx,row['项目名称']):\n",
    "        temp_jjx.append(row)\n",
    "    if is_in(cols2,row['依托单位']) and is_in(tjx,row['项目名称']):\n",
    "        temp_tjx.append(row)\n",
    "    if is_in(cols3,row['依托单位']) and is_in(gsgl,row['项目名称']):\n",
    "        temp_gsgl.append(row)\n",
    "df1 = pd.DataFrame(temp_jjx)\n",
    "df1.to_excel('临时数据/相关高校-优秀青年-应用经济学.xlsx')\n",
    "df2 = pd.DataFrame(temp_tjx)\n",
    "df2.to_excel('临时数据/相关高校-优秀青年-统计学.xlsx')\n",
    "df3 = pd.DataFrame(temp_gsgl)\n",
    "df3.to_excel('临时数据/相关高校-优秀青年-工商管理.xlsx')\n",
    "\n",
    "        "
   ]
  }
 ],
 "metadata": {
  "kernelspec": {
   "display_name": "Python 3",
   "language": "python",
   "name": "python3"
  },
  "language_info": {
   "codemirror_mode": {
    "name": "ipython",
    "version": 3
   },
   "file_extension": ".py",
   "mimetype": "text/x-python",
   "name": "python",
   "nbconvert_exporter": "python",
   "pygments_lexer": "ipython3",
   "version": "3.6.4"
  }
 },
 "nbformat": 4,
 "nbformat_minor": 2
}
