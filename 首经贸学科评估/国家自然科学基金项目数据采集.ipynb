{
 "cells": [
  {
   "cell_type": "code",
   "execution_count": 2,
   "metadata": {},
   "outputs": [],
   "source": [
    "import pandas as pd\n",
    "from time import sleep\n",
    "import re\n",
    "import threading\n",
    "import random\n",
    "from selenium import webdriver # 从selenium导入webdriver\n",
    "from selenium.webdriver.common.keys import Keys\n",
    "from selenium.webdriver.support.select import Select\n",
    "from selenium.webdriver.support import expected_conditions as EC\n",
    "from selenium.webdriver.common.by import By\n",
    "from selenium.webdriver.support.ui import WebDriverWait\n",
    "import os\n",
    "from itertools import product\n",
    "\n",
    "colleges = pd.read_excel('高校名单.xlsx',sheet_name='统计学')\n",
    "colleges = set(colleges['高校名称'])\n",
    "index_url = 'http://www.letpub.com.cn/index.php?page=grant'\n",
    "with open('项目数据/国家自然-统计学-经济学/succeed.txt','r',encoding='utf-8') as f:\n",
    "    data= f.readlines()\n",
    "succeed = [x for x in data]"
   ]
  },
  {
   "cell_type": "code",
   "execution_count": 4,
   "metadata": {},
   "outputs": [
    {
     "name": "stdout",
     "output_type": "stream",
     "text": [
      "吉林大学 ok\n",
      "中南财经政法大学没有检索结果\n",
      "山东大学没有检索结果\n",
      "江西财经大学没有检索结果\n",
      "首都师范大学没有检索结果\n",
      "清华大学 ok\n",
      "首都经济贸易大学 ok\n",
      "西南财经大学没有检索结果\n",
      "北京工业大学没有检索结果\n",
      "浙江工商大学没有检索结果\n",
      "中南大学没有检索结果\n",
      "中央财经大学没有检索结果\n",
      "北京交通大学没有检索结果\n",
      "对外经贸大学没有检索结果\n",
      "东北财经大学 ok\n",
      "复旦大学 ok\n",
      "全部采集完毕\n"
     ]
    }
   ],
   "source": [
    "for col in colleges:\n",
    "    alldata = []\n",
    "    if col in succeed:\n",
    "        print(col + '之前采集完毕')\n",
    "        continue\n",
    "    driver = webdriver.Chrome()\n",
    "    driver.get(index_url)\n",
    "    sleep(1)\n",
    "    ad = driver.find_element_by_class_name('layui-layer-setwin').find_element_by_tag_name('a')\n",
    "    ad.click() #关掉广告\n",
    "    unit = driver.find_element_by_id('company')\n",
    "    unit.send_keys(col)\n",
    "    sleep(1)\n",
    "    Select(driver.find_element_by_id('addcomment_s1')).select_by_value('G') # 学科类别 G管理学部 A数理科学\n",
    "    #Select(driver.find_element_by_id('addcomment_s2')).select_by_value('G02') # 02工商管理，03经济科学\n",
    "    Select(driver.find_element_by_id('addcomment_s2')).select_by_value('G03') # 一级学科 02工商管理，03经济科学\n",
    "    Select(driver.find_element_by_id('addcomment_s3')).select_by_value('G0303') #二级学科    \n",
    "    Select(driver.find_element_by_id('startTime')).select_by_value('2016') #  开始年限，（截止年限默认2018）\n",
    "    sleep(1)\n",
    "    driver.find_element_by_id('submit').click()\n",
    "    sleep(3)\n",
    "    center = driver.find_element_by_tag_name('center').text\n",
    "    counts = re.findall(r'共(\\d+)页',center)[0]\n",
    "    if int(counts) == 0:\n",
    "        print(col + '没有检索结果')\n",
    "        succeed.append(col)\n",
    "        driver.quit()\n",
    "        continue\n",
    "    for i in range(int(counts)):\n",
    "        all_message = driver.find_element_by_class_name('table_yjfx').find_elements_by_tag_name('td')[1:] #去掉开头结尾的td\n",
    "        i = 0\n",
    "        one_item = []\n",
    "        for item in all_message:\n",
    "            if i < 15:\n",
    "                one_item.append(item.text)\n",
    "                i+=1\n",
    "            else:\n",
    "                i = 0\n",
    "                alldata.append(one_item) #汇总\n",
    "                one_item = []\n",
    "                one_item.append(item.text)#15\n",
    "                i+=1\n",
    "        next_page = driver.find_element_by_link_text(u'下一页') # 下一页\n",
    "        next_page.click()\n",
    "    #结束该学校\n",
    "    driver.quit()\n",
    "    columns = ['负责人','单位','金额 (万)','项目编号','项目类型','所属学部','批准年份','题目','题目','学科分类','学科分类','学科代码','学科代码','执行时间','执行时间']\n",
    "    df = pd.DataFrame(alldata,columns=columns)\n",
    "    df.to_excel('项目数据/国家自然-统计学-经济学/' + col + '.xlsx' )\n",
    "    print(col+' ok')\n",
    "    succeed.append(col)\n",
    "\n",
    "with open('项目数据/国家自然-统计学-经济学/succeed.txt','w',encoding='utf-8') as f:\n",
    "    for item in succeed:\n",
    "        f.write(item)\n",
    "        f.write('\\n')\n",
    "print('全部采集完毕')"
   ]
  },
  {
   "cell_type": "code",
   "execution_count": 2,
   "metadata": {},
   "outputs": [
    {
     "ename": "NameError",
     "evalue": "name 'alldata' is not defined",
     "output_type": "error",
     "traceback": [
      "\u001b[1;31m---------------------------------------------------------------------------\u001b[0m",
      "\u001b[1;31mNameError\u001b[0m                                 Traceback (most recent call last)",
      "\u001b[1;32m<ipython-input-2-e80369773932>\u001b[0m in \u001b[0;36m<module>\u001b[1;34m()\u001b[0m\n\u001b[1;32m----> 1\u001b[1;33m \u001b[0malldata\u001b[0m\u001b[1;33m\u001b[0m\u001b[0m\n\u001b[0m",
      "\u001b[1;31mNameError\u001b[0m: name 'alldata' is not defined"
     ]
    }
   ],
   "source": [
    "alldata"
   ]
  },
  {
   "cell_type": "code",
   "execution_count": 21,
   "metadata": {},
   "outputs": [],
   "source": [
    "columns = ['负责人','单位','金额 (万)','项目编号','项目类型','所属学部','批准年份','题目','题目','学科分类','学科分类','学科代码','学科代码','执行时间','执行时间']\n",
    "df = pd.DataFrame(alldata,columns=columns)\n",
    "df.to_excel('国家自然科学基金项目.xlsx')"
   ]
  },
  {
   "cell_type": "code",
   "execution_count": 28,
   "metadata": {},
   "outputs": [
    {
     "data": {
      "text/plain": [
       "山东财经大学      27\n",
       "山西财经大学      18\n",
       "江西财经大学       9\n",
       "华中科技大学       9\n",
       "山东大学         9\n",
       "吉林大学         9\n",
       "南京大学         9\n",
       "首都经济贸易大学     9\n",
       "中南大学         9\n",
       "天津财经大学       9\n",
       "西南财经大学       9\n",
       "武汉大学         9\n",
       "北京工业大学       9\n",
       "清华大学         9\n",
       "中央财经大学       9\n",
       "浙江大学         9\n",
       "湖南大学         9\n",
       "浙江财经大学       9\n",
       "中南财经政法大学     9\n",
       "浙江工商大学       9\n",
       "复旦大学         9\n",
       "北京交通大学       9\n",
       "中山大学         9\n",
       "首都师范大学       9\n",
       "东北财经大学       9\n",
       "辽宁大学         9\n",
       "Name: 单位, dtype: int64"
      ]
     },
     "execution_count": 28,
     "metadata": {},
     "output_type": "execute_result"
    }
   ],
   "source": [
    "df['单位'].value_counts()"
   ]
  },
  {
   "cell_type": "code",
   "execution_count": 26,
   "metadata": {},
   "outputs": [
    {
     "data": {
      "text/plain": [
       "27"
      ]
     },
     "execution_count": 26,
     "metadata": {},
     "output_type": "execute_result"
    }
   ],
   "source": [
    "len(colleges)"
   ]
  }
 ],
 "metadata": {
  "kernelspec": {
   "display_name": "Python 3",
   "language": "python",
   "name": "python3"
  },
  "language_info": {
   "codemirror_mode": {
    "name": "ipython",
    "version": 3
   },
   "file_extension": ".py",
   "mimetype": "text/x-python",
   "name": "python",
   "nbconvert_exporter": "python",
   "pygments_lexer": "ipython3",
   "version": "3.6.4"
  }
 },
 "nbformat": 4,
 "nbformat_minor": 2
}
